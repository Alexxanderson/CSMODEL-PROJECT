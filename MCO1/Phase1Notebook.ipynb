{
 "cells": [
  {
   "cell_type": "markdown",
   "id": "4192360d",
   "metadata": {},
   "source": [
    "# MCO1 \n",
    "\n",
    "// Project Details Details\n",
    "\n",
    "### GARYNATION (S13)\n",
    "1. Bien Aaron Miranda\n",
    "2. Luis Miguel Rana\n",
    "3. Karl Andre Aquino\n",
    "4. Dominic Luis Baccay"
   ]
  },
  {
   "cell_type": "markdown",
   "id": "03db10e5",
   "metadata": {},
   "source": [
    "### Python Libraries\n",
    "\n",
    "Import numpy and pandas.\n",
    "\n",
    "pandas is a software library for Python which provides data structures and data analysis tools."
   ]
  },
  {
   "cell_type": "code",
   "execution_count": 3,
   "id": "15382ed8",
   "metadata": {},
   "outputs": [],
   "source": [
    "import numpy as np\n",
    "import pandas as pd\n"
   ]
  },
  {
   "cell_type": "markdown",
   "id": "92a801c6",
   "metadata": {},
   "source": [
    "## The Dataset\n",
    "\n",
    "    /////Give details about the dataset, what is inside the dataset, the variables, etc.\n",
    "    \n",
    "    A collection of YouTube giants, this dataset offers a perfect avenue to analyze and gain valuable insights from the luminaries of the platform. With comprehensive details on top creators' subscriber counts, video views, upload frequency, country of origin, earnings, and more, this treasure trove of information is a must-explore for aspiring content creators, data enthusiasts, and anyone intrigued by the ever-evolving online content landscape."
   ]
  },
  {
   "cell_type": "code",
   "execution_count": 4,
   "id": "a3a91822",
   "metadata": {},
   "outputs": [],
   "source": [
    "#encoding came from the discussion so that it is readable\n",
    "youtube_df = pd.read_csv(\"Global YouTube Statistics.csv\", encoding='iso-8859-1')"
   ]
  },
  {
   "cell_type": "markdown",
   "id": "f7874cee",
   "metadata": {},
   "source": [
    "If you view the `.csv` file in Excel, you can see that our dataset contains about 995 **observations** (rows) across 28 **variables** (columns). The following are the descriptions of each variable in the dataset.\n",
    "\n",
    "- **`rank`**: Position of the YouTube channel based on the number of subscribers\n",
    "- **`Youtuber`**: Name of the YouTube channel\n",
    "- **`subscribers`**: Number of subscribers to the channel\n",
    "- **`video views`**: Overall count views to the channel\n",
    "- **`category`**: Category or niche of the channel\n",
    "- **`Title`**: Title\n",
    "- **`uploads`**: Total number of videos uploaded on the channel\n",
    "- **`Country`**: Country where the YouTube channel originates\n",
    "- **`Abbreviation`**: Abbreviation of the country\n",
    "- **`channel_type`**: Type of the YouTube channel (e.g., individual, brand)\n",
    "- **`video_views_rank`**: Ranking of the channel based on total video views\n",
    "- **`country_rank`**: Ranking of the channel based on the number of subscribers within its country\n",
    "- **`channel_type_rank`**: Ranking of the channel based on its type (individual or brand)\n",
    "- **`video_views_for_the_last_30_days`**: Total video views in the last 30 days\n",
    "- **`lowest_monthly_earnings`**: Lowest estimated monthly earnings from the channel \\$\n",
    "- **`highest_monthly_earnings`**: Highest estimated monthly earnings from the channel \\$\n",
    "- **`lowest_yearly_earnings`**: Lowest estimated yearly earnings from the channel \\$\n",
    "- **`highest_yearly_earnings`**: Highest estimated yearly earnings from the channel $\n",
    "- **`subscribers_for_last_30_days`**: Number of new subscribers gained in the last 30 days\n",
    "- **`created_year`**: Year when the YouTube channel was created\n",
    "- **`created_month`**: Month when the YouTube channel was created\n",
    "- **`created_date`**: Exact date of the YouTube channel's creation\n",
    "- **`Gross tertiary education enrollment (\\%)`**: Percentage of the population enrolled in tertiary education in the country %\n",
    "- **`Population`**: Total population of the country\n",
    "- **`Unemployment rate`**: Unemployment rate in the country %\n",
    "- **`Urban_population`**: Percentage of the population living in urban areas %\n",
    "- **`Latitude`**: Latitude coordinate of the country's location\n",
    "- **`Longitude`**: Longitude coordinate of the country's location"
   ]
  },
  {
   "cell_type": "markdown",
   "id": "e061dad8",
   "metadata": {},
   "source": [
    "## Reading the Dataset\n",
    "\n",
    "Our first step is to load the dataset using pandas. This will load the dataset into a pandas DataFrame. To load the dataset, we use the read_csv function. Note that you may need to change the path depending on the location of the file in your machine.\n",
    "\n",
    "Will also tackle about what can be seen in the Dataset as a DataFrame"
   ]
  },
  {
   "cell_type": "code",
   "execution_count": 5,
   "id": "b1f9b083",
   "metadata": {},
   "outputs": [
    {
     "name": "stdout",
     "output_type": "stream",
     "text": [
      "<class 'pandas.core.frame.DataFrame'>\n",
      "RangeIndex: 995 entries, 0 to 994\n",
      "Data columns (total 28 columns):\n",
      " #   Column                                   Non-Null Count  Dtype  \n",
      "---  ------                                   --------------  -----  \n",
      " 0   rank                                     995 non-null    int64  \n",
      " 1   Youtuber                                 995 non-null    object \n",
      " 2   subscribers                              995 non-null    int64  \n",
      " 3   video views                              995 non-null    float64\n",
      " 4   category                                 949 non-null    object \n",
      " 5   Title                                    995 non-null    object \n",
      " 6   uploads                                  995 non-null    int64  \n",
      " 7   Country                                  873 non-null    object \n",
      " 8   Abbreviation                             873 non-null    object \n",
      " 9   channel_type                             965 non-null    object \n",
      " 10  video_views_rank                         994 non-null    float64\n",
      " 11  country_rank                             879 non-null    float64\n",
      " 12  channel_type_rank                        962 non-null    float64\n",
      " 13  video_views_for_the_last_30_days         939 non-null    float64\n",
      " 14  lowest_monthly_earnings                  995 non-null    float64\n",
      " 15  highest_monthly_earnings                 995 non-null    float64\n",
      " 16  lowest_yearly_earnings                   995 non-null    float64\n",
      " 17  highest_yearly_earnings                  995 non-null    float64\n",
      " 18  subscribers_for_last_30_days             658 non-null    float64\n",
      " 19  created_year                             990 non-null    float64\n",
      " 20  created_month                            990 non-null    object \n",
      " 21  created_date                             990 non-null    float64\n",
      " 22  Gross tertiary education enrollment (%)  872 non-null    float64\n",
      " 23  Population                               872 non-null    float64\n",
      " 24  Unemployment rate                        872 non-null    float64\n",
      " 25  Urban_population                         872 non-null    float64\n",
      " 26  Latitude                                 872 non-null    float64\n",
      " 27  Longitude                                872 non-null    float64\n",
      "dtypes: float64(18), int64(3), object(7)\n",
      "memory usage: 217.8+ KB\n"
     ]
    }
   ],
   "source": [
    "youtube_df.info()"
   ]
  },
  {
   "cell_type": "markdown",
   "id": "2e57718e",
   "metadata": {},
   "source": [
    "### Examining the observations within the Dataset\n",
    "\n",
    "    \n",
    "To gain a better understanding of the observations within the dataset, it's essential to examine their appearance or visual representation. This can provide valuable insights and help you make informed decisions based on the data."
   ]
  },
  {
   "cell_type": "code",
   "execution_count": 6,
   "id": "42354e15",
   "metadata": {},
   "outputs": [
    {
     "data": {
      "text/html": [
       "<div>\n",
       "<style scoped>\n",
       "    .dataframe tbody tr th:only-of-type {\n",
       "        vertical-align: middle;\n",
       "    }\n",
       "\n",
       "    .dataframe tbody tr th {\n",
       "        vertical-align: top;\n",
       "    }\n",
       "\n",
       "    .dataframe thead th {\n",
       "        text-align: right;\n",
       "    }\n",
       "</style>\n",
       "<table border=\"1\" class=\"dataframe\">\n",
       "  <thead>\n",
       "    <tr style=\"text-align: right;\">\n",
       "      <th></th>\n",
       "      <th>rank</th>\n",
       "      <th>Youtuber</th>\n",
       "      <th>subscribers</th>\n",
       "      <th>video views</th>\n",
       "      <th>category</th>\n",
       "      <th>Title</th>\n",
       "      <th>uploads</th>\n",
       "      <th>Country</th>\n",
       "      <th>Abbreviation</th>\n",
       "      <th>channel_type</th>\n",
       "      <th>...</th>\n",
       "      <th>subscribers_for_last_30_days</th>\n",
       "      <th>created_year</th>\n",
       "      <th>created_month</th>\n",
       "      <th>created_date</th>\n",
       "      <th>Gross tertiary education enrollment (%)</th>\n",
       "      <th>Population</th>\n",
       "      <th>Unemployment rate</th>\n",
       "      <th>Urban_population</th>\n",
       "      <th>Latitude</th>\n",
       "      <th>Longitude</th>\n",
       "    </tr>\n",
       "  </thead>\n",
       "  <tbody>\n",
       "    <tr>\n",
       "      <th>0</th>\n",
       "      <td>1</td>\n",
       "      <td>T-Series</td>\n",
       "      <td>245000000</td>\n",
       "      <td>2.280000e+11</td>\n",
       "      <td>Music</td>\n",
       "      <td>T-Series</td>\n",
       "      <td>20082</td>\n",
       "      <td>India</td>\n",
       "      <td>IN</td>\n",
       "      <td>Music</td>\n",
       "      <td>...</td>\n",
       "      <td>2000000.0</td>\n",
       "      <td>2006.0</td>\n",
       "      <td>Mar</td>\n",
       "      <td>13.0</td>\n",
       "      <td>28.1</td>\n",
       "      <td>1.366418e+09</td>\n",
       "      <td>5.36</td>\n",
       "      <td>471031528.0</td>\n",
       "      <td>20.593684</td>\n",
       "      <td>78.962880</td>\n",
       "    </tr>\n",
       "    <tr>\n",
       "      <th>1</th>\n",
       "      <td>2</td>\n",
       "      <td>YouTube Movies</td>\n",
       "      <td>170000000</td>\n",
       "      <td>0.000000e+00</td>\n",
       "      <td>Film &amp; Animation</td>\n",
       "      <td>youtubemovies</td>\n",
       "      <td>1</td>\n",
       "      <td>United States</td>\n",
       "      <td>US</td>\n",
       "      <td>Games</td>\n",
       "      <td>...</td>\n",
       "      <td>NaN</td>\n",
       "      <td>2006.0</td>\n",
       "      <td>Mar</td>\n",
       "      <td>5.0</td>\n",
       "      <td>88.2</td>\n",
       "      <td>3.282395e+08</td>\n",
       "      <td>14.70</td>\n",
       "      <td>270663028.0</td>\n",
       "      <td>37.090240</td>\n",
       "      <td>-95.712891</td>\n",
       "    </tr>\n",
       "    <tr>\n",
       "      <th>2</th>\n",
       "      <td>3</td>\n",
       "      <td>MrBeast</td>\n",
       "      <td>166000000</td>\n",
       "      <td>2.836884e+10</td>\n",
       "      <td>Entertainment</td>\n",
       "      <td>MrBeast</td>\n",
       "      <td>741</td>\n",
       "      <td>United States</td>\n",
       "      <td>US</td>\n",
       "      <td>Entertainment</td>\n",
       "      <td>...</td>\n",
       "      <td>8000000.0</td>\n",
       "      <td>2012.0</td>\n",
       "      <td>Feb</td>\n",
       "      <td>20.0</td>\n",
       "      <td>88.2</td>\n",
       "      <td>3.282395e+08</td>\n",
       "      <td>14.70</td>\n",
       "      <td>270663028.0</td>\n",
       "      <td>37.090240</td>\n",
       "      <td>-95.712891</td>\n",
       "    </tr>\n",
       "    <tr>\n",
       "      <th>3</th>\n",
       "      <td>4</td>\n",
       "      <td>Cocomelon - Nursery Rhymes</td>\n",
       "      <td>162000000</td>\n",
       "      <td>1.640000e+11</td>\n",
       "      <td>Education</td>\n",
       "      <td>Cocomelon - Nursery Rhymes</td>\n",
       "      <td>966</td>\n",
       "      <td>United States</td>\n",
       "      <td>US</td>\n",
       "      <td>Education</td>\n",
       "      <td>...</td>\n",
       "      <td>1000000.0</td>\n",
       "      <td>2006.0</td>\n",
       "      <td>Sep</td>\n",
       "      <td>1.0</td>\n",
       "      <td>88.2</td>\n",
       "      <td>3.282395e+08</td>\n",
       "      <td>14.70</td>\n",
       "      <td>270663028.0</td>\n",
       "      <td>37.090240</td>\n",
       "      <td>-95.712891</td>\n",
       "    </tr>\n",
       "    <tr>\n",
       "      <th>4</th>\n",
       "      <td>5</td>\n",
       "      <td>SET India</td>\n",
       "      <td>159000000</td>\n",
       "      <td>1.480000e+11</td>\n",
       "      <td>Shows</td>\n",
       "      <td>SET India</td>\n",
       "      <td>116536</td>\n",
       "      <td>India</td>\n",
       "      <td>IN</td>\n",
       "      <td>Entertainment</td>\n",
       "      <td>...</td>\n",
       "      <td>1000000.0</td>\n",
       "      <td>2006.0</td>\n",
       "      <td>Sep</td>\n",
       "      <td>20.0</td>\n",
       "      <td>28.1</td>\n",
       "      <td>1.366418e+09</td>\n",
       "      <td>5.36</td>\n",
       "      <td>471031528.0</td>\n",
       "      <td>20.593684</td>\n",
       "      <td>78.962880</td>\n",
       "    </tr>\n",
       "    <tr>\n",
       "      <th>5</th>\n",
       "      <td>6</td>\n",
       "      <td>Music</td>\n",
       "      <td>119000000</td>\n",
       "      <td>0.000000e+00</td>\n",
       "      <td>NaN</td>\n",
       "      <td>Music</td>\n",
       "      <td>0</td>\n",
       "      <td>NaN</td>\n",
       "      <td>NaN</td>\n",
       "      <td>Music</td>\n",
       "      <td>...</td>\n",
       "      <td>NaN</td>\n",
       "      <td>2013.0</td>\n",
       "      <td>Sep</td>\n",
       "      <td>24.0</td>\n",
       "      <td>NaN</td>\n",
       "      <td>NaN</td>\n",
       "      <td>NaN</td>\n",
       "      <td>NaN</td>\n",
       "      <td>NaN</td>\n",
       "      <td>NaN</td>\n",
       "    </tr>\n",
       "    <tr>\n",
       "      <th>6</th>\n",
       "      <td>7</td>\n",
       "      <td>ýýý Kids Diana Show</td>\n",
       "      <td>112000000</td>\n",
       "      <td>9.324704e+10</td>\n",
       "      <td>People &amp; Blogs</td>\n",
       "      <td>ýýý Kids Diana Show</td>\n",
       "      <td>1111</td>\n",
       "      <td>United States</td>\n",
       "      <td>US</td>\n",
       "      <td>Entertainment</td>\n",
       "      <td>...</td>\n",
       "      <td>NaN</td>\n",
       "      <td>2015.0</td>\n",
       "      <td>May</td>\n",
       "      <td>12.0</td>\n",
       "      <td>88.2</td>\n",
       "      <td>3.282395e+08</td>\n",
       "      <td>14.70</td>\n",
       "      <td>270663028.0</td>\n",
       "      <td>37.090240</td>\n",
       "      <td>-95.712891</td>\n",
       "    </tr>\n",
       "    <tr>\n",
       "      <th>7</th>\n",
       "      <td>8</td>\n",
       "      <td>PewDiePie</td>\n",
       "      <td>111000000</td>\n",
       "      <td>2.905804e+10</td>\n",
       "      <td>Gaming</td>\n",
       "      <td>PewDiePie</td>\n",
       "      <td>4716</td>\n",
       "      <td>Japan</td>\n",
       "      <td>JP</td>\n",
       "      <td>Entertainment</td>\n",
       "      <td>...</td>\n",
       "      <td>NaN</td>\n",
       "      <td>2010.0</td>\n",
       "      <td>Apr</td>\n",
       "      <td>29.0</td>\n",
       "      <td>63.2</td>\n",
       "      <td>1.262266e+08</td>\n",
       "      <td>2.29</td>\n",
       "      <td>115782416.0</td>\n",
       "      <td>36.204824</td>\n",
       "      <td>138.252924</td>\n",
       "    </tr>\n",
       "    <tr>\n",
       "      <th>8</th>\n",
       "      <td>9</td>\n",
       "      <td>Like Nastya</td>\n",
       "      <td>106000000</td>\n",
       "      <td>9.047906e+10</td>\n",
       "      <td>People &amp; Blogs</td>\n",
       "      <td>Like Nastya Vlog</td>\n",
       "      <td>493</td>\n",
       "      <td>Russia</td>\n",
       "      <td>RU</td>\n",
       "      <td>People</td>\n",
       "      <td>...</td>\n",
       "      <td>100000.0</td>\n",
       "      <td>2016.0</td>\n",
       "      <td>Jan</td>\n",
       "      <td>14.0</td>\n",
       "      <td>81.9</td>\n",
       "      <td>1.443735e+08</td>\n",
       "      <td>4.59</td>\n",
       "      <td>107683889.0</td>\n",
       "      <td>61.524010</td>\n",
       "      <td>105.318756</td>\n",
       "    </tr>\n",
       "    <tr>\n",
       "      <th>9</th>\n",
       "      <td>10</td>\n",
       "      <td>Vlad and Niki</td>\n",
       "      <td>98900000</td>\n",
       "      <td>7.718017e+10</td>\n",
       "      <td>Entertainment</td>\n",
       "      <td>Vlad and Niki</td>\n",
       "      <td>574</td>\n",
       "      <td>United States</td>\n",
       "      <td>US</td>\n",
       "      <td>Entertainment</td>\n",
       "      <td>...</td>\n",
       "      <td>600000.0</td>\n",
       "      <td>2018.0</td>\n",
       "      <td>Apr</td>\n",
       "      <td>23.0</td>\n",
       "      <td>88.2</td>\n",
       "      <td>3.282395e+08</td>\n",
       "      <td>14.70</td>\n",
       "      <td>270663028.0</td>\n",
       "      <td>37.090240</td>\n",
       "      <td>-95.712891</td>\n",
       "    </tr>\n",
       "  </tbody>\n",
       "</table>\n",
       "<p>10 rows × 28 columns</p>\n",
       "</div>"
      ],
      "text/plain": [
       "   rank                    Youtuber  subscribers   video views  \\\n",
       "0     1                    T-Series    245000000  2.280000e+11   \n",
       "1     2              YouTube Movies    170000000  0.000000e+00   \n",
       "2     3                     MrBeast    166000000  2.836884e+10   \n",
       "3     4  Cocomelon - Nursery Rhymes    162000000  1.640000e+11   \n",
       "4     5                   SET India    159000000  1.480000e+11   \n",
       "5     6                       Music    119000000  0.000000e+00   \n",
       "6     7         ýýý Kids Diana Show    112000000  9.324704e+10   \n",
       "7     8                   PewDiePie    111000000  2.905804e+10   \n",
       "8     9                 Like Nastya    106000000  9.047906e+10   \n",
       "9    10               Vlad and Niki     98900000  7.718017e+10   \n",
       "\n",
       "           category                       Title  uploads        Country  \\\n",
       "0             Music                    T-Series    20082          India   \n",
       "1  Film & Animation               youtubemovies        1  United States   \n",
       "2     Entertainment                     MrBeast      741  United States   \n",
       "3         Education  Cocomelon - Nursery Rhymes      966  United States   \n",
       "4             Shows                   SET India   116536          India   \n",
       "5               NaN                       Music        0            NaN   \n",
       "6    People & Blogs         ýýý Kids Diana Show     1111  United States   \n",
       "7            Gaming                   PewDiePie     4716          Japan   \n",
       "8    People & Blogs            Like Nastya Vlog      493         Russia   \n",
       "9     Entertainment               Vlad and Niki      574  United States   \n",
       "\n",
       "  Abbreviation   channel_type  ...  subscribers_for_last_30_days  \\\n",
       "0           IN          Music  ...                     2000000.0   \n",
       "1           US          Games  ...                           NaN   \n",
       "2           US  Entertainment  ...                     8000000.0   \n",
       "3           US      Education  ...                     1000000.0   \n",
       "4           IN  Entertainment  ...                     1000000.0   \n",
       "5          NaN          Music  ...                           NaN   \n",
       "6           US  Entertainment  ...                           NaN   \n",
       "7           JP  Entertainment  ...                           NaN   \n",
       "8           RU         People  ...                      100000.0   \n",
       "9           US  Entertainment  ...                      600000.0   \n",
       "\n",
       "   created_year  created_month  created_date  \\\n",
       "0        2006.0            Mar          13.0   \n",
       "1        2006.0            Mar           5.0   \n",
       "2        2012.0            Feb          20.0   \n",
       "3        2006.0            Sep           1.0   \n",
       "4        2006.0            Sep          20.0   \n",
       "5        2013.0            Sep          24.0   \n",
       "6        2015.0            May          12.0   \n",
       "7        2010.0            Apr          29.0   \n",
       "8        2016.0            Jan          14.0   \n",
       "9        2018.0            Apr          23.0   \n",
       "\n",
       "   Gross tertiary education enrollment (%)    Population  Unemployment rate  \\\n",
       "0                                     28.1  1.366418e+09               5.36   \n",
       "1                                     88.2  3.282395e+08              14.70   \n",
       "2                                     88.2  3.282395e+08              14.70   \n",
       "3                                     88.2  3.282395e+08              14.70   \n",
       "4                                     28.1  1.366418e+09               5.36   \n",
       "5                                      NaN           NaN                NaN   \n",
       "6                                     88.2  3.282395e+08              14.70   \n",
       "7                                     63.2  1.262266e+08               2.29   \n",
       "8                                     81.9  1.443735e+08               4.59   \n",
       "9                                     88.2  3.282395e+08              14.70   \n",
       "\n",
       "   Urban_population   Latitude   Longitude  \n",
       "0       471031528.0  20.593684   78.962880  \n",
       "1       270663028.0  37.090240  -95.712891  \n",
       "2       270663028.0  37.090240  -95.712891  \n",
       "3       270663028.0  37.090240  -95.712891  \n",
       "4       471031528.0  20.593684   78.962880  \n",
       "5               NaN        NaN         NaN  \n",
       "6       270663028.0  37.090240  -95.712891  \n",
       "7       115782416.0  36.204824  138.252924  \n",
       "8       107683889.0  61.524010  105.318756  \n",
       "9       270663028.0  37.090240  -95.712891  \n",
       "\n",
       "[10 rows x 28 columns]"
      ]
     },
     "execution_count": 6,
     "metadata": {},
     "output_type": "execute_result"
    }
   ],
   "source": [
    "youtube_df.head(10)"
   ]
  },
  {
   "cell_type": "markdown",
   "id": "61e9f7f5",
   "metadata": {},
   "source": [
    "# Cleaning the Dataset\n",
    "\n",
    "This process aims to enhance the quality and reliability of the dataset."
   ]
  },
  {
   "cell_type": "markdown",
   "id": "e544966d",
   "metadata": {},
   "source": [
    "### The \"Youtuber\" variable\n",
    "\n",
    "     We want to check out if there are any observations that has no youtube names, because there are no youtube name present, we will be excluding these observations from the list.\n",
    "     "
   ]
  },
  {
   "cell_type": "code",
   "execution_count": null,
   "id": "c1452132",
   "metadata": {},
   "outputs": [],
   "source": [
    "# insert code here\n"
   ]
  },
  {
   "cell_type": "markdown",
   "id": "65026aa9",
   "metadata": {},
   "source": [
    "### The \"category\" variable\n",
    "\n",
    "     We want to check out \n",
    "     "
   ]
  },
  {
   "cell_type": "code",
   "execution_count": 2,
   "id": "388f5120",
   "metadata": {},
   "outputs": [
    {
     "ename": "NameError",
     "evalue": "name 'youtube_df' is not defined",
     "output_type": "error",
     "traceback": [
      "\u001b[1;31m---------------------------------------------------------------------------\u001b[0m",
      "\u001b[1;31mNameError\u001b[0m                                 Traceback (most recent call last)",
      "Cell \u001b[1;32mIn[2], line 2\u001b[0m\n\u001b[0;32m      1\u001b[0m \u001b[38;5;66;03m# insert code here\u001b[39;00m\n\u001b[1;32m----> 2\u001b[0m youtube_df[\u001b[38;5;124m'\u001b[39m\u001b[38;5;124mcategory\u001b[39m\u001b[38;5;124m'\u001b[39m]\u001b[38;5;241m.\u001b[39munique()\n",
      "\u001b[1;31mNameError\u001b[0m: name 'youtube_df' is not defined"
     ]
    }
   ],
   "source": [
    "# insert code here\n",
    "youtube_df['category'].unique()"
   ]
  },
  {
   "cell_type": "markdown",
   "id": "33ef5b52",
   "metadata": {},
   "source": [
    "### The \"Monthly Earnings\" variable\n",
    "\n",
    "     We want to check out \n",
    "     "
   ]
  },
  {
   "cell_type": "code",
   "execution_count": null,
   "id": "246cb144",
   "metadata": {},
   "outputs": [],
   "source": [
    "# insert code here"
   ]
  },
  {
   "cell_type": "markdown",
   "id": "a2ca90d3",
   "metadata": {},
   "source": [
    "### The \"Highest Monthly Earnings\" variable\n",
    " We want to check out \n",
    " "
   ]
  },
  {
   "cell_type": "code",
   "execution_count": null,
   "id": "2e0a25f1",
   "metadata": {},
   "outputs": [],
   "source": [
    "# insert code here"
   ]
  },
  {
   "cell_type": "markdown",
   "id": "2ed8226f",
   "metadata": {},
   "source": [
    "### The \"Subscribers\" variable"
   ]
  },
  {
   "cell_type": "code",
   "execution_count": null,
   "id": "893c0be3",
   "metadata": {},
   "outputs": [],
   "source": [
    "# insert code here"
   ]
  },
  {
   "cell_type": "markdown",
   "id": "65244c70",
   "metadata": {},
   "source": [
    "### The \"video views\" variable\n",
    "\n"
   ]
  },
  {
   "cell_type": "code",
   "execution_count": null,
   "id": "8056f2c5",
   "metadata": {},
   "outputs": [],
   "source": [
    "# insert code here"
   ]
  },
  {
   "cell_type": "markdown",
   "id": "c3dc0862",
   "metadata": {},
   "source": [
    "### The \"uploads\" variable\n",
    " We want to check out \n",
    " "
   ]
  },
  {
   "cell_type": "code",
   "execution_count": null,
   "id": "0ee12dbb",
   "metadata": {},
   "outputs": [],
   "source": [
    "# insert code here"
   ]
  },
  {
   "cell_type": "markdown",
   "id": "52a36e0d",
   "metadata": {},
   "source": [
    "# Exploratory Data Analysis\n",
    "\n",
    "    Placeholder detailsl"
   ]
  },
  {
   "cell_type": "markdown",
   "id": "42b9de33",
   "metadata": {},
   "source": [
    "### What are the Highest Earning Categories?\n",
    "\n",
    "    LMAO Try ko lang\n",
    "    "
   ]
  },
  {
   "cell_type": "code",
   "execution_count": null,
   "id": "8b1352d1",
   "metadata": {},
   "outputs": [],
   "source": [
    "# insert Code Here"
   ]
  },
  {
   "cell_type": "markdown",
   "id": "a4150380",
   "metadata": {},
   "source": [
    "### Are there any correlation between views and monthly earnings?\n",
    "\n",
    "    Placeholder details\n"
   ]
  },
  {
   "cell_type": "code",
   "execution_count": null,
   "id": "dc69a545",
   "metadata": {},
   "outputs": [],
   "source": []
  },
  {
   "cell_type": "markdown",
   "id": "d6e23b9c",
   "metadata": {},
   "source": [
    "### Are there any top Youtube channels with a lot of subscribers but has no video uploads?\n",
    "\n",
    "    To find bot channels in the dataset\n",
    "    "
   ]
  },
  {
   "cell_type": "code",
   "execution_count": null,
   "id": "36a0984f",
   "metadata": {},
   "outputs": [],
   "source": []
  },
  {
   "cell_type": "markdown",
   "id": "501eb2d0",
   "metadata": {},
   "source": [
    "### Are there any top Youtube Channels with less than 2 videos and only a little bit of views and uploads?\n",
    "    \n",
    "    To extend the exploration on finding bots channel in the dataset_____\n",
    "    "
   ]
  },
  {
   "cell_type": "code",
   "execution_count": null,
   "id": "d360e6b7",
   "metadata": {},
   "outputs": [],
   "source": []
  },
  {
   "cell_type": "markdown",
   "id": "531523cd",
   "metadata": {},
   "source": [
    "### Are there any correlations between views and subscribers?\n",
    "\n",
    " Placeholder details"
   ]
  },
  {
   "cell_type": "code",
   "execution_count": null,
   "id": "308adee5",
   "metadata": {},
   "outputs": [],
   "source": []
  }
 ],
 "metadata": {
  "kernelspec": {
   "display_name": "Python 3 (ipykernel)",
   "language": "python",
   "name": "python3"
  },
  "language_info": {
   "codemirror_mode": {
    "name": "ipython",
    "version": 3
   },
   "file_extension": ".py",
   "mimetype": "text/x-python",
   "name": "python",
   "nbconvert_exporter": "python",
   "pygments_lexer": "ipython3",
   "version": "3.11.4"
  }
 },
 "nbformat": 4,
 "nbformat_minor": 5
}
