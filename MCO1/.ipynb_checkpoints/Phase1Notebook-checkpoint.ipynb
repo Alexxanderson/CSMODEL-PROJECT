{
 "cells": [
  {
   "cell_type": "markdown",
   "id": "4192360d",
   "metadata": {},
   "source": [
    "# MCO1 \n",
    "\n",
    "### Members\n",
    "1. Bien Aaron Miranda\n",
    "2. Luis Miguel Rana\n",
    "3. Karl Andre Aquino\n",
    "4. Dominic Luis Baccay"
   ]
  },
  {
   "cell_type": "markdown",
   "id": "03db10e5",
   "metadata": {},
   "source": [
    "## Import\n",
    "\n",
    "Import numpy and pandas.\n",
    "\n",
    "pandas is a software library for Python which provides data structures and data analysis tools."
   ]
  },
  {
   "cell_type": "code",
   "execution_count": null,
   "id": "15382ed8",
   "metadata": {},
   "outputs": [],
   "source": [
    "import numpy as np\n",
    "import pandas as pd"
   ]
  },
  {
   "cell_type": "markdown",
   "id": "92a801c6",
   "metadata": {},
   "source": [
    "## The Dataset\n",
    "\n",
    "    Give details about the dataset, what is inside the dataset, the variables, etc."
   ]
  },
  {
   "cell_type": "code",
   "execution_count": null,
   "id": "a3a91822",
   "metadata": {},
   "outputs": [],
   "source": [
    "# insert code here"
   ]
  },
  {
   "cell_type": "markdown",
   "id": "e061dad8",
   "metadata": {},
   "source": [
    "## Reading the Dataset\n",
    "\n",
    "Our first step is to load the dataset using pandas. This will load the dataset into a pandas DataFrame. To load the dataset, we use the read_csv function. Note that you may need to change the path depending on the location of the file in your machine.\\\n",
    "\n",
    "Will also tackle about what can be seen in the Dataset as a DataFrame"
   ]
  },
  {
   "cell_type": "code",
   "execution_count": null,
   "id": "b1f9b083",
   "metadata": {},
   "outputs": [],
   "source": [
    "# insert code here"
   ]
  },
  {
   "cell_type": "markdown",
   "id": "61e9f7f5",
   "metadata": {},
   "source": [
    "## Cleaning the Dataset\n",
    "\n",
    "    Placeholder Placeholder Placeholder Placeholder Placeholder Placeholder Placeholder PlacehoPlaceholder Placeholder"
   ]
  },
  {
   "cell_type": "code",
   "execution_count": null,
   "id": "c1452132",
   "metadata": {},
   "outputs": [],
   "source": [
    "# insert code here"
   ]
  },
  {
   "cell_type": "markdown",
   "id": "52a36e0d",
   "metadata": {},
   "source": [
    "## Exploratory Data Analysis\n",
    "\n",
    "    Placeholder"
   ]
  },
  {
   "cell_type": "code",
   "execution_count": null,
   "id": "f8084aad",
   "metadata": {},
   "outputs": [],
   "source": [
    "# insert code here"
   ]
  },
  {
   "cell_type": "code",
   "execution_count": null,
   "id": "8b1352d1",
   "metadata": {},
   "outputs": [],
   "source": []
  },
  {
   "cell_type": "code",
   "execution_count": null,
   "id": "a0cb3c5c",
   "metadata": {},
   "outputs": [],
   "source": []
  }
 ],
 "metadata": {
  "kernelspec": {
   "display_name": "Python 3 (ipykernel)",
   "language": "python",
   "name": "python3"
  },
  "language_info": {
   "codemirror_mode": {
    "name": "ipython",
    "version": 3
   },
   "file_extension": ".py",
   "mimetype": "text/x-python",
   "name": "python",
   "nbconvert_exporter": "python",
   "pygments_lexer": "ipython3",
   "version": "3.11.4"
  }
 },
 "nbformat": 4,
 "nbformat_minor": 5
}
