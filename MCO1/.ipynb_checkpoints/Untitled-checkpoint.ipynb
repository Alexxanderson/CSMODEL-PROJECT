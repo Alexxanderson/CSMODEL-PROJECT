{
 "cells": [
  {
   "cell_type": "markdown",
   "id": "a1014bf0",
   "metadata": {},
   "source": [
    "# MCO1 \n",
    "\n",
    "### Members\n",
    "1. Bien Aaron Miranda\n",
    "2. Luis Miguel Rana\n",
    "3. Karl Andre Aquino\n",
    "4. Dominic Luis Baccay"
   ]
  },
  {
   "cell_type": "markdown",
   "id": "b12e25f6",
   "metadata": {},
   "source": [
    "## Import\n",
    "\n",
    "Import numpy and pandas.\n",
    "\n",
    "pandas is a software library for Python which provides data structures and data analysis tools."
   ]
  },
  {
   "cell_type": "code",
   "execution_count": null,
   "id": "b83257d7",
   "metadata": {},
   "outputs": [],
   "source": [
    "import numpy as np\n",
    "import pandas as pd"
   ]
  },
  {
   "cell_type": "markdown",
   "id": "bbef54b6",
   "metadata": {},
   "source": [
    "## The Dataset\n",
    "\n",
    "    Give details about the dataset, what is inside the dataset, the variables, etc."
   ]
  },
  {
   "cell_type": "code",
   "execution_count": null,
   "id": "25b81210",
   "metadata": {},
   "outputs": [],
   "source": [
    "# insert code here"
   ]
  },
  {
   "cell_type": "markdown",
   "id": "fc3b8395",
   "metadata": {},
   "source": [
    "## Reading the Dataset\n",
    "\n",
    "Our first step is to load the dataset using pandas. This will load the dataset into a pandas DataFrame. To load the dataset, we use the read_csv function. Note that you may need to change the path depending on the location of the file in your machine."
   ]
  },
  {
   "cell_type": "code",
   "execution_count": null,
   "id": "64257edf",
   "metadata": {},
   "outputs": [],
   "source": [
    "# insert code here"
   ]
  },
  {
   "cell_type": "markdown",
   "id": "38fba82e",
   "metadata": {},
   "source": [
    "## Cleaning the Dataset\n",
    "\n",
    "    Placeholder Placeholder Placeholder Placeholder Placeholder Placeholder Placeholder PlacehoPlaceholder Placeholder"
   ]
  },
  {
   "cell_type": "code",
   "execution_count": null,
   "id": "8f5cfb3c",
   "metadata": {},
   "outputs": [],
   "source": [
    "# insert code here"
   ]
  },
  {
   "cell_type": "markdown",
   "id": "85099644",
   "metadata": {},
   "source": [
    "## Exploratory Data Analysis\n",
    "\n",
    "    Placeholder"
   ]
  },
  {
   "cell_type": "code",
   "execution_count": null,
   "id": "a6eb16de",
   "metadata": {},
   "outputs": [],
   "source": [
    "# insert code here"
   ]
  },
  {
   "cell_type": "code",
   "execution_count": null,
   "id": "e0fa4ced",
   "metadata": {},
   "outputs": [],
   "source": []
  },
  {
   "cell_type": "code",
   "execution_count": null,
   "id": "dcbde2ae",
   "metadata": {},
   "outputs": [],
   "source": []
  }
 ],
 "metadata": {
  "kernelspec": {
   "display_name": "Python 3 (ipykernel)",
   "language": "python",
   "name": "python3"
  },
  "language_info": {
   "codemirror_mode": {
    "name": "ipython",
    "version": 3
   },
   "file_extension": ".py",
   "mimetype": "text/x-python",
   "name": "python",
   "nbconvert_exporter": "python",
   "pygments_lexer": "ipython3",
   "version": "3.11.4"
  }
 },
 "nbformat": 4,
 "nbformat_minor": 5
}
