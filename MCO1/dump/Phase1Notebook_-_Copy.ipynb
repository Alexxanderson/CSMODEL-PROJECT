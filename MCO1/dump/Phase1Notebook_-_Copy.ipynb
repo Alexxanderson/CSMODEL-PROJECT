{
 "cells": [
  {
   "cell_type": "markdown",
   "id": "4192360d",
   "metadata": {},
   "source": [
    "# Machine Project Phase 1: \n",
    "\n",
    "This Jupyter Notebook includes the following contents:\n",
    "    \n",
    "    0.  2023 Global Youtube Statistics Dataset\n",
    "    1.  Description of the Dataset\n",
    "    2.  Data Cleaning Process of the Dataset\n",
    "    3.  Exploratory Data Analysis \n",
    "    4.  Proposed Research Question\n",
    "\n",
    "### GARYNATION  (S13)\n",
    "    1.  Bien Aaron Miranda \n",
    "    2.  Luis Miguel Rana\n",
    "    3.  Karl Andre Aquino\n",
    "    4.  Dominic Luis Baccay"
   ]
  },
  {
   "cell_type": "markdown",
   "id": "03db10e5",
   "metadata": {},
   "source": [
    "### Python Libraries\n",
    "\n",
    "Import numpy and pandas.\n",
    "\n",
    "pandas is a software library for Python which provides data structures and data analysis tools."
   ]
  },
  {
   "cell_type": "code",
   "execution_count": null,
   "id": "15382ed8",
   "metadata": {},
   "outputs": [],
   "source": [
    "import numpy as np\n",
    "import pandas as pd\n",
    "import matplotlib.pyplot as plt\n",
    "import seaborn as sns\n",
    "from sklearn.linear_model import LinearRegression\n"
   ]
  },
  {
   "cell_type": "markdown",
   "id": "92a801c6",
   "metadata": {},
   "source": [
    "## The Dataset\n",
    "    A collection of YouTube giants, this dataset offers a perfect avenue to analyze and gain valuable insights from the luminaries of the platform. With comprehensive details on top creators' subscriber counts, video views, upload frequency, country of origin, earnings, and more, this treasure trove of information is a must-explore for aspiring content creators, data enthusiasts, and anyone intrigued by the ever-evolving online content landscape."
   ]
  },
  {
   "cell_type": "code",
   "execution_count": null,
   "id": "a3a91822",
   "metadata": {},
   "outputs": [],
   "source": [
    "#encoding came from the discussion so that it is readable\n",
    "youtube_df = pd.read_csv(\"Global YouTube Statistics.csv\", encoding='iso-8859-1')"
   ]
  },
  {
   "cell_type": "markdown",
   "id": "f7874cee",
   "metadata": {},
   "source": [
    "If you view the `.csv` file in Excel, you can see that our dataset contains about 995 **observations** (rows) across 28 **variables** (columns). The following are the descriptions of each variable in the dataset.\n",
    "\n",
    "- **`rank`**: Position of the YouTube channel based on the number of subscribers\n",
    "- **`Youtuber`**: Name of the YouTube channel\n",
    "- **`subscribers`**: Number of subscribers to the channel\n",
    "- **`video views`**: Overall count views to the channel\n",
    "- **`category`**: Category or niche of the channel\n",
    "- **`Title`**: Title\n",
    "- **`uploads`**: Total number of videos uploaded on the channel\n",
    "- **`Country`**: Country where the YouTube channel originates\n",
    "- **`Abbreviation`**: Abbreviation of the country\n",
    "- **`channel_type`**: Type of the YouTube channel (e.g., individual, brand)\n",
    "- **`video_views_rank`**: Ranking of the channel based on total video views\n",
    "- **`country_rank`**: Ranking of the channel based on the number of subscribers within its country\n",
    "- **`channel_type_rank`**: Ranking of the channel based on its type (individual or brand)\n",
    "- **`video_views_for_the_last_30_days`**: Total video views in the last 30 days\n",
    "- **`lowest_monthly_earnings`**: Lowest estimated monthly earnings from the channel \\$\n",
    "- **`highest_monthly_earnings`**: Highest estimated monthly earnings from the channel \\$\n",
    "- **`lowest_yearly_earnings`**: Lowest estimated yearly earnings from the channel \\$\n",
    "- **`highest_yearly_earnings`**: Highest estimated yearly earnings from the channel $\n",
    "- **`subscribers_for_last_30_days`**: Number of new subscribers gained in the last 30 days\n",
    "- **`created_year`**: Year when the YouTube channel was created\n",
    "- **`created_month`**: Month when the YouTube channel was created\n",
    "- **`created_date`**: Exact date of the YouTube channel's creation\n",
    "- **`Gross tertiary education enrollment (\\%)`**: Percentage of the population enrolled in tertiary education in the country %\n",
    "- **`Population`**: Total population of the country\n",
    "- **`Unemployment rate`**: Unemployment rate in the country %\n",
    "- **`Urban_population`**: Percentage of the population living in urban areas %\n",
    "- **`Latitude`**: Latitude coordinate of the country's location\n",
    "- **`Longitude`**: Longitude coordinate of the country's location"
   ]
  },
  {
   "cell_type": "markdown",
   "id": "e061dad8",
   "metadata": {},
   "source": [
    "## Reading the Dataset\n",
    "\n",
    "Our first step is to load the dataset using pandas. This will load the dataset into a pandas DataFrame. To load the dataset, we use the read_csv function. Note that you may need to change the path depending on the location of the file in your machine.\n",
    "\n",
    "Will also tackle about what can be seen in the Dataset as a DataFrame"
   ]
  },
  {
   "cell_type": "code",
   "execution_count": null,
   "id": "b1f9b083",
   "metadata": {},
   "outputs": [],
   "source": [
    "youtube_df.info()"
   ]
  },
  {
   "cell_type": "markdown",
   "id": "2e57718e",
   "metadata": {},
   "source": [
    "### Examining the observations within the Dataset\n",
    "\n",
    "    \n",
    "To gain a better understanding of the observations within the dataset, it's essential to examine their appearance or visual representation. This can provide valuable insights and help you make informed decisions based on the data."
   ]
  },
  {
   "cell_type": "code",
   "execution_count": null,
   "id": "42354e15",
   "metadata": {},
   "outputs": [],
   "source": [
    "youtube_df.head(10)"
   ]
  },
  {
   "cell_type": "markdown",
   "id": "61e9f7f5",
   "metadata": {},
   "source": [
    "# Cleaning the Dataset\n",
    "\n",
    "    This section of the Jupyter Notebook contains the overall process and variables affected during the data cleaning of our dataset."
   ]
  },
  {
   "cell_type": "markdown",
   "id": "c1c26134",
   "metadata": {},
   "source": [
    "### Before Cleaning:\n",
    "    Number of Observations: 995\n",
    "    Number of Columns: 28\n",
    "    Data types: float64(18), int64(3), object(7)\n",
    "\n",
    "### Initial Observations: \n",
    "-   There are special characters in the 'Youtuber' column.\n",
    "-   There are missing/null values in the dataset.\n",
    "-   Some variables are similar, therefore, unnecessary.\n",
    "-   Some data types are inappropriate for their respective variables.\n"
   ]
  },
  {
   "cell_type": "markdown",
   "id": "7b1619d6",
   "metadata": {},
   "source": [
    "\n",
    "#### Variables to be Observed:\n",
    "We will be dropping all columns/variables except the following.\n",
    "- **`Youtuber`**: Name of the YouTube channel\n",
    "- **`subscribers`**: Number of subscribers to the channel\n",
    "- **`video views`**: Overall count views to the channel\n",
    "- **`category`**: Category or niche of the channel\n",
    "- **`uploads`**: Total number of videos uploaded on the channel\n",
    "- **`Country`**: Country where the YouTube channel originates\n",
    "- **`channel_type`**: Type of the YouTube channel (e.g., individual, brand)\n",
    "- **`lowest_monthly_earnings`**: Lowest estimated monthly earnings from the channel \\$\n",
    "- **`highest_monthly_earnings`**: Highest estimated monthly earnings from the channel \\$\n",
    "- **`lowest_yearly_earnings`**: Lowest estimated yearly earnings from the channel \\$\n",
    "- **`highest_yearly_earnings`**: Highest estimated yearly earnings from the channel $\n",
    "- **`created_year`**: Year when the YouTube channel was created\n",
    "- **`Population`**: Total population of the country"
   ]
  },
  {
   "cell_type": "code",
   "execution_count": null,
   "id": "66a8397e",
   "metadata": {},
   "outputs": [],
   "source": [
    "# Declare the variables that will be used\n",
    "columns_to_keep = ['Youtuber', 'subscribers', 'video views', 'uploads', 'category', 'channel_type', 'Country', 'lowest_monthly_earnings', 'highest_monthly_earnings', 'lowest_yearly_earnings', 'highest_yearly_earnings', 'created_year', 'Population']\n",
    "columns_to_drop = list(set(youtube_df.columns) - set(columns_to_keep))\n",
    "\n",
    "# Drop unused columns (variables)\n",
    "youtube_df.drop(columns_to_drop, axis=1, inplace=True)\n",
    "\n",
    "youtube_df"
   ]
  },
  {
   "cell_type": "markdown",
   "id": "e544966d",
   "metadata": {},
   "source": [
    "### The \"Youtuber\" variable - Names of Youtubers\n",
    "\n",
    "- **`Youtuber`**: Name of the YouTube channel<br>\n",
    "\n",
    "We want to check if there are any observations that have null \"Youtuber\" values, if any, we will be excluding these observations from the list.\n",
    "     "
   ]
  },
  {
   "cell_type": "code",
   "execution_count": null,
   "id": "c1452132",
   "metadata": {},
   "outputs": [],
   "source": [
    "# Check for null values\n",
    "nullyoutuber_df = youtube_df[youtube_df[\"Youtuber\"].isnull()]\n",
    "nullyoutuber_df"
   ]
  },
  {
   "cell_type": "markdown",
   "id": "ff223ddd",
   "metadata": {},
   "source": [
    "We want to check if there are any duplicate \"Youtuber\" values, if any, the row will be removed.\n",
    "     "
   ]
  },
  {
   "cell_type": "code",
   "execution_count": null,
   "id": "8e28ccb8",
   "metadata": {},
   "outputs": [],
   "source": [
    "# Check for duplicates\n",
    "column_name = \"Youtuber\"\n",
    "unique_count = youtube_df[column_name].nunique()\n",
    "observation_count = youtube_df[column_name].count()\n",
    "\n",
    "print(f\"Number of observations in '{column_name}': {observation_count}\")\n",
    "print(f\"Number of unique values in '{column_name}': {unique_count}\")"
   ]
  },
  {
   "cell_type": "markdown",
   "id": "b78df3af",
   "metadata": {},
   "source": [
    "Since there are special characters present within the dataset, we will replace them with underscores \"_\" instead for readability."
   ]
  },
  {
   "cell_type": "code",
   "execution_count": null,
   "id": "203278eb",
   "metadata": {},
   "outputs": [],
   "source": [
    "# Define an array of special characters to replace\n",
    "chars_to_replace = ['ï', '¿', '½', 'ý']\n",
    "\n",
    "# Replace the characters with underscores\n",
    "for char in chars_to_replace:\n",
    "    youtube_df['Youtuber'] = youtube_df['Youtuber'].str.replace(char, '_', regex=False)\n",
    "\n",
    "youtube_df"
   ]
  },
  {
   "cell_type": "markdown",
   "id": "dcb0e32b",
   "metadata": {},
   "source": [
    "### The \"Subscribers\" variable\n",
    "\n",
    "- **`subscribers`**: Number of subscribers to the channel<br>\n",
    "\n",
    "We want to check if there are any observations with null \"subscribers\" values."
   ]
  },
  {
   "cell_type": "code",
   "execution_count": null,
   "id": "a48cf3d5",
   "metadata": {},
   "outputs": [],
   "source": [
    "# Check for null values\n",
    "nullsubscriber_df = youtube_df[youtube_df[\"subscribers\"].isnull()]\n",
    "nullsubscriber_df"
   ]
  },
  {
   "cell_type": "code",
   "execution_count": null,
   "id": "14f00b41",
   "metadata": {},
   "outputs": [],
   "source": [
    "# Display the counts\n",
    "null_subscriber_count = youtube_df['subscribers'].eq(0).sum()\n",
    "print(f'Number of null values in \"subscribers\": {null_subscriber_count}')"
   ]
  },
  {
   "cell_type": "markdown",
   "id": "f8c0914d",
   "metadata": {},
   "source": [
    "Since there are none, we now want to convert the data type from int64 to float64 for scaling. <br>\n",
    "We will scale the values to millions, so we will need to convert the data type to one that can recognize decimals."
   ]
  },
  {
   "cell_type": "code",
   "execution_count": null,
   "id": "336a3308",
   "metadata": {},
   "outputs": [],
   "source": [
    "# Convert to float64 data type\n",
    "youtube_df['subscribers'] = youtube_df['subscribers'].astype('float64')\n",
    "# Convert the \"subscribers\" column to values in millions\n",
    "youtube_df['subscribers'] = youtube_df['subscribers'] / 1000000\n",
    "# Rename the \"subscribers\" column to indicate values are in millions\n",
    "youtube_df = youtube_df.rename(columns={'subscribers': 'subscribers (millions)'})\n",
    "youtube_df"
   ]
  },
  {
   "cell_type": "markdown",
   "id": "35acef65",
   "metadata": {},
   "source": [
    "### The \"Video Views\" and \"Uploads\" variables\n",
    "- **`video views`**: Overall count views to the channel\n",
    "- **`uploads`**: Total number of videos uploaded on the channel<br>\n",
    "\n",
    "We want to check if there are any observations that have null or zero values in these columns."
   ]
  },
  {
   "cell_type": "code",
   "execution_count": null,
   "id": "c5d013bc",
   "metadata": {},
   "outputs": [],
   "source": [
    "# Check for null values in \"video views\"\n",
    "nullviews_df = youtube_df[youtube_df['video views'] == 0]\n",
    "nullviews_df"
   ]
  },
  {
   "cell_type": "code",
   "execution_count": null,
   "id": "96b8f924",
   "metadata": {},
   "outputs": [],
   "source": [
    "# Check for null values in \"uploads\"\n",
    "nulluploads_df = youtube_df[youtube_df['uploads'] == 0]\n",
    "nulluploads_df.head(10)"
   ]
  },
  {
   "cell_type": "code",
   "execution_count": null,
   "id": "1014869e",
   "metadata": {},
   "outputs": [],
   "source": [
    "# Display the counts\n",
    "null_views_count = youtube_df['video views'].eq(0).sum()\n",
    "null_uploads_count = youtube_df['uploads'].eq(0).sum()\n",
    "print(f'Number of null values in \"video views\": {null_views_count}')\n",
    "print(f'Number of null values in \"uploads\": {null_uploads_count}')"
   ]
  },
  {
   "cell_type": "markdown",
   "id": "2757e0a3",
   "metadata": {},
   "source": [
    "We want to see if there are any correlations between the \"video views\" and \"uploads\" with their respective indexes."
   ]
  },
  {
   "cell_type": "code",
   "execution_count": null,
   "id": "bf1a1803",
   "metadata": {},
   "outputs": [],
   "source": [
    "# Create a figure with two subplots side by side\n",
    "fig, axs = plt.subplots(1, 2, figsize=(12, 4))\n",
    "\n",
    "# Plot 'video views' (in millions) in the first subplot\n",
    "axs[0].scatter(youtube_df.index, youtube_df['video views'] / 1000000)  # Divide by 1,000,000\n",
    "axs[0].set_title('Correlation between Video Views (Millions) and Index')\n",
    "axs[0].set_xlabel('Index')\n",
    "axs[0].set_ylabel('Video Views (Millions)')\n",
    "\n",
    "# Plot 'upload' in the second subplot\n",
    "axs[1].scatter(youtube_df.index, youtube_df['uploads'], color='red')\n",
    "axs[1].set_title('Correlation between Upload and Index')\n",
    "axs[1].set_xlabel('Index')\n",
    "axs[1].set_ylabel('Upload')\n",
    "\n",
    "# Adjust the layout for better spacing\n",
    "plt.tight_layout()\n",
    "\n",
    "# Show the combined figure\n",
    "plt.show()"
   ]
  },
  {
   "cell_type": "markdown",
   "id": "91b92311",
   "metadata": {},
   "source": [
    "Given the absence of significant correlations between video views, uploads, and their respective indexes, the decision has been made to remove the observations in question rather than replacing them with measures of central tendencies."
   ]
  },
  {
   "cell_type": "code",
   "execution_count": null,
   "id": "db3beeb6",
   "metadata": {},
   "outputs": [],
   "source": [
    "# Drop the rows where video views == 0\n",
    "youtube_df = youtube_df[youtube_df[\"video views\"] != 0]\n",
    "\n",
    "# Drop the rows where uploads == 0\n",
    "youtube_df = youtube_df[youtube_df[\"uploads\"] != 0]\n",
    "youtube_df"
   ]
  },
  {
   "cell_type": "markdown",
   "id": "35516935",
   "metadata": {},
   "source": [
    "After removing the observations, we will be resetting the indexes ensure there are no gaps and the data remains continuous."
   ]
  },
  {
   "cell_type": "code",
   "execution_count": null,
   "id": "d92f773d",
   "metadata": {},
   "outputs": [],
   "source": [
    "# Reset the index after dropping rows\n",
    "youtube_df.reset_index(drop=True, inplace=True)\n",
    "youtube_df"
   ]
  },
  {
   "cell_type": "markdown",
   "id": "6d5e2d03",
   "metadata": {},
   "source": [
    "We will also scale the values of video views to the millions. Since the data type is already float64, there will be no conversion of data type."
   ]
  },
  {
   "cell_type": "code",
   "execution_count": null,
   "id": "5decd868",
   "metadata": {},
   "outputs": [],
   "source": [
    "# Convert the \"video views\" column to values in millions\n",
    "youtube_df['video views'] = youtube_df['video views'] / 1000000\n",
    "# Rename the \"video views\" column to indicate values are in millions\n",
    "youtube_df = youtube_df.rename(columns={'video views': 'video views (millions)'})\n",
    "# Round the values to 3 decimal places\n",
    "youtube_df['video views (millions)'] = youtube_df['video views (millions)'].round(3)\n",
    "youtube_df"
   ]
  },
  {
   "cell_type": "markdown",
   "id": "8b4b36b9",
   "metadata": {},
   "source": [
    "### The \"Category\" variable\n",
    "- **`category`**: Category or niche of the channel<br>\n",
    "\n",
    "We want to check if there are any observations that has null values for the \"category\" column."
   ]
  },
  {
   "cell_type": "code",
   "execution_count": null,
   "id": "112d2536",
   "metadata": {},
   "outputs": [],
   "source": [
    "# Check for null values in \"category\"\n",
    "nullcategory_df = youtube_df[youtube_df[\"category\"].isnull()]\n",
    "nullcategory_df.head(10)"
   ]
  },
  {
   "cell_type": "code",
   "execution_count": null,
   "id": "9e7c6954",
   "metadata": {},
   "outputs": [],
   "source": [
    "# Display the counts\n",
    "null_category_count = youtube_df['category'].isnull().sum()\n",
    "print(f'Number of null values in \"category\": {null_category_count}')"
   ]
  },
  {
   "cell_type": "markdown",
   "id": "387ad5e9",
   "metadata": {},
   "source": [
    "We will now check for possible values we can use to replace the null values within the 'category' column based on the 'channel_type' column.<br>\n",
    "We are replacing the null values instead of removing them due to the presence of the 'channel_type' variable which is similar in nature."
   ]
  },
  {
   "cell_type": "code",
   "execution_count": null,
   "id": "f0777142",
   "metadata": {},
   "outputs": [],
   "source": [
    "# Displaying the 'category' and 'channel_type' values for cleaning\n",
    "column1 = 'category'\n",
    "column2 = 'channel_type'\n",
    "\n",
    "categoryandchannel_df = youtube_df.dropna(subset=[column1, column2])\n",
    "\n",
    "unique_values_column1 = categoryandchannel_df[column1].unique().tolist()\n",
    "unique_values_column2 = categoryandchannel_df[column2].unique().tolist()\n",
    "\n",
    "df_unique_values_column1 = pd.DataFrame(unique_values_column1, columns=[column1])\n",
    "df_unique_values_column2 = pd.DataFrame(unique_values_column2, columns=[column2])\n",
    "\n",
    "# Concatenate DataFrames horizontally\n",
    "result_df = pd.concat([df_unique_values_column1, df_unique_values_column2], axis=1)\n",
    "result_df\n"
   ]
  },
  {
   "cell_type": "markdown",
   "id": "ea132a86",
   "metadata": {},
   "source": [
    "After going through the unique values, we have prepared the following values to be used as replacement based on the channel_type.\n",
    "| channel_type | category |\n",
    "| ----------- | ----------- |\n",
    "| Games      | Gaming       |\n",
    "| People   | People & Blogs        |\n",
    "| Entertainment      | Entertainment       |\n",
    "| Sports   | Sports        |\n",
    "| Film      | Film & Animation       |\n",
    "| Howto   | Howto & Style        |\n",
    "| Education      | Education       |\n",
    "| Tech   | Science & Technology        |\n",
    "| Music   | Music    |\n",
    "\n",
    "For the remaining rows with neither \"column\" nor \"channel_type\" values, they will be removed."
   ]
  },
  {
   "cell_type": "code",
   "execution_count": null,
   "id": "15b3acb6",
   "metadata": {},
   "outputs": [],
   "source": [
    "# Replace category null values with closest value in channel_type\n",
    "\n",
    "# Use the .loc method to set the new value based on the condition (where 'category' is null)\n",
    "youtube_df.loc[(youtube_df['channel_type'] == 'Games') & (youtube_df['category'].isnull()), 'category'] = 'Gaming'\n",
    "youtube_df.loc[(youtube_df['channel_type'] == 'People') & (youtube_df['category'].isnull()), 'category'] = 'People & Blogs'\n",
    "youtube_df.loc[(youtube_df['channel_type'] == 'Entertainment') & (youtube_df['category'].isnull()), 'category'] = 'Entertainment'\n",
    "youtube_df.loc[(youtube_df['channel_type'] == 'Sports') & (youtube_df['category'].isnull()), 'category'] = 'Sports'\n",
    "youtube_df.loc[(youtube_df['channel_type'] == 'Film') & (youtube_df['category'].isnull()), 'category'] = 'Film & Animation'\n",
    "youtube_df.loc[(youtube_df['channel_type'] == 'Howto') & (youtube_df['category'].isnull()), 'category'] = 'Howto & Style'\n",
    "youtube_df.loc[(youtube_df['channel_type'] == 'Education') & (youtube_df['category'].isnull()), 'category'] = 'Education'\n",
    "youtube_df.loc[(youtube_df['channel_type'] == 'Tech') & (youtube_df['category'].isnull()), 'category'] = 'Science & Technology'\n",
    "youtube_df.loc[(youtube_df['channel_type'] == 'Music') & (youtube_df['category'].isnull()), 'category'] = 'Music'\n",
    "\n",
    "# Drop remaining rows with null values for 'category' column\n",
    "youtube_df.dropna(subset=['category'], inplace=True)\n",
    "\n",
    "# Display the modified DataFrame\n",
    "youtube_df"
   ]
  },
  {
   "cell_type": "markdown",
   "id": "66de3962",
   "metadata": {},
   "source": [
    "We will also drop the \"channel_type\" column since we will no longer be using it."
   ]
  },
  {
   "cell_type": "code",
   "execution_count": null,
   "id": "7ca8a21f",
   "metadata": {},
   "outputs": [],
   "source": [
    "# Drop 'channel_type' column\n",
    "youtube_df.drop(columns='channel_type', inplace=True)\n",
    "youtube_df"
   ]
  },
  {
   "cell_type": "markdown",
   "id": "418a6627",
   "metadata": {},
   "source": [
    "After removing the observations, we will be resetting the indexes ensure there are no gaps and the data remains continuous.\n"
   ]
  },
  {
   "cell_type": "code",
   "execution_count": null,
   "id": "12de156a",
   "metadata": {},
   "outputs": [],
   "source": [
    "# Reset the index after dropping rows\n",
    "youtube_df.reset_index(drop=True, inplace=True)\n",
    "youtube_df"
   ]
  },
  {
   "cell_type": "markdown",
   "id": "0daf19e1",
   "metadata": {},
   "source": [
    "### The \"Country\" variable\n",
    "- **`Country`**: Country where the YouTube channel originates<br>\n",
    "\n",
    "We want to check if there are any observations that has null values for the \"Country\" column."
   ]
  },
  {
   "cell_type": "code",
   "execution_count": null,
   "id": "f104a336",
   "metadata": {},
   "outputs": [],
   "source": [
    "# Check for null values in Country\n",
    "null_country_df = youtube_df[youtube_df[\"Country\"].isnull()]\n",
    "null_country_df.head(10)"
   ]
  },
  {
   "cell_type": "code",
   "execution_count": null,
   "metadata": {},
   "outputs": [],
   "source": [
    "# Check for null values in Country\n",
    "null_country_count = youtube_df[\"Country\"].isnull().sum()\n",
    "print(f'Number of null values in \"Country\": {null_country_count}')"
   ]
  },
  {
   "cell_type": "markdown",
   "id": "558102e5",
   "metadata": {},
   "source": [
    "There are 94 observations without a country, approximately 10% of the dataset has null \"Country\" values.<br>\n",
    "Next, we will look for possible misrepresentations of the data."
   ]
  },
  {
   "cell_type": "code",
   "execution_count": null,
   "id": "a3c76080",
   "metadata": {},
   "outputs": [],
   "source": [
    "# Get the unique values in the \"Country\" column\n",
    "unique_country = youtube_df['Country'].unique()\n",
    "print(unique_country)\n",
    "print(f\"Number of countries: {unique_country.__len__()}\")\n"
   ]
  },
  {
   "cell_type": "markdown",
   "id": "83392f51",
   "metadata": {},
   "source": [
    "Since there are no misrepresentations, we will check the count for each unique value and determine if its possible to use the mode as replacement for the missing values."
   ]
  },
  {
   "cell_type": "code",
   "execution_count": null,
   "id": "f587143c",
   "metadata": {},
   "outputs": [],
   "source": [
    "# Get the count of each unique value in the \"Country\" column\n",
    "country_counts = youtube_df['Country'].value_counts()\n",
    "\n",
    "# Display the count of each unique value\n",
    "print(\"Count of each unique value in 'Country':\")\n",
    "print(country_counts)"
   ]
  },
  {
   "cell_type": "markdown",
   "id": "3675e562",
   "metadata": {},
   "source": [
    "The mode value \"United States\" has 306 counts, approximately 32.27% of Youtubers in the dataset are from the United States.<br>\n",
    "We will not replace missing values with the mode value since there is a large number of unique values in the dataset and the mode already represents a significant portion of the data. <br>\n",
    "If replaced, it can lead to a lack of diversity in the dataset, and it may not accurately reflect the underlying data distribution."
   ]
  },
  {
   "cell_type": "markdown",
   "id": "724ca6e0",
   "metadata": {},
   "source": [
    "    For visualization, if replaced we can see the following distribution of the values below."
   ]
  },
  {
   "cell_type": "code",
   "execution_count": null,
   "id": "094e7f92",
   "metadata": {},
   "outputs": [],
   "source": [
    "# Replace missing values with the mode\n",
    "test_df = youtube_df.copy()\n",
    "\n",
    "test_df['Country'].fillna(test_df['Country'].mode()[0], inplace=True)\n",
    "\n",
    "# Create a countplot to show the distribution of 'country' values\n",
    "plt.figure(figsize=(10, 6))\n",
    "sns.countplot(data=test_df, x='Country')\n",
    "plt.xlabel('Country')\n",
    "plt.ylabel('Count')\n",
    "plt.title('Distribution of Country Values')\n",
    "plt.xticks(rotation=90)  # Rotate x-axis labels for better readability\n",
    "\n",
    "plt.show()"
   ]
  },
  {
   "cell_type": "markdown",
   "id": "90c91cc3",
   "metadata": {},
   "source": [
    "We will be removing the observations with null \"Country\" values."
   ]
  },
  {
   "cell_type": "code",
   "execution_count": null,
   "id": "ac2cab23",
   "metadata": {},
   "outputs": [],
   "source": [
    "# Drop observations with null values\n",
    "youtube_df.dropna(subset=['Country'], inplace=True)\n",
    "youtube_df"
   ]
  },
  {
   "cell_type": "markdown",
   "id": "2dc393a6",
   "metadata": {},
   "source": [
    "After removing the observations, we will be resetting the indexes ensure there are no gaps and the data remains continuous.\n",
    "\n"
   ]
  },
  {
   "cell_type": "code",
   "execution_count": null,
   "id": "df907cd8",
   "metadata": {},
   "outputs": [],
   "source": [
    "# Reset the index after dropping rows\n",
    "youtube_df.reset_index(drop=True, inplace=True)\n",
    "youtube_df"
   ]
  },
  {
   "cell_type": "markdown",
   "id": "33ef5b52",
   "metadata": {},
   "source": [
    "### The \"Lowest Monthly Earnings\" variable\n",
    "- **`lowest_monthly_earnings`**: Lowest estimated monthly earnings from the channel \\$<br>\n",
    "\n",
    "We want to check if there are any values for \"lowest_monthly_earnings\" that are zero (0) or null.\n",
    "     "
   ]
  },
  {
   "cell_type": "code",
   "execution_count": null,
   "id": "246cb144",
   "metadata": {},
   "outputs": [],
   "source": [
    "# Check for null values in lowest_monthly_earnings\n",
    "null_lowestmonthly_df = youtube_df[youtube_df[\"lowest_monthly_earnings\"].eq(0)]\n",
    "null_lowestmonthly_df.head(10)"
   ]
  },
  {
   "cell_type": "code",
   "execution_count": null,
   "id": "39b2554b",
   "metadata": {},
   "outputs": [],
   "source": [
    "# Display the count\n",
    "null_lowestmonthly_count = youtube_df[\"lowest_monthly_earnings\"].eq(0).sum()\n",
    "print(f'Number of null values in \"lowest_monthly_earnings\": {null_lowestmonthly_count}')"
   ]
  },
  {
   "cell_type": "markdown",
   "id": "d67cc734",
   "metadata": {},
   "source": [
    "We have 34 observations wherein they have zero (0) or null values for \"lowest_monthly_earnings\".<br><br>\n",
    "Since there is the possibility of the earnings coming from sponsorships, affiliate marketing, etc., some of the earnings may not be accurated particularly the null values.\n",
    "We will be removing these zero (0) or null values to maintain the overall quality and integrity of our dataset. Through removal, we can avoid distorting the underlying patterns in the data and also avoid the complications of imputations. We would still be able to perform a meaningful analysis despite reducing the dataset."
   ]
  },
  {
   "cell_type": "code",
   "execution_count": null,
   "id": "c4c242c5",
   "metadata": {},
   "outputs": [],
   "source": [
    "# Drop all observations with zero lowest_monthly_earnings\n",
    "youtube_df.drop(youtube_df[youtube_df[\"lowest_monthly_earnings\"].eq(0)].index, inplace=True)\n",
    "youtube_df"
   ]
  },
  {
   "cell_type": "markdown",
   "id": "eebda0e1",
   "metadata": {},
   "source": [
    "After removing the observations, we will be resetting the indexes ensure there are no gaps and the data remains continuous.\n"
   ]
  },
  {
   "cell_type": "code",
   "execution_count": null,
   "id": "6f2e2357",
   "metadata": {},
   "outputs": [],
   "source": [
    "# Reset the index after dropping rows\n",
    "youtube_df.reset_index(drop=True, inplace=True)\n",
    "youtube_df"
   ]
  },
  {
   "cell_type": "markdown",
   "id": "a2ca90d3",
   "metadata": {},
   "source": [
    "### The \"Highest Monthly Earnings\" variable\n",
    "- **`highest_monthly_earnings`**: Highest estimated monthly earnings from the channel \\$<br>\n",
    "\n",
    "We want to check if there are any values for \"highest_monthly_earnings\" that are zero (0) or null."
   ]
  },
  {
   "cell_type": "code",
   "execution_count": null,
   "id": "e38135b5",
   "metadata": {},
   "outputs": [],
   "source": [
    "# Check for null values in highest_monthly_earnings\n",
    "null_highestmonthly_df = youtube_df[youtube_df[\"highest_monthly_earnings\"].eq(0)]\n",
    "null_highestmonthly_df.head(10)"
   ]
  },
  {
   "cell_type": "code",
   "execution_count": null,
   "id": "968eae54",
   "metadata": {},
   "outputs": [],
   "source": [
    "# Display the count\n",
    "null_highestmonthly_count = youtube_df[\"highest_monthly_earnings\"].eq(0).sum()\n",
    "print(f'Number of null values in \"highest_monthly_earnings\": {null_highestmonthly_count}')"
   ]
  },
  {
   "cell_type": "markdown",
   "id": "911fa1b5",
   "metadata": {},
   "source": [
    "We have 0 observations wherein they have zero (0) or null values for \"highest_monthly_earnings\".\n",
    "\n",
    "There is no need to drop any observations."
   ]
  },
  {
   "cell_type": "markdown",
   "id": "15b9e509",
   "metadata": {},
   "source": [
    "### The \"Lowest Yearly Earnings\" variable\n",
    "- **`lowest_yearly_earnings`**: Lowest estimated yearly earnings from the channel \\$<br>\n",
    "\n",
    "We want to check if there are any values for \"lowest_yearly_earnings\" that are zero (0) or null.\n",
    "     "
   ]
  },
  {
   "cell_type": "code",
   "execution_count": null,
   "id": "7247de1d",
   "metadata": {},
   "outputs": [],
   "source": [
    "# Check for null values in lowest_yearly_earnings\n",
    "null_lowestyearly_df = youtube_df[youtube_df[\"lowest_yearly_earnings\"].eq(0)]\n",
    "null_lowestyearly_df.head(10)"
   ]
  },
  {
   "cell_type": "code",
   "execution_count": null,
   "id": "865de7bc",
   "metadata": {},
   "outputs": [],
   "source": [
    "# Display the count\n",
    "null_lowestyearly_count = youtube_df[\"lowest_yearly_earnings\"].eq(0).sum()\n",
    "print(f'Number of null values in \"lowest_yearly_earnings\": {null_lowestyearly_count}')"
   ]
  },
  {
   "cell_type": "markdown",
   "id": "8215c341",
   "metadata": {},
   "source": [
    "We have 0 observations wherein they have zero (0) or null values for \"lowest_yearly_earnings\".\n",
    "\n",
    "There is no need to drop any observations."
   ]
  },
  {
   "cell_type": "markdown",
   "id": "f186704a",
   "metadata": {},
   "source": [
    "### The \"Highest Yearly Earnings\" variable\n",
    "- **`highest_yearly_earnings`**: Highest estimated monthly earnings from the channel \\$<br>\n",
    "\n",
    "We want to check if there are any values for \"highest_yearly_earnings\" that are zero (0) or null."
   ]
  },
  {
   "cell_type": "code",
   "execution_count": null,
   "id": "98fec914",
   "metadata": {},
   "outputs": [],
   "source": [
    "# Check for null values in highest_yearly_earnings\n",
    "null_highestyearly_df = youtube_df[youtube_df[\"highest_yearly_earnings\"].eq(0)]\n",
    "null_highestyearly_df.head(10)"
   ]
  },
  {
   "cell_type": "code",
   "execution_count": null,
   "id": "7f03daf8",
   "metadata": {},
   "outputs": [],
   "source": [
    "# Display the count\n",
    "null_highestyearly_count = youtube_df[\"highest_yearly_earnings\"].eq(0).sum()\n",
    "print(f'Number of null values in \"highest_yearly_earnings\": {null_highestyearly_count}')"
   ]
  },
  {
   "cell_type": "markdown",
   "id": "3770d8d7",
   "metadata": {},
   "source": [
    "We have 0 observations wherein they have zero (0) or null values for \"highest_yearly_earnings\". There is no need for cleaning."
   ]
  },
  {
   "cell_type": "markdown",
   "id": "10ad53e4",
   "metadata": {},
   "source": [
    "### The \"Created Year\" variable\n",
    "- **`created_year`**: Year when the YouTube channel was created<br>\n",
    "\n",
    "We want to check if there are any values for \"created_year\" that are zero (0) or null."
   ]
  },
  {
   "cell_type": "code",
   "execution_count": null,
   "id": "83d0f660",
   "metadata": {},
   "outputs": [],
   "source": [
    "# Check for null values in created_year\n",
    "null_createdyear_df = youtube_df[youtube_df[\"created_year\"].eq(0)]\n",
    "null_createdyear_df.head(10)"
   ]
  },
  {
   "cell_type": "code",
   "execution_count": null,
   "id": "5a5d11c1",
   "metadata": {},
   "outputs": [],
   "source": [
    "# Display the count\n",
    "null_createdyear_count = youtube_df[\"created_year\"].eq(0).sum()\n",
    "print(f'Number of null values in \"created_year\": {null_createdyear_count}')"
   ]
  },
  {
   "cell_type": "markdown",
   "id": "a7630996",
   "metadata": {},
   "source": [
    "We also want to check if there are any values less than 2005 since Youtube was made in this year."
   ]
  },
  {
   "cell_type": "code",
   "execution_count": null,
   "id": "13d52757",
   "metadata": {},
   "outputs": [],
   "source": [
    "# Check if there are any observations of Youtube channels created before 2005\n",
    "subset = youtube_df[youtube_df['created_year'] < 2005]\n",
    "subset\n"
   ]
  },
  {
   "cell_type": "markdown",
   "id": "d75de4e2",
   "metadata": {},
   "source": [
    "After manual checking, the channel does exist and the year shown is accurate but it may have been an error or a default value (0) in Posix time assigned in the database. \n",
    "\n",
    "As we are dealing with years, we will remove the observation instead since incorrect or error values for a year can significantly affect the accuracy and interpretation of the data."
   ]
  },
  {
   "cell_type": "code",
   "execution_count": null,
   "id": "9789e9f5",
   "metadata": {},
   "outputs": [],
   "source": [
    "# Get the index of the subset\n",
    "indices_to_drop = subset.index\n",
    "\n",
    "# Drop the observations from the original DataFrame\n",
    "youtube_df.drop(indices_to_drop, inplace=True)"
   ]
  },
  {
   "cell_type": "markdown",
   "id": "6369aa2d",
   "metadata": {},
   "source": [
    "Since the values of the variables are years, it would be appropriate to convert the data type to int."
   ]
  },
  {
   "cell_type": "code",
   "execution_count": null,
   "id": "59890de5",
   "metadata": {},
   "outputs": [],
   "source": [
    "# Convert the values in the 'created_year' column to integers\n",
    "youtube_df['created_year'] = youtube_df['created_year'].astype('int64')"
   ]
  },
  {
   "cell_type": "markdown",
   "id": "1324fbca",
   "metadata": {},
   "source": [
    "### The \"Population\" variable\n",
    "- **`Population`**: Total population of the country<br>\n",
    "\n",
    "We want to check if there are any values for \"Population\" that are zero (0) or null."
   ]
  },
  {
   "cell_type": "code",
   "execution_count": null,
   "id": "2643b11d",
   "metadata": {},
   "outputs": [],
   "source": [
    "# Check for null values in Population\n",
    "null_population_df = youtube_df[youtube_df[\"Population\"].eq(0)]\n",
    "null_population_df.head(10)"
   ]
  },
  {
   "cell_type": "code",
   "execution_count": null,
   "id": "6412c02b",
   "metadata": {},
   "outputs": [],
   "source": [
    "# Display the count\n",
    "null_population_count = youtube_df[\"Population\"].eq(0).sum()\n",
    "print(f'Number of null values in \"Population\": {null_population_count}')"
   ]
  },
  {
   "cell_type": "markdown",
   "id": "b5b4fe54",
   "metadata": {},
   "source": [
    "We have 0 observations wherein they have zero (0) or null values for \"Population\". \n",
    "\n",
    "We want to scale the values to millions to make it more readable. "
   ]
  },
  {
   "cell_type": "code",
   "execution_count": null,
   "id": "119829fd",
   "metadata": {},
   "outputs": [],
   "source": [
    "# Convert the \"Population\" column to values in millions\n",
    "youtube_df['Population'] = youtube_df['Population'] / 1000000\n",
    "# Rename the \"Population\" column to indicate values are in millions\n",
    "youtube_df = youtube_df.rename(columns={'Population': 'Population (millions)'})\n",
    "# Round the values to 3 decimal places\n",
    "youtube_df['Population (millions)'] = youtube_df['Population (millions)'].round(3)\n",
    "youtube_df"
   ]
  },
  {
   "cell_type": "markdown",
   "id": "6d391d55",
   "metadata": {},
   "source": [
    "### Check Data Types of the Values in each Column\n",
    "\n",
    "We want to check if the values in each column match their respective data types (float64, int64, and object)."
   ]
  },
  {
   "cell_type": "code",
   "execution_count": null,
   "id": "82e731d2",
   "metadata": {},
   "outputs": [],
   "source": [
    "# Define the expected data types\n",
    "expected_data_types = {\n",
    "    'Youtuber': object,\n",
    "    'subscribers (millions)': float,\n",
    "    'video views (millions)': float,\n",
    "    'uploads': int,\n",
    "    'Country': object,\n",
    "    'lowest_monthly_earnings': float,\n",
    "    'highest_monthly_earnings': float,\n",
    "    'lowest_yearly_earnings': float,\n",
    "    'highest_yearly_earnings': float,\n",
    "    'created_year': int,\n",
    "    'Population (millions)': float\n",
    "}\n",
    "\n",
    "# Check if values in each column match the expected data type using a custom function\n",
    "def check_data_type(column_name, expected_dtype):\n",
    "    for value in youtube_df[column_name]:\n",
    "        if not isinstance(value, expected_dtype):\n",
    "            return False\n",
    "    return True\n",
    "\n",
    "all_columns_match = True\n",
    "\n",
    "for column_name, expected_dtype in expected_data_types.items():\n",
    "    if not check_data_type(column_name, expected_dtype):\n",
    "        all_columns_match = False\n",
    "        print(f\"Column '{column_name}' does not match the expected data type {expected_dtype}.\")\n",
    "\n",
    "if all_columns_match:\n",
    "    print(\"All columns match the expected data types.\")\n",
    "else:\n",
    "    print(\"Not all columns match the expected data types.\")"
   ]
  },
  {
   "cell_type": "markdown",
   "id": "5924b9e3",
   "metadata": {},
   "source": [
    "### Post Data Cleaning\n",
    "\n"
   ]
  },
  {
   "cell_type": "markdown",
   "id": "520d2573",
   "metadata": {},
   "source": [
    "#### Dataset Information:\n",
    "- **`Rows/Observations`**: 820\n",
    "- **`Variables/Columns`**: 12\n",
    "- **`Data Types`**: float64(7), int64(2), object(3)\n",
    "\n",
    "The variables that will be used are as follows:\n",
    "- **`Youtuber`**: Name of the YouTube channel\n",
    "- **`subscribers (millions)`**: Number of subscribers to the channel\n",
    "- **`video views (millions)`**: Overall count views to the channel\n",
    "- **`category`**: Category or niche of the channel\n",
    "- **`uploads`**: Total number of videos uploaded on the channel\n",
    "- **`Country`**: Country where the YouTube channel originates\n",
    "- **`lowest_monthly_earnings`**: Lowest estimated monthly earnings from the channel \\$\n",
    "- **`highest_monthly_earnings`**: Highest estimated monthly earnings from the channel \\$\n",
    "- **`lowest_yearly_earnings`**: Lowest estimated yearly earnings from the channel \\$\n",
    "- **`highest_yearly_earnings`**: Highest estimated yearly earnings from the channel $\n",
    "- **`created_year`**: Year when the YouTube channel was created\n",
    "- **`Population (millions)`**: Total population of the country"
   ]
  },
  {
   "cell_type": "code",
   "execution_count": null,
   "id": "f2a26caf",
   "metadata": {},
   "outputs": [],
   "source": [
    "youtube_df.info()"
   ]
  },
  {
   "cell_type": "markdown",
   "id": "52a36e0d",
   "metadata": {},
   "source": [
    "# Exploratory Data Analysis\n",
    "\n",
    "    \n",
    "    This section of the Jupyter Notebook contains the overall process of our Exploratory Data Analysis of our dataset, together with the questions that we are curious to comprehend and answer through exploratory data analysis."
   ]
  },
  {
   "cell_type": "markdown",
   "id": "22b36f1b",
   "metadata": {},
   "source": [
    "### 1. What are the lowest and highest yearly earning categories?\n",
    "\n",
    "**Description**:\n",
    "- This analysis aims to identify and explore the YouTube content categories or niches that yield the lowest and highest yearly earnings.\n",
    "\n",
    "**Variables**:\n",
    "- `category`\n",
    "- `lowest_yearly_earnings`\n",
    "- `highest_yearly_earnings`"
   ]
  },
  {
   "cell_type": "markdown",
   "id": "80bbf7a9",
   "metadata": {},
   "source": [
    "**Numerical Summary**\n",
    "\n",
    "Get the lowest and highest yearly earnings of Youtube Channels per category.\n",
    "Calculate the average yearly earnings for reference as well."
   ]
  },
  {
   "cell_type": "code",
   "execution_count": null,
   "id": "bfdf5dbd",
   "metadata": {},
   "outputs": [],
   "source": [
    "# show first 10 lowest_yearly_earnings values\n",
    "youtube_df['lowest_yearly_earnings'].head(10)"
   ]
  },
  {
   "cell_type": "code",
   "execution_count": null,
   "id": "34db6930",
   "metadata": {},
   "outputs": [],
   "source": [
    "# show first 10 highest_yearly_earnings values\n",
    "youtube_df['highest_yearly_earnings'].head(10)"
   ]
  },
  {
   "cell_type": "code",
   "execution_count": null,
   "id": "9a56191a",
   "metadata": {},
   "outputs": [],
   "source": [
    "# calculate the average yearly earnings\n",
    "youtube_df['average_yearly_earnings'] = (youtube_df['lowest_yearly_earnings'] + youtube_df['highest_yearly_earnings']) / 2"
   ]
  },
  {
   "cell_type": "markdown",
   "id": "1010faec",
   "metadata": {},
   "source": [
    "**Visualization**\n",
    "\n",
    "Create a horizontal bar chart to visualize the lowest and highest yearly earnings categories, showing how they compare to one another."
   ]
  },
  {
   "cell_type": "code",
   "execution_count": null,
   "id": "255dbf96",
   "metadata": {},
   "outputs": [],
   "source": [
    "# make category as string\n",
    "youtube_df['category'] = youtube_df['category'].astype(str)\n",
    "\n",
    "# create horizontal bar chart for lowest yearly earnings sorted \n",
    "plt.figure(figsize=(10, 6))\n",
    "sns.barplot(data=youtube_df.sort_values(by='lowest_yearly_earnings', ascending=False),\n",
    "            x='lowest_yearly_earnings', y='category')\n",
    "plt.xlabel('Lowest Yearly Earnings')\n",
    "plt.ylabel('Category')\n",
    "plt.title('Lowest Yearly Earnings by Category')\n",
    "plt.show()\n",
    "\n",
    "# create horizontal bar chart for highest yearly earnings sorted \n",
    "plt.figure(figsize=(10, 6))\n",
    "sns.barplot(data=youtube_df.sort_values(by='highest_yearly_earnings', ascending=False),\n",
    "            x='highest_yearly_earnings', y='category')\n",
    "plt.xlabel('Highest Yearly Earnings')\n",
    "plt.ylabel('Category')\n",
    "plt.title('Highest Yearly Earnings by Category')\n",
    "plt.show()\n",
    "\n",
    "# create horizontal bar chart for average yearly earnings sorted \n",
    "plt.figure(figsize=(10, 6))\n",
    "sns.barplot(data=youtube_df.sort_values(by='average_yearly_earnings', ascending=False),\n",
    "            x='average_yearly_earnings', y='category')\n",
    "plt.xlabel('Average Yearly Earnings')\n",
    "plt.ylabel('Category')\n",
    "plt.title('Average Yearly Earnings by Category')\n",
    "plt.show()"
   ]
  },
  {
   "cell_type": "markdown",
   "id": "a8bc3dd3",
   "metadata": {},
   "source": [
    "**Conclusion**"
   ]
  },
  {
   "cell_type": "markdown",
   "id": "559e3f99",
   "metadata": {},
   "source": [
    "### 2. Is there a correlation between video views and subscriber counts on YouTube channels?\n",
    "\n",
    "**Description**\n",
    "- This analysis investigates the relationship between the number of video views and the number of subscribers on YouTube channels to determine if there's a correlation indicating viewer engagement.\n",
    "\n",
    "**Variables**\n",
    "- `video views`\n",
    "- `subscribers`"
   ]
  },
  {
   "cell_type": "markdown",
   "id": "41c44609",
   "metadata": {},
   "source": [
    "**Numerical Summary**\n",
    "\n",
    "Calculate the Pearson correlation coefficient to quantify the strength and direction of the correlation between video views and subscribers.\n"
   ]
  },
  {
   "cell_type": "code",
   "execution_count": null,
   "id": "b7c619d3",
   "metadata": {},
   "outputs": [],
   "source": [
    "# calculate pearson correlation betwen video views and subscribers\n",
    "youtube_df['video views (millions)'].corr(youtube_df['subscribers (millions)'])\n"
   ]
  },
  {
   "cell_type": "markdown",
   "id": "f768084c",
   "metadata": {},
   "source": [
    "**Visualization**\n",
    "\n",
    "Create a scatterplot to visualize the relationship between video views and subscribers, indicating the nature of the correlation."
   ]
  },
  {
   "cell_type": "code",
   "execution_count": null,
   "id": "28566f50",
   "metadata": {},
   "outputs": [],
   "source": [
    "# scatterplot by using\n",
    "plt.figure(figsize=(16, 8))\n",
    "sns.scatterplot(x='video views (millions)', y='subscribers (millions)', data=youtube_df)\n",
    "plt.xlabel('Video Views')\n",
    "plt.ylabel('Subscribers')\n",
    "plt.title('Video Views vs. Subscribers')\n",
    "plt.show()"
   ]
  },
  {
   "cell_type": "markdown",
   "id": "bffb3c5f",
   "metadata": {},
   "source": [
    "**Conclusion**\n"
   ]
  },
  {
   "cell_type": "markdown",
   "id": "875f7d8f",
   "metadata": {},
   "source": []
  },
  {
   "cell_type": "markdown",
   "id": "bd708fa5",
   "metadata": {},
   "source": [
    "### 3. Is there a correlation between video views and average yearly earnings on YouTube channels?\n",
    "\n",
    "**Description**\n",
    "- This analysis explores whether there's a correlation between the number of video views and the monthly earnings of YouTube channels, offering insights into the monetization potential of views.\n",
    "\n",
    "**Variables**\n",
    "- `video views`\n",
    "- `lowest_yearly_earnings`\n",
    "- `highest_yearly_earnings`"
   ]
  },
  {
   "cell_type": "markdown",
   "id": "6d6b7115",
   "metadata": {},
   "source": [
    "**Numerical Summary**\n",
    "\n",
    "Calculate the correlation coefficient to determine the strength and direction of the correlation between video views and average yearly earnings"
   ]
  },
  {
   "cell_type": "code",
   "execution_count": null,
   "id": "69cda9cb",
   "metadata": {},
   "outputs": [],
   "source": [
    "# calculate average yearly earnings\n",
    "youtube_df['avg_yearly_earnings'] = (youtube_df['lowest_yearly_earnings'] + youtube_df['highest_yearly_earnings']) / 2\n",
    "\n",
    "# calculate pearson correlation betwen video views and average yearly earnings\n",
    "youtube_df['video views (millions)'].corr(youtube_df['avg_yearly_earnings'])"
   ]
  },
  {
   "cell_type": "markdown",
   "id": "bbfcdb4e",
   "metadata": {},
   "source": [
    "**Visualization**\n",
    "\n",
    "Create a scatterplot to visualize the relationship between video views and average yearly earnings, highlighting the nature of the correlation.\n"
   ]
  },
  {
   "cell_type": "code",
   "execution_count": null,
   "id": "83597404",
   "metadata": {},
   "outputs": [],
   "source": [
    "# visualize the data\n",
    "plt.figure(figsize=(16, 8))\n",
    "sns.scatterplot(x='video views (millions)', y='avg_yearly_earnings', data=youtube_df)\n",
    "plt.xlabel('Video Views')\n",
    "plt.ylabel('Average Yearly Earnings')\n",
    "plt.title('Video Views vs. Average Yearly Earnings')\n",
    "plt.show()"
   ]
  },
  {
   "cell_type": "markdown",
   "id": "e5444fd4",
   "metadata": {},
   "source": [
    "**Conclusion**"
   ]
  },
  {
   "cell_type": "markdown",
   "id": "215d4b62",
   "metadata": {},
   "source": [
    "### 4. Are there discernible patterns related to a YouTube channel's category and its subscribers?\n",
    "\n",
    "\n",
    "**Description**:\n",
    "- We aim to explore if there are discernible patterns related to a YouTube channel's category and its subscribers. We will perform numerical summary and visualization to analyze the data.\n",
    "\n",
    "**Variables**:\n",
    "- `subscribers` : The number of subscribers for YouTube channels.\n",
    "- `category` : The category of the YouTube channels.\n"
   ]
  },
  {
   "cell_type": "markdown",
   "id": "b838c4f1",
   "metadata": {},
   "source": [
    "**Numerical Summary**\n",
    "\n",
    "We calculated summary statistics for the `subscribers` column using youtube_df['subscribers'].describe(). The subscribers column represents the `average number of subscribers` for each YouTube channel within their respective categories."
   ]
  },
  {
   "cell_type": "code",
   "execution_count": null,
   "id": "d67a880e",
   "metadata": {},
   "outputs": [],
   "source": [
    "subscribers_summary = youtube_df['subscribers (millions)'].describe()"
   ]
  },
  {
   "cell_type": "markdown",
   "id": "3824500f",
   "metadata": {},
   "source": [
    "**Visualization**\n",
    "\n",
    "We created a horizontal bar chart to display the average subscribers for each category, using the average_subscribers_by_category variable. The x-axis represents the average subscribers (in millions), and the y-axis displays the categories. The chart is color-coded for better visualization."
   ]
  },
  {
   "cell_type": "code",
   "execution_count": null,
   "id": "87ecf65c",
   "metadata": {},
   "outputs": [],
   "source": [
    "# Bar Chart - Average Subscribers by Category\n",
    "average_subscribers_by_category = youtube_df.groupby('category')['subscribers (millions)'].mean().sort_values(ascending=False)\n",
    "plt.figure(figsize=(10, 6))\n",
    "sns.barplot(x=average_subscribers_by_category.values, y=average_subscribers_by_category.index, palette=\"viridis\", orient=\"h\")\n",
    "plt.title('Average Subscribers by Category')\n",
    "plt.xlabel('Average Subscribers (in millions)')\n",
    "plt.ylabel('Category')\n",
    "plt.show()"
   ]
  },
  {
   "cell_type": "markdown",
   "id": "74c202f4",
   "metadata": {},
   "source": [
    "**Conclusion**\n",
    "\n",
    "From our analysis, we have found discernible patterns related to a YouTube channel's category and its subscribers. The analysis revealed the following:\n",
    "\n",
    "- Shows had the highest average number of subscribers, with an average of over 4 million subscribers.\n",
    "\n",
    "- Trailers came in second place in terms of average subscribers.\n",
    "\n",
    "- Film & Animation occupied the third position in terms of average subscribers.\n",
    "\n",
    "- Pets & Animals had the third-to-last position with lower average subscribers.\n",
    "\n",
    "- Autos & Vehicles ranked second to last in terms of average subscribers.\n",
    "\n",
    "- Travel & Events was the category with the lowest average number of subscribers.\n",
    "\n",
    "These patterns suggest that the type of content and category significantly influences the average number of subscribers on YouTube channels. Channels in the \"Shows\" category, on average, tend to have the most subscribers, while those in the \"Travel & Events\" category have the fewest. This information can be valuable for content creators and marketers looking to understand subscriber trends on YouTube."
   ]
  },
  {
   "cell_type": "markdown",
   "id": "c6e1bea1",
   "metadata": {},
   "source": [
    "### 5. Are there discernible patterns related to a YouTube channel's category and its average yearly earnings?\n",
    "\n",
    "**Description**:\n",
    "- We aim to investigate if there are discernible patterns related to a YouTube channel's category and its average yearly earnings. We will conduct numerical summary and visualization to analyze the data.\n",
    "\n",
    "\n",
    "**Variables**:\n",
    "- `category` : The category of the YouTube channels.\n",
    "- `lowest_yearly_earnings` : The lowest estimated yearly earnings of the YouTube channels.\n",
    "- `highest_yearly_earnings` : The highest estimated yearly earnings of the YouTube channels.\n"
   ]
  },
  {
   "cell_type": "markdown",
   "id": "f9405f81",
   "metadata": {},
   "source": [
    "**Numerical Summary**\n",
    "\n",
    "We will calculate summary statistics for the 'average_yearly_earnings' column, which is the sum of the lowest and highest yearly earnings. This column represents the average yearly earnings for each YouTube channel within their respective categories."
   ]
  },
  {
   "cell_type": "code",
   "execution_count": null,
   "id": "eb1950d1",
   "metadata": {},
   "outputs": [],
   "source": [
    "youtube_df['average_yearly_earnings'] = youtube_df['lowest_yearly_earnings'] + youtube_df['highest_yearly_earnings']"
   ]
  },
  {
   "cell_type": "markdown",
   "id": "517b8ae9",
   "metadata": {},
   "source": [
    "**Visualization**\n",
    "\n",
    "We will create a horizontal bar chart to visualize the average yearly earnings for each category, using the average_yearly_earnings_by_category variable. The x-axis will represent the average yearly earnings (in dollars), and the y-axis will display the categories. The chart will be color-coded for better visualization."
   ]
  },
  {
   "cell_type": "code",
   "execution_count": null,
   "id": "02ad1cb7",
   "metadata": {},
   "outputs": [],
   "source": [
    "# Bar Chart - Average Yearly Earnings by Category\n",
    "average_yearly_earnings_by_category = youtube_df.groupby('category')['average_yearly_earnings'].mean().sort_values(ascending=False)\n",
    "plt.figure(figsize=(10, 6))\n",
    "sns.barplot(x=average_yearly_earnings_by_category.values, y=average_yearly_earnings_by_category.index, palette=\"viridis\", orient=\"h\")\n",
    "plt.title('Average Yearly Earnings by Category')\n",
    "plt.xlabel('Average Yearly Earnings (in dollars)')\n",
    "plt.ylabel('Category')\n",
    "plt.show()"
   ]
  },
  {
   "cell_type": "markdown",
   "id": "c25d3ffd",
   "metadata": {},
   "source": [
    "**Conclusion**\n",
    "\n",
    "Conclusion:\n",
    "From our analysis, we have found discernible patterns related to a YouTube channel's category and its average yearly earnings, calculated as the sum of the lowest and highest yearly earnings. The analysis reveals the following:\n",
    "\n",
    "- Shows had the highest average yearly earnings, with an average of 2.5 million dollars.\n",
    "\n",
    "- Autos & Vehicles came in second place in terms of average yearly earnings.\n",
    "\n",
    "- Sports occupied the third position in terms of average yearly earnings.\n",
    "\n",
    "- Science & Technology had the third-to-last position with lower average yearly earnings.\n",
    "\n",
    "- Howto & Style ranked second to last in terms of average yearly earnings.\n",
    "\n",
    "- Travel & Events was the category with the lowest average yearly earnings.\n",
    "\n",
    "These patterns suggest that the category of content significantly influences the average yearly earnings of YouTube channels. Channels in the \"Shows\" category, on average, tend to have the highest earnings, while those in the \"Travel & Evetns\" category have the lowest earnings. This information can be valuable for content creators and marketers looking to understand earning trends on YouTube."
   ]
  },
  {
   "cell_type": "markdown",
   "id": "f13f88a1",
   "metadata": {},
   "source": [
    "### 6. What is the distribution of video views for YouTube channels within each content category?\n",
    "\n",
    "**Description**:\n",
    "- We aim to explore the distribution of video views for YouTube channels within each content category.\n",
    "\n",
    "\n",
    "**Variables**:\n",
    "- `category` : The category of the YouTube channels.\n",
    "- `video views` : The number of video views for each YouTube channel.\n"
   ]
  },
  {
   "cell_type": "markdown",
   "id": "7fb858bf",
   "metadata": {},
   "source": [
    "**Numerical Summary**\n",
    "\n",
    "Calculate the summary statistics for the 'video_views' column within each category. This will help us understand the distribution of video views, including measures like the median, quartiles, and potential outliers for each category."
   ]
  },
  {
   "cell_type": "code",
   "execution_count": null,
   "id": "d9e7bbf3",
   "metadata": {},
   "outputs": [],
   "source": [
    "# Calculate the mean of video views within each category\n",
    "views_summary = youtube_df.groupby('category')['video views (millions)'].describe()\n",
    "\n",
    "# Sort the summary statistics by the \"count\" column in descending for visualization\n",
    "views_summary_sorted = views_summary.sort_values(by=('count'), ascending=False)\n",
    "\n",
    "# Display the sorted summary\n",
    "views_summary_sorted"
   ]
  },
  {
   "cell_type": "markdown",
   "id": "86d3c47e",
   "metadata": {},
   "source": [
    "**Visualization**\n",
    "\n",
    "Create a box plot and bar chart to visually represent the distribution of video views for each category. Box plots are effective for showing the central tendency and spread of data within categories."
   ]
  },
  {
   "cell_type": "code",
   "execution_count": null,
   "id": "3db7bf20",
   "metadata": {},
   "outputs": [],
   "source": []
  },
  {
   "cell_type": "code",
   "execution_count": null,
   "id": "d9b789f7",
   "metadata": {},
   "outputs": [],
   "source": [
    "# Horizontal Box Plot - Distribution of Video Views by Category\n",
    "plt.figure(figsize=(12, 6))\n",
    "sns.boxplot(x='video views (millions)', y='category', data=youtube_df)\n",
    "plt.title('Distribution of Video Views by Category')\n",
    "plt.xlabel('Number of Video Views')\n",
    "plt.ylabel('Category')\n",
    "plt.show()\n",
    "\n",
    "# Horizontal Bar Chart - Distribution of Video Views by Category\n",
    "plt.figure(figsize=(12, 6))\n",
    "sns.barplot(x='video views (millions)', y='category', data=youtube_df)\n",
    "plt.title('Distribution of Video Views by Category')\n",
    "plt.xlabel('Number of Video Views')\n",
    "plt.ylabel('Category')\n",
    "plt.show()"
   ]
  },
  {
   "cell_type": "markdown",
   "id": "b56f5858",
   "metadata": {},
   "source": [
    "**Conclusion**"
   ]
  },
  {
   "cell_type": "markdown",
   "id": "0db7f993",
   "metadata": {},
   "source": [
    "### 7. What are the most prevalent YouTube channel categories in the dataset?\n",
    "\n",
    "Description:\n",
    "- How many channels are in each category?\n",
    "\n",
    "Variables:\n",
    "- `category`"
   ]
  },
  {
   "cell_type": "markdown",
   "id": "ccf7d2c9",
   "metadata": {},
   "source": [
    "**Numerical Summary**\n",
    "\n",
    "Count the frequency of YouTube channels within each unique category."
   ]
  },
  {
   "cell_type": "code",
   "execution_count": null,
   "id": "0c6d7359",
   "metadata": {},
   "outputs": [],
   "source": [
    "category_counts = youtube_df['category'].value_counts()"
   ]
  },
  {
   "cell_type": "markdown",
   "id": "37e9ddba",
   "metadata": {},
   "source": [
    "**Visualization**\n",
    "\n",
    "Create a bar chart to visualize the distribution of YouTube channels across unique categories."
   ]
  },
  {
   "cell_type": "code",
   "execution_count": null,
   "id": "72f5632e",
   "metadata": {},
   "outputs": [],
   "source": [
    "# create a bar chart to visualize the distribution of YouTube channels across categories\n",
    "plt.figure(figsize=(12, 6))  # Adjust the figure size\n",
    "ax = sns.barplot(x=category_counts.values, y=category_counts.index, palette=\"viridis\", orient=\"h\")\n",
    "ax.set(xlabel='Number of Channels', ylabel='Category')\n",
    "plt.title('Distribution of YouTube Channels Across Categories')\n",
    "\n",
    "# Add data labels to the right of each bar for readability\n",
    "for p in ax.patches:\n",
    "    width = p.get_width()\n",
    "    ax.annotate(f'{int(width)}', xy=(width, p.get_y() + p.get_height() / 2), ha='left', va='center', fontsize=9, color='black')\n",
    "\n",
    "plt.tight_layout()  # Ensure labels and titles fit in the plot area\n",
    "plt.show()\n"
   ]
  },
  {
   "cell_type": "markdown",
   "id": "79acb7bd",
   "metadata": {},
   "source": [
    "**Conclusion**"
   ]
  },
  {
   "cell_type": "markdown",
   "id": "a8c4684b",
   "metadata": {},
   "source": [
    "### 8. What is the distribution of YouTube channels by their country of origin in the dataset? Retrieve the top 15 countries.\n",
    "\n",
    "Description:\n",
    "- aims to identify the top 15 countries with most amount of channels.\n",
    "\n",
    "Variables:\n",
    "- `Country`"
   ]
  },
  {
   "cell_type": "markdown",
   "id": "fe1b5735",
   "metadata": {},
   "source": [
    "**Numerical Summary**\n",
    "\n",
    "Get the frequency of YouTube channels from each country.\n",
    "\n",
    "Retrieve the top 15 countries with most frequency of YouTube channels."
   ]
  },
  {
   "cell_type": "markdown",
   "id": "9b690c75",
   "metadata": {},
   "source": [
    "country_counts = youtube_df['Country'].value_counts()"
   ]
  },
  {
   "cell_type": "code",
   "execution_count": null,
   "id": "5df00eb2",
   "metadata": {},
   "outputs": [],
   "source": [
    "top_15_countries = country_counts[:15]\n",
    "\n",
    "top_15_countries"
   ]
  },
  {
   "cell_type": "markdown",
   "id": "ff996957",
   "metadata": {},
   "source": [
    "**Visualization**\n",
    "\n",
    "Create a bar chart to visualize the distribution of YouTube channels by country – showing only the top 15."
   ]
  },
  {
   "cell_type": "code",
   "execution_count": null,
   "id": "be2efc04",
   "metadata": {},
   "outputs": [],
   "source": [
    "plt.figure(figsize=(12, 6))  # Adjust the figure size\n",
    "ax = sns.barplot(x=top_15_countries.values, y=top_15_countries.index, palette=\"viridis\", orient=\"h\")\n",
    "ax.set(xlabel='Number of Channels', ylabel='Country')\n",
    "plt.title('Distribution of YouTube Channels Across Countries')\n",
    "\n",
    "# Add data labels to the right of each bar for readability\n",
    "for p in ax.patches:\n",
    "    width = p.get_width()\n",
    "    ax.annotate(f'{int(width)}', xy=(width, p.get_y() + p.get_height() / 2), ha='left', va='center', fontsize=9, color='black')\n",
    "\n",
    "plt.tight_layout()  # Ensure labels and titles fit in the plot area\n",
    "plt.show()"
   ]
  },
  {
   "cell_type": "markdown",
   "id": "e752e824",
   "metadata": {},
   "source": [
    "**Conclusion**"
   ]
  },
  {
   "cell_type": "markdown",
   "id": "8ff313ab",
   "metadata": {},
   "source": []
  }
 ],
 "metadata": {
  "kernelspec": {
   "display_name": "Python 3 (ipykernel)",
   "language": "python",
   "name": "python3"
  },
  "language_info": {
   "codemirror_mode": {
    "name": "ipython",
    "version": 3
   },
   "file_extension": ".py",
   "mimetype": "text/x-python",
   "name": "python",
   "nbconvert_exporter": "python",
   "pygments_lexer": "ipython3",
   "version": "0.0.0"
  }
 },
 "nbformat": 4,
 "nbformat_minor": 5
}
