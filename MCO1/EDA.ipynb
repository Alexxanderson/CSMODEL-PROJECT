{
 "cells": [
  {
   "cell_type": "markdown",
   "metadata": {},
   "source": [
    "### Python Libraries"
   ]
  },
  {
   "cell_type": "code",
   "execution_count": null,
   "metadata": {},
   "outputs": [],
   "source": [
    "import numpy as np\n",
    "import pandas as pd\n",
    "import matplotlib.pyplot as plt\n",
    "import seaborn as sns"
   ]
  },
  {
   "cell_type": "markdown",
   "metadata": {},
   "source": [
    "### Dataset - Youtube Global Statistics"
   ]
  },
  {
   "cell_type": "code",
   "execution_count": null,
   "metadata": {},
   "outputs": [],
   "source": [
    "youtube_df = pd.read_csv(\"Global YouTube Statistics.csv\", encoding='iso-8859-1')"
   ]
  },
  {
   "cell_type": "code",
   "execution_count": null,
   "metadata": {},
   "outputs": [],
   "source": [
    "# 995 rows, 28 columns (uncleaned)\n",
    "youtube_df.shape"
   ]
  },
  {
   "cell_type": "code",
   "execution_count": null,
   "metadata": {},
   "outputs": [],
   "source": [
    "# get names of each column\n",
    "for i, col in enumerate(youtube_df.columns):\n",
    "    print(i, col)"
   ]
  },
  {
   "cell_type": "markdown",
   "metadata": {},
   "source": [
    "# **EXPLORATORY DATA ANALYSIS**"
   ]
  },
  {
   "cell_type": "markdown",
   "metadata": {},
   "source": [
    "1. Sample EDA Question?\n",
    "\n",
    "    **Description**:\n",
    "\n",
    "    **Variables**: `zzz` and `zzz`\n",
    "\n",
    "    **Numerical Summary**: \n",
    "\n",
    "    **Visualization**: "
   ]
  },
  {
   "cell_type": "markdown",
   "metadata": {},
   "source": [
    "#### ***SUCCESS METRICS AND CORRELATIONS***"
   ]
  },
  {
   "cell_type": "markdown",
   "metadata": {},
   "source": [
    "1. What are the highest earning categories?\n",
    "\n",
    "    **Description**: aims to identify and explore YouTube categories that yield the highest earnings\n",
    "\n",
    "    **Variables**: `category` and `highest_monthly_earnings`\n",
    "\n",
    "    **Numerical Summary**: calculate mean for `highest_monthly_earnings` within each `category`\n",
    "\n",
    "    **Visualization**: create a bar chart and/or box plot to visualize highest earning categories, showing how they compare to one another\n"
   ]
  },
  {
   "cell_type": "markdown",
   "metadata": {},
   "source": [
    "Calculate mean by grouping the data by 'category'"
   ]
  },
  {
   "cell_type": "code",
   "execution_count": null,
   "metadata": {},
   "outputs": [],
   "source": [
    "summary_mean = youtube_df.groupby('category')['highest_monthly_earnings'].mean()"
   ]
  },
  {
   "cell_type": "markdown",
   "metadata": {},
   "source": [
    "Create a bar chart to visualize the highest earning categories"
   ]
  },
  {
   "cell_type": "code",
   "execution_count": null,
   "metadata": {},
   "outputs": [],
   "source": [
    "plt.figure(figsize=(12, 6))\n",
    "sns.set_style(\"whitegrid\")\n"
   ]
  },
  {
   "cell_type": "markdown",
   "metadata": {},
   "source": [
    "Sort the categories by mean earnings in descending order"
   ]
  },
  {
   "cell_type": "code",
   "execution_count": null,
   "metadata": {},
   "outputs": [],
   "source": [
    "sorted_categories = summary_mean.sort_values(ascending=False).index"
   ]
  },
  {
   "cell_type": "markdown",
   "metadata": {},
   "source": [
    "Plot the bar chart\n"
   ]
  },
  {
   "cell_type": "code",
   "execution_count": null,
   "metadata": {},
   "outputs": [],
   "source": [
    "sns.barplot(x=summary_mean, y=summary_mean.index, order=sorted_categories, palette='viridis')\n",
    "plt.xlabel('Average Monthly Earnings (Millions)')\n",
    "plt.ylabel('Category')\n",
    "plt.title('Highest Earning YouTube Categories')\n",
    "plt.show()\n"
   ]
  },
  {
   "cell_type": "markdown",
   "metadata": {},
   "source": [
    "#### ***CATEGORIES AND ORIGIN***"
   ]
  },
  {
   "cell_type": "markdown",
   "metadata": {},
   "source": [
    "6. What is the distribution of YouTube channels by their country of origin?What is the distribution of YouTube channels by their country of origin?\n",
    "\n",
    "    **Description**:\n",
    "    - How many YouTube channels are there from each country in the dataset?\n",
    "    - Are there any countries with a disproportionately large number of channels compared to their population or other factors?\n",
    "\n",
    "    **Variables**: `country`\n",
    "\n",
    "    **Numerical Summary**: \n",
    "    - Count the frequency of channels from each `country`.\n",
    "    - You can also calculate the ratio of the number of channels to the country's population or other relevant factors to identify any disproportionality.\n",
    "\n",
    "    **Visualization**: \n",
    "    - Create a bar chart or a choropleth map to visualize the distribution of YouTube channels by `country`.\n",
    "    - Consider creating a scatter plot to visualize the relationship between the number of channels and relevant factors like population.\n"
   ]
  },
  {
   "cell_type": "markdown",
   "metadata": {},
   "source": [
    "#### ***TIME AND CHANNEL CREATIONS***"
   ]
  },
  {
   "cell_type": "markdown",
   "metadata": {},
   "source": [
    "#### ***TYPE OF CHANNEL AND SUCCESS***"
   ]
  },
  {
   "cell_type": "markdown",
   "metadata": {},
   "source": []
  }
 ],
 "metadata": {
  "kernelspec": {
   "display_name": "Python 3",
   "language": "python",
   "name": "python3"
  },
  "language_info": {
   "codemirror_mode": {
    "name": "ipython",
    "version": 3
   },
   "file_extension": ".py",
   "mimetype": "text/x-python",
   "name": "python",
   "nbconvert_exporter": "python",
   "pygments_lexer": "ipython3",
   "version": "3.11.3"
  },
  "orig_nbformat": 4
 },
 "nbformat": 4,
 "nbformat_minor": 2
}
