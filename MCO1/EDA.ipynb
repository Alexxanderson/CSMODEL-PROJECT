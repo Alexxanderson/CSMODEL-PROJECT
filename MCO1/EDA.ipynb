{
 "cells": [
  {
   "cell_type": "markdown",
   "metadata": {},
   "source": [
    "### Python Libraries"
   ]
  },
  {
   "cell_type": "code",
   "execution_count": 69,
   "metadata": {},
   "outputs": [],
   "source": [
    "import numpy as np\n",
    "import pandas as pd\n",
    "import matplotlib.pyplot as plt\n",
    "import seaborn as sns"
   ]
  },
  {
   "cell_type": "markdown",
   "metadata": {},
   "source": [
    "### Dataset - Youtube Global Statistics"
   ]
  },
  {
   "cell_type": "code",
   "execution_count": 70,
   "metadata": {},
   "outputs": [],
   "source": [
    "youtube_df = pd.read_csv(\"Global YouTube Statistics.csv\", encoding='iso-8859-1')"
   ]
  },
  {
   "cell_type": "code",
   "execution_count": 71,
   "metadata": {},
   "outputs": [
    {
     "data": {
      "text/plain": [
       "(995, 28)"
      ]
     },
     "execution_count": 71,
     "metadata": {},
     "output_type": "execute_result"
    }
   ],
   "source": [
    "# 995 rows, 28 columns (uncleaned)\n",
    "youtube_df.shape"
   ]
  },
  {
   "cell_type": "code",
   "execution_count": 72,
   "metadata": {},
   "outputs": [
    {
     "name": "stdout",
     "output_type": "stream",
     "text": [
      "0 rank\n",
      "1 Youtuber\n",
      "2 subscribers\n",
      "3 video views\n",
      "4 category\n",
      "5 Title\n",
      "6 uploads\n",
      "7 Country\n",
      "8 Abbreviation\n",
      "9 channel_type\n",
      "10 video_views_rank\n",
      "11 country_rank\n",
      "12 channel_type_rank\n",
      "13 video_views_for_the_last_30_days\n",
      "14 lowest_monthly_earnings\n",
      "15 highest_monthly_earnings\n",
      "16 lowest_yearly_earnings\n",
      "17 highest_yearly_earnings\n",
      "18 subscribers_for_last_30_days\n",
      "19 created_year\n",
      "20 created_month\n",
      "21 created_date\n",
      "22 Gross tertiary education enrollment (%)\n",
      "23 Population\n",
      "24 Unemployment rate\n",
      "25 Urban_population\n",
      "26 Latitude\n",
      "27 Longitude\n"
     ]
    }
   ],
   "source": [
    "# get names of each column\n",
    "for i, col in enumerate(youtube_df.columns):\n",
    "    print(i, col)"
   ]
  },
  {
   "cell_type": "markdown",
   "metadata": {},
   "source": [
    "# **EXPLORATORY DATA ANALYSIS**"
   ]
  },
  {
   "cell_type": "markdown",
   "metadata": {},
   "source": [
    "1. Sample EDA Question?\n",
    "\n",
    "    **Description**:\n",
    "\n",
    "    **Variables**: `zzz` and `zzz`\n",
    "\n",
    "    **Numerical Summary**: \n",
    "\n",
    "    **Visualization**: "
   ]
  },
  {
   "cell_type": "markdown",
   "metadata": {},
   "source": [
    "#### ***SUCCESS METRICS AND CORRELATIONS***"
   ]
  },
  {
   "cell_type": "markdown",
   "metadata": {},
   "source": [
    "1. What are the highest earning categories?\n",
    "\n",
    "    **Description**: aims to identify and explore YouTube categories that yield the highest earnings\n",
    "\n",
    "    **Variables**: `category` and `highest_monthly_earnings`\n",
    "\n",
    "    **Numerical Summary**: calculate summary statistics for `highest_monthly_earnings` within each `category`\n",
    "\n",
    "    **Visualization**: create a bar chart and/or box plot to visualize highest earning categories, showing how they compare to one another\n"
   ]
  },
  {
   "cell_type": "code",
   "execution_count": 73,
   "metadata": {},
   "outputs": [],
   "source": []
  },
  {
   "cell_type": "markdown",
   "metadata": {},
   "source": [
    "#### ***CATEGORIES AND ORIGIN***"
   ]
  },
  {
   "cell_type": "markdown",
   "metadata": {},
   "source": [
    "#### ***TIME AND CHANNEL CREATIONS***"
   ]
  },
  {
   "cell_type": "markdown",
   "metadata": {},
   "source": [
    "#### ***TYPE OF CHANNEL AND SUCCESS***"
   ]
  },
  {
   "cell_type": "markdown",
   "metadata": {},
   "source": []
  }
 ],
 "metadata": {
  "kernelspec": {
   "display_name": "Python 3",
   "language": "python",
   "name": "python3"
  },
  "language_info": {
   "codemirror_mode": {
    "name": "ipython",
    "version": 3
   },
   "file_extension": ".py",
   "mimetype": "text/x-python",
   "name": "python",
   "nbconvert_exporter": "python",
   "pygments_lexer": "ipython3",
   "version": "3.11.3"
  },
  "orig_nbformat": 4
 },
 "nbformat": 4,
 "nbformat_minor": 2
}
