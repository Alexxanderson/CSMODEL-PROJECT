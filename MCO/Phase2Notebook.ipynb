{
 "cells": [
  {
   "cell_type": "markdown",
   "id": "4192360d",
   "metadata": {},
   "source": [
    "# CSMODEL Machine Project: \n",
    "\n",
    "This Jupyter Notebook includes the following contents:\n",
    "    \n",
    "    0.  2023 Global Youtube Statistics Dataset\n",
    "    1.  Description of the Dataset\n",
    "    2.  Data Cleaning Process of the Dataset\n",
    "    3.  Exploratory Data Analysis \n",
    "    4.  Proposed Research Question\n",
    "    5.  Data Preprocessing\n",
    "    6.  Data Modelling\n",
    "    7.  Statistical Inference\n",
    "    8.  Insights and Conclusion\n",
    "\n",
    "### GARYNATION  (S13)\n",
    "    1.  Bien Aaron Miranda \n",
    "    2.  Luis Miguel Rana\n",
    "    3.  Karl Andre Aquino\n",
    "    4.  Dominic Luis Baccay"
   ]
  },
  {
   "cell_type": "markdown",
   "id": "30c57598",
   "metadata": {},
   "source": [
    "# Phase 1"
   ]
  },
  {
   "cell_type": "markdown",
   "id": "03db10e5",
   "metadata": {},
   "source": [
    "### Python Libraries\n",
    "\n",
    "Import numpy and pandas.\n",
    "\n",
    "pandas is a software library for Python which provides data structures and data analysis tools."
   ]
  },
  {
   "cell_type": "code",
   "execution_count": null,
   "id": "15382ed8",
   "metadata": {},
   "outputs": [],
   "source": [
    "import numpy as np\n",
    "import pandas as pd\n",
    "import matplotlib.pyplot as plt\n",
    "import seaborn as sns\n",
    "from sklearn.linear_model import LinearRegression\n",
    "from scipy.stats import chi2_contingency\n",
    "from scipy import stats"
   ]
  },
  {
   "cell_type": "markdown",
   "id": "92a801c6",
   "metadata": {},
   "source": [
    "## The Dataset\n",
    "This dataset, which includes well-known YouTube personalities, offers a compelling opportunity to analyze and glean invaluable insights from the influential figures within the platform. It contains comprehensive details on subscriber counts, video views, posting frequency, country of origin, income, and other relevant information about top creators. This treasure trove of data is indispensable for up-and-coming content creators, data aficionados, and anyone intrigued by the dynamic landscape of online content creation.\n",
    "\n",
    "As stated by the dataset owner, dataset was painstakingly and diligently compiled from an array of highly regarded and credible sources, meticulously curating its contents to guarantee the utmost accuracy and unwavering reliability of the information it encapsulates, thereby instilling confidence in the veracity of the presented data.\n",
    "\n",
    "\n",
    "\n"
   ]
  },
  {
   "cell_type": "code",
   "execution_count": null,
   "id": "a3a91822",
   "metadata": {},
   "outputs": [],
   "source": [
    "#encoding came from the discussion so that it is readable\n",
    "youtube_df = pd.read_csv(\"Global YouTube Statistics.csv\", encoding='iso-8859-1')"
   ]
  },
  {
   "cell_type": "markdown",
   "id": "f7874cee",
   "metadata": {},
   "source": [
    "If you view the `.csv` file in Excel, you can see that our dataset contains about 995 **observations** (rows) across 28 **variables** (columns). The following are the descriptions of each variable in the dataset.\n",
    "\n",
    "- **`rank`**: Position of the YouTube channel based on the number of subscribers\n",
    "- **`Youtuber`**: Name of the YouTube channel\n",
    "- **`subscribers`**: Number of subscribers to the channel\n",
    "- **`video views`**: Overall count views to the channel\n",
    "- **`category`**: Category or niche of the channel\n",
    "- **`Title`**: Title\n",
    "- **`uploads`**: Total number of videos uploaded on the channel\n",
    "- **`Country`**: Country where the YouTube channel originates\n",
    "- **`Abbreviation`**: Abbreviation of the country\n",
    "- **`channel_type`**: Type of the YouTube channel (e.g., individual, brand)\n",
    "- **`video_views_rank`**: Ranking of the channel based on total video views\n",
    "- **`country_rank`**: Ranking of the channel based on the number of subscribers within its country\n",
    "- **`channel_type_rank`**: Ranking of the channel based on its type (individual or brand)\n",
    "- **`video_views_for_the_last_30_days`**: Total video views in the last 30 days\n",
    "- **`lowest_monthly_earnings`**: Lowest estimated monthly earnings from the channel \\$\n",
    "- **`highest_monthly_earnings`**: Highest estimated monthly earnings from the channel \\$\n",
    "- **`lowest_yearly_earnings`**: Lowest estimated yearly earnings from the channel \\$\n",
    "- **`highest_yearly_earnings`**: Highest estimated yearly earnings from the channel $\n",
    "- **`subscribers_for_last_30_days`**: Number of new subscribers gained in the last 30 days\n",
    "- **`created_year`**: Year when the YouTube channel was created\n",
    "- **`created_month`**: Month when the YouTube channel was created\n",
    "- **`created_date`**: Exact date of the YouTube channel's creation\n",
    "- **`Gross tertiary education enrollment (\\%)`**: Percentage of the population enrolled in tertiary education in the country %\n",
    "- **`Population`**: Total population of the country\n",
    "- **`Unemployment rate`**: Unemployment rate in the country %\n",
    "- **`Urban_population`**: Percentage of the population living in urban areas %\n",
    "- **`Latitude`**: Latitude coordinate of the country's location\n",
    "- **`Longitude`**: Longitude coordinate of the country's location\n",
    "\n",
    "\n"
   ]
  },
  {
   "cell_type": "markdown",
   "id": "e061dad8",
   "metadata": {},
   "source": [
    "## Reading the Dataset\n",
    "\n",
    "Our first step is to load the dataset using pandas. This will load the dataset into a pandas DataFrame. To load the dataset, we use the read_csv function. Note that you may need to change the path depending on the location of the file in your machine.\n",
    "\n",
    "Will also tackle about what can be seen in the Dataset as a DataFrame"
   ]
  },
  {
   "cell_type": "code",
   "execution_count": null,
   "id": "b1f9b083",
   "metadata": {},
   "outputs": [],
   "source": [
    "youtube_df.info()"
   ]
  },
  {
   "cell_type": "markdown",
   "id": "2e57718e",
   "metadata": {},
   "source": [
    "### Examining the observations within the Dataset\n",
    "\n",
    "    \n",
    "To gain a better understanding of the observations within the dataset, it's essential to examine their appearance or visual representation. This can provide valuable insights and help you make informed decisions based on the data."
   ]
  },
  {
   "cell_type": "code",
   "execution_count": null,
   "id": "42354e15",
   "metadata": {},
   "outputs": [],
   "source": [
    "youtube_df.head(10)"
   ]
  },
  {
   "cell_type": "markdown",
   "id": "61e9f7f5",
   "metadata": {},
   "source": [
    "# Cleaning the Dataset\n",
    "\n",
    "    This section of the Jupyter Notebook contains the overall process and variables affected during the data cleaning of our dataset."
   ]
  },
  {
   "cell_type": "markdown",
   "id": "c1c26134",
   "metadata": {},
   "source": [
    "### Before Cleaning:\n",
    "    Number of Observations: 995\n",
    "    Number of Columns: 28\n",
    "    Data types: float64(18), int64(3), object(7)\n",
    "\n",
    "### Initial Observations: \n",
    "-   There are special characters in the 'Youtuber' column.\n",
    "-   There are missing/null values in the dataset.\n",
    "-   Some variables are similar, therefore, unnecessary.\n",
    "-   Some data types are inappropriate for their respective variables.\n"
   ]
  },
  {
   "cell_type": "markdown",
   "id": "7b1619d6",
   "metadata": {},
   "source": [
    "\n",
    "#### Variables to be Observed:\n",
    "We will be dropping all columns/variables except the following.\n",
    "- **`Youtuber`**: Name of the YouTube channel\n",
    "- **`subscribers`**: Number of subscribers to the channel\n",
    "- **`video views`**: Overall count views to the channel\n",
    "- **`category`**: Category or niche of the channel\n",
    "- **`uploads`**: Total number of videos uploaded on the channel\n",
    "- **`Country`**: Country where the YouTube channel originates\n",
    "- **`channel_type`**: Type of the YouTube channel (e.g., individual, brand)\n",
    "- **`lowest_monthly_earnings`**: Lowest estimated monthly earnings from the channel \\$\n",
    "- **`highest_monthly_earnings`**: Highest estimated monthly earnings from the channel \\$\n",
    "- **`lowest_yearly_earnings`**: Lowest estimated yearly earnings from the channel \\$\n",
    "- **`highest_yearly_earnings`**: Highest estimated yearly earnings from the channel $\n",
    "- **`created_year`**: Year when the YouTube channel was created\n",
    "- **`Population`**: Total population of the country"
   ]
  },
  {
   "cell_type": "code",
   "execution_count": null,
   "id": "66a8397e",
   "metadata": {},
   "outputs": [],
   "source": [
    "# Declare the variables that will be used\n",
    "columns_to_keep = ['Youtuber', 'subscribers', 'video views', 'uploads', 'category', 'channel_type', 'Country', 'lowest_monthly_earnings', 'highest_monthly_earnings', 'lowest_yearly_earnings', 'highest_yearly_earnings', 'created_year', 'Population']\n",
    "columns_to_drop = list(set(youtube_df.columns) - set(columns_to_keep))\n",
    "\n",
    "# Drop unused columns (variables)\n",
    "youtube_df.drop(columns_to_drop, axis=1, inplace=True)\n",
    "\n",
    "youtube_df"
   ]
  },
  {
   "cell_type": "markdown",
   "id": "97987c50",
   "metadata": {},
   "source": [
    "### The \"Youtuber\" variable\n",
    "\n",
    "- **`Youtuber`**: Name of the YouTube channel<br>\n",
    "\n",
    "We will explore the **`Youtuber`** column and check if it needs any cleaning or preprocessing."
   ]
  },
  {
   "cell_type": "markdown",
   "id": "b79bfd2e",
   "metadata": {},
   "source": [
    "We want to check if there are any observations that have null **`Youtuber`** values, if any, we will be excluding these observations from the list.\n"
   ]
  },
  {
   "cell_type": "code",
   "execution_count": null,
   "id": "87bd83de",
   "metadata": {},
   "outputs": [],
   "source": [
    "# Check for null values\n",
    "column_name = \"Youtuber\"\n",
    "nullyoutuber_count = youtube_df[\"Youtuber\"].isnull().sum()\n",
    "print(f\"Number of unique values in '{column_name}': {nullyoutuber_count}\")\n"
   ]
  },
  {
   "cell_type": "markdown",
   "id": "cc7ee49c",
   "metadata": {},
   "source": [
    "We want to check if there are any duplicate **`Youtuber`** values, if any, the row will be removed.\n",
    "     "
   ]
  },
  {
   "cell_type": "code",
   "execution_count": null,
   "id": "2b7ef4fd",
   "metadata": {},
   "outputs": [],
   "source": [
    "# Check for duplicates\n",
    "unique_count = youtube_df[column_name].nunique()\n",
    "observation_count = youtube_df[column_name].count()\n",
    "\n",
    "print(f\"Number of observations in '{column_name}': {observation_count}\")\n",
    "print(f\"Number of unique values in '{column_name}': {unique_count}\")"
   ]
  },
  {
   "cell_type": "markdown",
   "id": "1fd30404",
   "metadata": {},
   "source": [
    "Since there are special characters present within the dataset, we will replace them with underscores \"_\" instead for readability."
   ]
  },
  {
   "cell_type": "code",
   "execution_count": null,
   "id": "5ed8669d",
   "metadata": {},
   "outputs": [],
   "source": [
    "# Define an array of special characters to replace\n",
    "chars_to_replace = ['ï', '¿', '½', 'ý']\n",
    "\n",
    "# Replace the characters with underscores\n",
    "for char in chars_to_replace:\n",
    "    youtube_df['Youtuber'] = youtube_df['Youtuber'].str.replace(char, '_', regex=False)\n",
    "\n",
    "youtube_df"
   ]
  },
  {
   "cell_type": "markdown",
   "id": "a42aaed7",
   "metadata": {},
   "source": [
    "### The \"Subscribers\" variable\n",
    "\n",
    "- **`subscribers`**: Number of subscribers to the channel<br>\n",
    "\n",
    "We will explore the **`subscribers`** column and check if it needs any cleaning or preprocessing."
   ]
  },
  {
   "cell_type": "markdown",
   "id": "1ecfd4db",
   "metadata": {},
   "source": [
    "We want to check if there are any observations with null **`subscribers`** values."
   ]
  },
  {
   "cell_type": "code",
   "execution_count": null,
   "id": "bf1c1016",
   "metadata": {},
   "outputs": [],
   "source": [
    "# Display the counts\n",
    "null_subscriber_count = youtube_df['subscribers'].eq(0).sum()\n",
    "print(f'Number of null values in \"subscribers\": {null_subscriber_count}')"
   ]
  },
  {
   "cell_type": "markdown",
   "id": "f85aed9b",
   "metadata": {},
   "source": [
    "Since there are none, we now want to convert the data type from **`int64`** to **`float64`** for scaling. <br>\n",
    "We will scale the values to millions, so we will need to convert the data type to one that can recognize decimals. <br>\n",
    "We are scaling the values for easier interpretation and visualization."
   ]
  },
  {
   "cell_type": "code",
   "execution_count": null,
   "id": "15f5c1b6",
   "metadata": {},
   "outputs": [],
   "source": [
    "# Convert to float64 data type\n",
    "youtube_df['subscribers'] = youtube_df['subscribers'].astype('float64')\n",
    "# Convert the \"subscribers\" column to values in millions\n",
    "youtube_df['subscribers'] = youtube_df['subscribers'] / 1000000\n",
    "# Rename the \"subscribers\" column to indicate values are in millions\n",
    "youtube_df.rename(columns={'subscribers': 'subscribers (millions)'}, inplace=True)\n",
    "youtube_df"
   ]
  },
  {
   "cell_type": "markdown",
   "id": "3c47ec0d",
   "metadata": {},
   "source": [
    "We also renamed the column from **`\"subscribers\"`** to **`\"subscribers (millions)\"`**. "
   ]
  },
  {
   "cell_type": "markdown",
   "id": "5da5af5a",
   "metadata": {},
   "source": [
    "### The \"Video Views\" and \"Uploads\" variables\n",
    "- **`video views`**: Overall count views to the channel\n",
    "- **`uploads`**: Total number of videos uploaded on the channel<br>\n",
    "\n",
    "We will explore the **`video views`** and **`uploads`** columns and check if it needs any cleaning or preprocessing."
   ]
  },
  {
   "cell_type": "markdown",
   "id": "5c4ff779",
   "metadata": {},
   "source": [
    "We want to check if there are any observations that have null or zero values in these columns."
   ]
  },
  {
   "cell_type": "code",
   "execution_count": null,
   "id": "2d9e9cae",
   "metadata": {},
   "outputs": [],
   "source": [
    "# Check for null values in \"video views\"\n",
    "nullviews_df = youtube_df[youtube_df['video views'] == 0]\n",
    "nullviews_df"
   ]
  },
  {
   "cell_type": "code",
   "execution_count": null,
   "id": "67f87c34",
   "metadata": {},
   "outputs": [],
   "source": [
    "# Check for null values in \"uploads\"\n",
    "nulluploads_df = youtube_df[youtube_df['uploads'] == 0]\n",
    "nulluploads_df.head(10)"
   ]
  },
  {
   "cell_type": "code",
   "execution_count": null,
   "id": "ea5746f6",
   "metadata": {},
   "outputs": [],
   "source": [
    "# Display the counts\n",
    "null_views_count = youtube_df['video views'].eq(0).sum()\n",
    "null_uploads_count = youtube_df['uploads'].eq(0).sum()\n",
    "print(f'Number of null values in \"video views\": {null_views_count}')\n",
    "print(f'Number of null values in \"uploads\": {null_uploads_count}')"
   ]
  },
  {
   "cell_type": "markdown",
   "id": "61e10174",
   "metadata": {},
   "source": [
    "We want to scale the **`video views`** into millions for easier interpretation and visualization."
   ]
  },
  {
   "cell_type": "code",
   "execution_count": null,
   "id": "64ea4fad",
   "metadata": {},
   "outputs": [],
   "source": [
    "# Convert the \"video views\" column to values in millions\n",
    "youtube_df['video views'] = youtube_df['video views'] / 1000000\n",
    "# Rename the \"subscribers\" column to indicate values are in millions\n",
    "youtube_df.rename(columns={'video views': 'video views (millions)'}, inplace=True)"
   ]
  },
  {
   "cell_type": "code",
   "execution_count": null,
   "metadata": {},
   "outputs": [],
   "source": [
    "youtube_df['uploads'] = youtube_df['uploads'].astype('float64')"
   ]
  },
  {
   "cell_type": "markdown",
   "id": "f1be1644",
   "metadata": {},
   "source": [
    "We want to see if there are any correlations between the **`video views (millions)`** and **`uploads`** with their respective indexes."
   ]
  },
  {
   "cell_type": "code",
   "execution_count": null,
   "id": "4fe3c628",
   "metadata": {},
   "outputs": [],
   "source": [
    "# Create a figure with two subplots side by side\n",
    "fig, axs = plt.subplots(1, 2, figsize=(12, 4))\n",
    "\n",
    "# Plot 'video views' (in millions) in the first subplot\n",
    "axs[0].scatter(youtube_df.index, youtube_df['video views (millions)'])\n",
    "axs[0].set_title('Correlation between Video Views (Millions) and Index')\n",
    "axs[0].set_xlabel('Index')\n",
    "axs[0].set_ylabel('Video Views (Millions)')\n",
    "\n",
    "# Plot 'upload' in the second subplot\n",
    "axs[1].scatter(youtube_df.index, youtube_df['uploads'], color='red')\n",
    "axs[1].set_title('Correlation between Upload and Index')\n",
    "axs[1].set_xlabel('Index')\n",
    "axs[1].set_ylabel('Upload')\n",
    "\n",
    "# Adjust the layout for better spacing\n",
    "plt.tight_layout()\n",
    "\n",
    "# Show the combined figure\n",
    "plt.show()"
   ]
  },
  {
   "cell_type": "markdown",
   "id": "92074340",
   "metadata": {},
   "source": [
    "Given the absence of significant correlations between **`video views`**, **`uploads`**, and their respective indexes, the decision has been made to remove the observations in question rather than replacing them with measures of central tendencies."
   ]
  },
  {
   "cell_type": "code",
   "execution_count": null,
   "id": "8eb7f804",
   "metadata": {},
   "outputs": [],
   "source": [
    "# Drop the rows where video views == 0\n",
    "youtube_df = youtube_df[youtube_df[\"video views (millions)\"] != 0]\n",
    "\n",
    "# Drop the rows where uploads == 0\n",
    "youtube_df = youtube_df[youtube_df[\"uploads\"] != 0]\n",
    "youtube_df"
   ]
  },
  {
   "cell_type": "markdown",
   "id": "72b1c55f",
   "metadata": {},
   "source": [
    "After removing the observations, we will be resetting the indexes ensure there are no gaps and the data remains continuous."
   ]
  },
  {
   "cell_type": "code",
   "execution_count": null,
   "id": "4a4a5030",
   "metadata": {},
   "outputs": [],
   "source": [
    "# Reset the index after dropping rows\n",
    "youtube_df.reset_index(drop=True, inplace=True)\n",
    "youtube_df"
   ]
  },
  {
   "cell_type": "markdown",
   "id": "59f47585",
   "metadata": {},
   "source": [
    "### The \"Category\" variable\n",
    "- **`category`**: Category or niche of the channel<br>\n",
    "\n",
    "We will explore the **`category`** column and check if it needs any cleaning or preprocessing."
   ]
  },
  {
   "cell_type": "markdown",
   "id": "45aa7599",
   "metadata": {},
   "source": [
    "\n",
    "We want to check if there are any observations that has null values for the **`category`** column."
   ]
  },
  {
   "cell_type": "code",
   "execution_count": null,
   "id": "833325ae",
   "metadata": {},
   "outputs": [],
   "source": [
    "# Check for null values in \"category\"\n",
    "nullcategory_df = youtube_df[youtube_df[\"category\"].isnull()]\n",
    "nullcategory_df.head(10)"
   ]
  },
  {
   "cell_type": "code",
   "execution_count": null,
   "id": "72231de9",
   "metadata": {},
   "outputs": [],
   "source": [
    "# Display the counts\n",
    "null_category_count = youtube_df['category'].isnull().sum()\n",
    "print(f'Number of null values in \"category\": {null_category_count}')"
   ]
  },
  {
   "cell_type": "markdown",
   "id": "fc3dd992",
   "metadata": {},
   "source": [
    "We will now check for possible values we can use to replace the null values within the **`category`** column based on the **`channel_type`** column.<br>\n",
    "We are replacing the null values instead of removing them due to the presence of the **`channel_type`** variable which is similar in nature."
   ]
  },
  {
   "cell_type": "code",
   "execution_count": null,
   "id": "e623bcd9",
   "metadata": {},
   "outputs": [],
   "source": [
    "# Displaying the 'category' and 'channel_type' values for cleaning\n",
    "column1 = 'category'\n",
    "column2 = 'channel_type'\n",
    "\n",
    "categoryandchannel_df = youtube_df.dropna(subset=[column1, column2])\n",
    "\n",
    "unique_values_column1 = categoryandchannel_df[column1].unique().tolist()\n",
    "unique_values_column2 = categoryandchannel_df[column2].unique().tolist()\n",
    "\n",
    "df_unique_values_column1 = pd.DataFrame(unique_values_column1, columns=[column1])\n",
    "df_unique_values_column2 = pd.DataFrame(unique_values_column2, columns=[column2])\n",
    "\n",
    "# Concatenate DataFrames horizontally\n",
    "result_df = pd.concat([df_unique_values_column1, df_unique_values_column2], axis=1)\n",
    "result_df\n"
   ]
  },
  {
   "cell_type": "markdown",
   "id": "639beb0d",
   "metadata": {},
   "source": [
    "After going through the unique values, we have prepared the following values to be used as replacement based on the **`channel_type`**.\n",
    "| channel_type | category |\n",
    "| ----------- | ----------- |\n",
    "| Games      | Gaming       |\n",
    "| People   | People & Blogs        |\n",
    "| Entertainment      | Entertainment       |\n",
    "| Sports   | Sports        |\n",
    "| Film      | Film & Animation       |\n",
    "| Howto   | Howto & Style        |\n",
    "| Education      | Education       |\n",
    "| Tech   | Science & Technology        |\n",
    "| Music   | Music    |\n",
    "\n",
    "For the remaining rows with neither **`category`** nor **`channel_type`** values, they will be removed."
   ]
  },
  {
   "cell_type": "code",
   "execution_count": null,
   "id": "831b3dee",
   "metadata": {},
   "outputs": [],
   "source": [
    "# Replace category null values with closest value in channel_type\n",
    "\n",
    "# Use the .loc method to set the new value based on the condition (where 'category' is null)\n",
    "youtube_df.loc[(youtube_df['channel_type'] == 'Games') & (youtube_df['category'].isnull()), 'category'] = 'Gaming'\n",
    "youtube_df.loc[(youtube_df['channel_type'] == 'People') & (youtube_df['category'].isnull()), 'category'] = 'People & Blogs'\n",
    "youtube_df.loc[(youtube_df['channel_type'] == 'Entertainment') & (youtube_df['category'].isnull()), 'category'] = 'Entertainment'\n",
    "youtube_df.loc[(youtube_df['channel_type'] == 'Sports') & (youtube_df['category'].isnull()), 'category'] = 'Sports'\n",
    "youtube_df.loc[(youtube_df['channel_type'] == 'Film') & (youtube_df['category'].isnull()), 'category'] = 'Film & Animation'\n",
    "youtube_df.loc[(youtube_df['channel_type'] == 'Howto') & (youtube_df['category'].isnull()), 'category'] = 'Howto & Style'\n",
    "youtube_df.loc[(youtube_df['channel_type'] == 'Education') & (youtube_df['category'].isnull()), 'category'] = 'Education'\n",
    "youtube_df.loc[(youtube_df['channel_type'] == 'Tech') & (youtube_df['category'].isnull()), 'category'] = 'Science & Technology'\n",
    "youtube_df.loc[(youtube_df['channel_type'] == 'Music') & (youtube_df['category'].isnull()), 'category'] = 'Music'\n",
    "\n",
    "# Drop remaining rows with null values for 'category' column\n",
    "youtube_df.dropna(subset=['category'], inplace=True)\n",
    "\n",
    "# Display the modified DataFrame\n",
    "youtube_df"
   ]
  },
  {
   "cell_type": "markdown",
   "id": "f633126d",
   "metadata": {},
   "source": [
    "We will also drop the **`channel_type`** column since we will no longer be using it."
   ]
  },
  {
   "cell_type": "code",
   "execution_count": null,
   "id": "c5caacc6",
   "metadata": {},
   "outputs": [],
   "source": [
    "# Drop 'channel_type' column\n",
    "youtube_df.drop(columns='channel_type', inplace=True)\n",
    "youtube_df"
   ]
  },
  {
   "cell_type": "markdown",
   "id": "020b1771",
   "metadata": {},
   "source": [
    "After removing the observations, we will be resetting the indexes ensure there are no gaps and the data remains continuous.\n"
   ]
  },
  {
   "cell_type": "code",
   "execution_count": null,
   "id": "e199f6f9",
   "metadata": {},
   "outputs": [],
   "source": [
    "# Reset the index after dropping rows\n",
    "youtube_df.reset_index(drop=True, inplace=True)\n",
    "youtube_df"
   ]
  },
  {
   "cell_type": "markdown",
   "id": "50e229d3",
   "metadata": {},
   "source": [
    "### The \"Country\" variable\n",
    "- **`Country`**: Country where the YouTube channel originates<br>\n",
    "\n",
    "We will explore the **`Country`** column and check if it needs any cleaning or preprocessing."
   ]
  },
  {
   "cell_type": "markdown",
   "id": "a0b9762c",
   "metadata": {},
   "source": [
    "We want to check if there are any observations that has null values for the **`Country`** column."
   ]
  },
  {
   "cell_type": "code",
   "execution_count": null,
   "id": "8eec2407",
   "metadata": {},
   "outputs": [],
   "source": [
    "# Check for null values in Country\n",
    "null_country_df = youtube_df[youtube_df[\"Country\"].isnull()]\n",
    "null_country_df.head(10)"
   ]
  },
  {
   "cell_type": "code",
   "execution_count": null,
   "id": "2e82c34f",
   "metadata": {},
   "outputs": [],
   "source": [
    "# Check for null values in Country\n",
    "null_country_count = youtube_df[\"Country\"].isnull().sum()\n",
    "print(f'Number of null values in \"Country\": {null_country_count}')"
   ]
  },
  {
   "cell_type": "markdown",
   "id": "6ae34f47",
   "metadata": {},
   "source": [
    "There are 94 observations without a country, approximately 10% of the dataset has null **`Country`** values.<br>\n",
    "Next, we will look for possible misrepresentations of the data."
   ]
  },
  {
   "cell_type": "code",
   "execution_count": null,
   "id": "dddfe425",
   "metadata": {},
   "outputs": [],
   "source": [
    "# Get the unique values in the \"Country\" column\n",
    "unique_country = youtube_df['Country'].unique()\n",
    "print(unique_country)\n",
    "print(f\"Number of countries: {unique_country.__len__()}\")\n"
   ]
  },
  {
   "cell_type": "markdown",
   "id": "90520568",
   "metadata": {},
   "source": [
    "Since there are no misrepresentations, we will check the count for each unique value and determine if its possible to use the mode as replacement for the missing values."
   ]
  },
  {
   "cell_type": "code",
   "execution_count": null,
   "id": "12d23b6d",
   "metadata": {},
   "outputs": [],
   "source": [
    "# Get the count of each unique value in the \"Country\" column\n",
    "country_counts = youtube_df['Country'].value_counts()\n",
    "\n",
    "# Display the count of each unique value\n",
    "print(\"Count of each unique value in 'Country':\")\n",
    "print(country_counts)"
   ]
  },
  {
   "cell_type": "markdown",
   "id": "8931123b",
   "metadata": {},
   "source": [
    "The mode value **`United States`** has 306 counts, approximately 32.27% of Youtubers in the dataset are from the **`United States`**.<br>\n",
    "We will not replace missing values with the mode value since there is a large number of unique values in the dataset and the mode already represents a significant portion of the data. <br>\n",
    "If replaced, it can lead to a lack of diversity in the dataset, and it may not accurately reflect the underlying data distribution."
   ]
  },
  {
   "cell_type": "markdown",
   "id": "6e7a7bfe",
   "metadata": {},
   "source": [
    "    For visualization, if replaced we can see the following distribution of the values below."
   ]
  },
  {
   "cell_type": "code",
   "execution_count": null,
   "id": "fcfacc55",
   "metadata": {},
   "outputs": [],
   "source": [
    "# Replace missing values with the mode\n",
    "test_df = youtube_df.copy()\n",
    "\n",
    "test_df['Country'].fillna(test_df['Country'].mode()[0], inplace=True)\n",
    "\n",
    "# Create a countplot to show the distribution of 'country' values\n",
    "plt.figure(figsize=(10, 5))\n",
    "sns.countplot(data=test_df, x='Country')\n",
    "plt.xlabel('Country')\n",
    "plt.ylabel('Count')\n",
    "plt.title('Distribution of Country Values')\n",
    "plt.xticks(rotation=90)  # Rotate x-axis labels for better readability\n",
    "\n",
    "plt.show()"
   ]
  },
  {
   "cell_type": "markdown",
   "id": "1c6df812",
   "metadata": {},
   "source": [
    "We will be removing the observations with null **`Country`** values."
   ]
  },
  {
   "cell_type": "code",
   "execution_count": null,
   "id": "b1476632",
   "metadata": {},
   "outputs": [],
   "source": [
    "# Drop observations with null values\n",
    "youtube_df.dropna(subset=['Country'], inplace=True)\n",
    "youtube_df"
   ]
  },
  {
   "cell_type": "markdown",
   "id": "71b70e91",
   "metadata": {},
   "source": [
    "After removing the observations, we will be resetting the indexes ensure there are no gaps and the data remains continuous.\n",
    "\n"
   ]
  },
  {
   "cell_type": "code",
   "execution_count": null,
   "id": "5989a012",
   "metadata": {},
   "outputs": [],
   "source": [
    "# Reset the index after dropping rows\n",
    "youtube_df.reset_index(drop=True, inplace=True)\n",
    "youtube_df"
   ]
  },
  {
   "cell_type": "markdown",
   "id": "40f1a19b",
   "metadata": {},
   "source": [
    "### The \"Lowest Monthly Earnings\" variable\n",
    "- **`lowest_monthly_earnings`**: Lowest estimated monthly earnings from the channel \\$<br>\n",
    "\n",
    "We will explore the **`lowest_monthly_earnings`** column and check if it needs any cleaning or preprocessing."
   ]
  },
  {
   "cell_type": "markdown",
   "id": "7bda25f5",
   "metadata": {},
   "source": [
    "We want to check if there are any values for **`lowest_monthly_earnings`** that are zero (0) or null."
   ]
  },
  {
   "cell_type": "code",
   "execution_count": null,
   "id": "2bd4d1d2",
   "metadata": {},
   "outputs": [],
   "source": [
    "# Check for null values in lowest_monthly_earnings\n",
    "null_lowestmonthly_df = youtube_df[youtube_df[\"lowest_monthly_earnings\"].eq(0)]\n",
    "null_lowestmonthly_df.head(10)"
   ]
  },
  {
   "cell_type": "code",
   "execution_count": null,
   "id": "f36af96a",
   "metadata": {},
   "outputs": [],
   "source": [
    "# Display the count\n",
    "null_lowestmonthly_count = youtube_df[\"lowest_monthly_earnings\"].eq(0).sum()\n",
    "print(f'Number of null values in \"lowest_monthly_earnings\": {null_lowestmonthly_count}')"
   ]
  },
  {
   "cell_type": "markdown",
   "id": "92a6b77c",
   "metadata": {},
   "source": [
    "We have 34 observations wherein they have zero (0) or null values for **`lowest_monthly_earnings`**.<br><br>\n",
    "Since there is the possibility of the earnings coming from sponsorships, affiliate marketing, etc., some of the earnings may not be accurated particularly the null values.\n",
    "We will be removing these zero (0) or null values to maintain the overall quality and integrity of our dataset. Through removal, we can avoid distorting the underlying patterns in the data and also avoid the complications of imputations. We would still be able to perform a meaningful analysis despite reducing the dataset."
   ]
  },
  {
   "cell_type": "code",
   "execution_count": null,
   "id": "3045193b",
   "metadata": {},
   "outputs": [],
   "source": [
    "# Drop all observations with zero lowest_monthly_earnings\n",
    "youtube_df.drop(youtube_df[youtube_df[\"lowest_monthly_earnings\"].eq(0)].index, inplace=True)\n",
    "youtube_df"
   ]
  },
  {
   "cell_type": "markdown",
   "id": "500bc5a2",
   "metadata": {},
   "source": [
    "After removing the observations, we will be resetting the indexes ensure there are no gaps and the data remains continuous.\n"
   ]
  },
  {
   "cell_type": "code",
   "execution_count": null,
   "id": "4a2733bf",
   "metadata": {},
   "outputs": [],
   "source": [
    "# Reset the index after dropping rows\n",
    "youtube_df.reset_index(drop=True, inplace=True)\n",
    "youtube_df"
   ]
  },
  {
   "cell_type": "markdown",
   "id": "dd793893",
   "metadata": {},
   "source": [
    "We will not be performing any preprocessing in terms of removing outliers as it is possible for channel to have no \"earnings\" or very high \"earnings\". "
   ]
  },
  {
   "cell_type": "markdown",
   "id": "5690b221",
   "metadata": {},
   "source": [
    "### The \"Highest Monthly Earnings\" variable\n",
    "- **`highest_monthly_earnings`**: Highest estimated monthly earnings from the channel \\$<br>\n",
    "\n",
    "We will explore the **`highest_monthly_earnings`** column and check if it needs any cleaning or preprocessing."
   ]
  },
  {
   "cell_type": "markdown",
   "id": "b9a8af13",
   "metadata": {},
   "source": [
    "We want to check if there are any values for **`highest_monthly_earnings`** that are zero (0) or null."
   ]
  },
  {
   "cell_type": "code",
   "execution_count": null,
   "id": "c514ac67",
   "metadata": {},
   "outputs": [],
   "source": [
    "# Check for null values in highest_monthly_earnings\n",
    "null_highestmonthly_df = youtube_df[youtube_df[\"highest_monthly_earnings\"].eq(0)]\n",
    "null_highestmonthly_df.head(10)"
   ]
  },
  {
   "cell_type": "code",
   "execution_count": null,
   "id": "dab6157b",
   "metadata": {},
   "outputs": [],
   "source": [
    "# Display the count\n",
    "null_highestmonthly_count = youtube_df[\"highest_monthly_earnings\"].eq(0).sum()\n",
    "print(f'Number of null values in \"highest_monthly_earnings\": {null_highestmonthly_count}')"
   ]
  },
  {
   "cell_type": "markdown",
   "id": "ce84a83a",
   "metadata": {},
   "source": [
    "We have 0 observations wherein they have zero (0) or null values for **`highest_monthly_earnings`**.\n",
    "\n",
    "There is no need to drop any observations."
   ]
  },
  {
   "cell_type": "markdown",
   "id": "d198598c",
   "metadata": {},
   "source": [
    "### The \"Lowest Yearly Earnings\" variable\n",
    "- **`lowest_yearly_earnings`**: Lowest estimated yearly earnings from the channel \\$<br>\n",
    "\n",
    "We will explore the **`lowest_yearly_earnings`** column and check if it needs any cleaning or preprocessing."
   ]
  },
  {
   "cell_type": "markdown",
   "id": "ec3e501a",
   "metadata": {},
   "source": [
    "We want to check if there are any values for **`lowest_yearly_earnings`** that are zero (0) or null."
   ]
  },
  {
   "cell_type": "code",
   "execution_count": null,
   "id": "8354dbe8",
   "metadata": {},
   "outputs": [],
   "source": [
    "# Check for null values in lowest_yearly_earnings\n",
    "null_lowestyearly_df = youtube_df[youtube_df[\"lowest_yearly_earnings\"].eq(0)]\n",
    "null_lowestyearly_df.head(10)"
   ]
  },
  {
   "cell_type": "code",
   "execution_count": null,
   "id": "945e72b3",
   "metadata": {},
   "outputs": [],
   "source": [
    "# Display the count\n",
    "null_lowestyearly_count = youtube_df[\"lowest_yearly_earnings\"].eq(0).sum()\n",
    "print(f'Number of null values in \"lowest_yearly_earnings\": {null_lowestyearly_count}')"
   ]
  },
  {
   "cell_type": "markdown",
   "id": "548e10da",
   "metadata": {},
   "source": [
    "We have 0 observations wherein they have zero (0) or null values for **`lowest_yearly_earnings`**.\n",
    "\n",
    "There is no need to drop any observations."
   ]
  },
  {
   "cell_type": "markdown",
   "id": "46d72b7e",
   "metadata": {},
   "source": [
    "### The \"Highest Yearly Earnings\" variable\n",
    "- **`highest_yearly_earnings`**: Highest estimated monthly earnings from the channel \\$<br>\n",
    "\n",
    "We will explore the **`highest_yearly_earnings`** column and check if it needs any cleaning or preprocessing."
   ]
  },
  {
   "cell_type": "markdown",
   "id": "fffafd97",
   "metadata": {},
   "source": [
    "We want to check if there are any values for **`highest_yearly_earnings`** that are zero (0) or null."
   ]
  },
  {
   "cell_type": "code",
   "execution_count": null,
   "id": "93b28e9c",
   "metadata": {},
   "outputs": [],
   "source": [
    "# Check for null values in highest_yearly_earnings\n",
    "null_highestyearly_df = youtube_df[youtube_df[\"highest_yearly_earnings\"].eq(0)]\n",
    "null_highestyearly_df.head(10)"
   ]
  },
  {
   "cell_type": "code",
   "execution_count": null,
   "id": "4f57f7bf",
   "metadata": {},
   "outputs": [],
   "source": [
    "# Display the count\n",
    "null_highestyearly_count = youtube_df[\"highest_yearly_earnings\"].eq(0).sum()\n",
    "print(f'Number of null values in \"highest_yearly_earnings\": {null_highestyearly_count}')"
   ]
  },
  {
   "cell_type": "markdown",
   "id": "4203b162",
   "metadata": {},
   "source": [
    "We have 0 observations wherein they have zero (0) or null values for **`highest_yearly_earnings`**. There is no need for cleaning."
   ]
  },
  {
   "cell_type": "markdown",
   "id": "ac8395bd",
   "metadata": {},
   "source": [
    "### The \"Created Year\" variable\n",
    "- **`created_year`**: Year when the YouTube channel was created<br>\n",
    "\n",
    "We will explore the **`created_year`** column and check if it needs any cleaning or preprocessing.\n"
   ]
  },
  {
   "cell_type": "markdown",
   "id": "79a6f9dc",
   "metadata": {},
   "source": [
    "We want to check if there are any values for **`created_year`** that are zero (0) or null."
   ]
  },
  {
   "cell_type": "code",
   "execution_count": null,
   "id": "f81a1c24",
   "metadata": {},
   "outputs": [],
   "source": [
    "# Check for null values in created_year\n",
    "null_createdyear_df = youtube_df[youtube_df[\"created_year\"].eq(0)]\n",
    "null_createdyear_df.head(10)"
   ]
  },
  {
   "cell_type": "code",
   "execution_count": null,
   "id": "7e9f8a60",
   "metadata": {},
   "outputs": [],
   "source": [
    "# Display the count\n",
    "null_createdyear_count = youtube_df[\"created_year\"].eq(0).sum()\n",
    "print(f'Number of null values in \"created_year\": {null_createdyear_count}')"
   ]
  },
  {
   "cell_type": "markdown",
   "id": "e92b221b",
   "metadata": {},
   "source": [
    "We also want to check if there are any values less than 2005 since Youtube was made in this year."
   ]
  },
  {
   "cell_type": "code",
   "execution_count": null,
   "id": "9ce94f0f",
   "metadata": {},
   "outputs": [],
   "source": [
    "# Check if there are any observations of Youtube channels created before 2005\n",
    "subset = youtube_df[youtube_df['created_year'] < 2005]\n",
    "subset\n"
   ]
  },
  {
   "cell_type": "markdown",
   "id": "e6a1a935",
   "metadata": {},
   "source": [
    "After manual checking, the channel does exist and the year shown is accurate but it may have been an error or a default value (0) in Posix time assigned in the database. \n",
    "\n",
    "As we are dealing with years, we will remove the observation instead since incorrect or error values for a year can significantly affect the accuracy and interpretation of the data."
   ]
  },
  {
   "cell_type": "code",
   "execution_count": null,
   "id": "7ab8fc1b",
   "metadata": {},
   "outputs": [],
   "source": [
    "# Get the index of the subset\n",
    "indices_to_drop = subset.index\n",
    "\n",
    "# Drop the observations from the original DataFrame\n",
    "youtube_df.drop(indices_to_drop, inplace=True)"
   ]
  },
  {
   "cell_type": "markdown",
   "id": "c4761f65",
   "metadata": {},
   "source": [
    "### The \"Population\" variable\n",
    "- **`Population`**: Total population of the country<br>\n",
    "\n",
    "We will explore the  **`Population`** column and check if it needs any cleaning or preprocessing.\n"
   ]
  },
  {
   "cell_type": "markdown",
   "id": "43f3a4a3",
   "metadata": {},
   "source": [
    "We want to check if there are any values for  **`Population`** that are zero (0) or null."
   ]
  },
  {
   "cell_type": "code",
   "execution_count": null,
   "id": "772a7a64",
   "metadata": {},
   "outputs": [],
   "source": [
    "# Check for null values in Population\n",
    "null_population_df = youtube_df[youtube_df[\"Population\"].eq(0)]\n",
    "null_population_df.head(10)"
   ]
  },
  {
   "cell_type": "code",
   "execution_count": null,
   "id": "c7fe0e11",
   "metadata": {},
   "outputs": [],
   "source": [
    "# Display the count\n",
    "null_population_count = youtube_df[\"Population\"].eq(0).sum()\n",
    "print(f'Number of null values in \"Population\": {null_population_count}')"
   ]
  },
  {
   "cell_type": "code",
   "execution_count": null,
   "metadata": {},
   "outputs": [],
   "source": [
    "# Check for NaN values in the 'Population' column\n",
    "nan_subscribers = youtube_df['Population'].isna().sum()\n",
    "print(\"Number of NaN values in 'Population' column:\", nan_subscribers)"
   ]
  },
  {
   "cell_type": "markdown",
   "id": "5b8709a3",
   "metadata": {},
   "source": [
    "We have 1 observations wherein they have a NaN value for **`Population`**. We will drop this observation.\n",
    "\n"
   ]
  },
  {
   "cell_type": "code",
   "execution_count": null,
   "metadata": {},
   "outputs": [],
   "source": [
    "# Drop rows with NaN values in 'Population' column\n",
    "youtube_df.dropna(subset=['Population'], inplace=True)"
   ]
  },
  {
   "cell_type": "markdown",
   "metadata": {},
   "source": [
    "We want to scale the values to millions to make it easier to interpret and visualize. "
   ]
  },
  {
   "cell_type": "code",
   "execution_count": null,
   "id": "588dd640",
   "metadata": {},
   "outputs": [],
   "source": [
    "# Convert the \"Population\" column to values in millions\n",
    "youtube_df['Population'] = youtube_df['Population'] / 1000000\n",
    "# # Rename the \"Population\" column to indicate values are in millions\n",
    "youtube_df = youtube_df.rename(columns={'Population': 'Population (millions)'})\n",
    "# Round the values to 3 decimal places\n",
    "youtube_df['Population (millions)'] = youtube_df['Population (millions)'].round(3)\n",
    "\n",
    "youtube_df"
   ]
  },
  {
   "cell_type": "markdown",
   "id": "119acb7c",
   "metadata": {},
   "source": [
    "The **`Population`** column is renamed to **`Population (millions)`** to represent the scaling."
   ]
  },
  {
   "cell_type": "markdown",
   "id": "ddc70c18",
   "metadata": {},
   "source": [
    "### Check Data Types of the Values in each Column\n",
    "\n",
    "We want to check if the values in each column match their respective data types **`float64`**, **`int64`**, and **`object`**."
   ]
  },
  {
   "cell_type": "code",
   "execution_count": null,
   "id": "675ff859",
   "metadata": {},
   "outputs": [],
   "source": [
    "# Define the expected data types\n",
    "expected_data_types = {\n",
    "    'Youtuber': object,\n",
    "    'subscribers (millions)': float,\n",
    "    'video views (millions)': float,\n",
    "    'uploads': float,\n",
    "    'Country': object,\n",
    "    'lowest_monthly_earnings': float,\n",
    "    'highest_monthly_earnings': float,\n",
    "    'lowest_yearly_earnings': float,\n",
    "    'highest_yearly_earnings': float,\n",
    "    'created_year': float,\n",
    "    'Population (millions)': float\n",
    "}\n",
    "\n",
    "# Check if values in each column match the expected data type using a custom function\n",
    "def check_data_type(column_name, expected_dtype):\n",
    "    for value in youtube_df[column_name]:\n",
    "        if not isinstance(value, expected_dtype):\n",
    "            return False\n",
    "    return True\n",
    "\n",
    "all_columns_match = True\n",
    "\n",
    "for column_name, expected_dtype in expected_data_types.items():\n",
    "    if not check_data_type(column_name, expected_dtype):\n",
    "        all_columns_match = False\n",
    "        print(f\"Column '{column_name}' does not match the expected data type {expected_dtype}.\")\n",
    "\n",
    "if all_columns_match:\n",
    "    print(\"All columns match the expected data types.\")\n",
    "else:\n",
    "    print(\"Not all columns match the expected data types.\")"
   ]
  },
  {
   "cell_type": "markdown",
   "id": "ba69b36a",
   "metadata": {},
   "source": [
    "### Post Data Cleaning\n",
    "\n"
   ]
  },
  {
   "cell_type": "markdown",
   "id": "3fa8bc98",
   "metadata": {},
   "source": [
    "#### Dataset Information:\n",
    "- **`Rows/Observations`**: 820\n",
    "- **`Variables/Columns`**: 12\n",
    "- **`Data Types`**: float64(9), object(3)\n",
    "\n",
    "The variables that will be used are as follows:\n",
    "- **`Youtuber`**: Name of the YouTube channel\n",
    "- **`subscribers (millions)`**: Number of subscribers to the channel\n",
    "- **`video views (millions)`**: Overall count views to the channel\n",
    "- **`category`**: Category or niche of the channel\n",
    "- **`uploads`**: Total number of videos uploaded on the channel\n",
    "- **`Country`**: Country where the YouTube channel originates\n",
    "- **`lowest_monthly_earnings`**: Lowest estimated monthly earnings from the channel \\$\n",
    "- **`highest_monthly_earnings`**: Highest estimated monthly earnings from the channel \\$\n",
    "- **`lowest_yearly_earnings`**: Lowest estimated yearly earnings from the channel \\$\n",
    "- **`highest_yearly_earnings`**: Highest estimated yearly earnings from the channel $\n",
    "- **`created_year`**: Year when the YouTube channel was created\n",
    "- **`Population (millions)`**: Total population of the country"
   ]
  },
  {
   "cell_type": "code",
   "execution_count": null,
   "id": "c01c58cf",
   "metadata": {},
   "outputs": [],
   "source": [
    "youtube_df.info()"
   ]
  },
  {
   "cell_type": "markdown",
   "id": "52a36e0d",
   "metadata": {},
   "source": [
    "# Exploratory Data Analysis\n",
    "    This section of the Jupyter Notebook contains the overall process of our Exploratory Data Analysis of our dataset, together with the questions that we are curious to comprehend and answer through exploratory data analysis."
   ]
  },
  {
   "cell_type": "markdown",
   "id": "22b36f1b",
   "metadata": {},
   "source": [
    "### 1. What are the lowest and highest yearly earning categories?\n",
    "\n",
    "**Description**:\n",
    "- This analysis aims to identify and explore the YouTube content categories or niches that yield the lowest and highest yearly earnings.\n",
    "\n",
    "**Variables**:\n",
    "- `category`\n",
    "- `lowest_yearly_earnings`\n",
    "- `highest_yearly_earnings`"
   ]
  },
  {
   "cell_type": "markdown",
   "id": "80bbf7a9",
   "metadata": {},
   "source": [
    "**Numerical Summary**\n",
    "\n",
    "Get the lowest and highest yearly earnings of Youtube Channels per category.\n",
    "Calculate the average yearly earnings for reference as well."
   ]
  },
  {
   "cell_type": "code",
   "execution_count": null,
   "id": "bfdf5dbd",
   "metadata": {},
   "outputs": [],
   "source": [
    "# calculate the average yearly earnings\n",
    "youtube_df['average_yearly_earnings'] = (youtube_df['lowest_yearly_earnings'] + youtube_df['highest_yearly_earnings']) / 2\n",
    "\n",
    "average_category_means = youtube_df.groupby('category')['average_yearly_earnings'].mean()\n",
    "\n",
    "# Sort the categories by mean earnings in descending order\n",
    "average_category_means = average_category_means.sort_values(ascending=False)\n",
    "\n",
    "# Display the sorted categories and their mean earnings\n",
    "average_category_means"
   ]
  },
  {
   "cell_type": "markdown",
   "id": "1010faec",
   "metadata": {},
   "source": [
    "**Visualization**\n",
    "\n",
    "Create a horizontal bar chart to visualize the lowest and highest yearly earnings categories, showing how they compare to one another."
   ]
  },
  {
   "cell_type": "code",
   "execution_count": null,
   "id": "255dbf96",
   "metadata": {},
   "outputs": [],
   "source": [
    "# make category as string\n",
    "youtube_df['category'] = youtube_df['category'].astype(str)\n",
    "\n",
    "# create horizontal bar chart for lowest yearly earnings sorted \n",
    "plt.figure(figsize=(10, 6))\n",
    "sns.barplot(data=youtube_df.sort_values(by='lowest_yearly_earnings', ascending=False),\n",
    "            x='lowest_yearly_earnings', y='category')\n",
    "plt.xlabel('Lowest Yearly Earnings')\n",
    "plt.ylabel('Category')\n",
    "plt.title('Lowest Yearly Earnings by Category')\n",
    "plt.show()\n",
    "\n",
    "# create horizontal bar chart for highest yearly earnings sorted \n",
    "plt.figure(figsize=(10, 6))\n",
    "sns.barplot(data=youtube_df.sort_values(by='highest_yearly_earnings', ascending=False),\n",
    "            x='highest_yearly_earnings', y='category')\n",
    "plt.xlabel('Highest Yearly Earnings')\n",
    "plt.ylabel('Category')\n",
    "plt.title('Highest Yearly Earnings by Category')\n",
    "plt.show()\n",
    "\n",
    "# create horizontal bar chart for average yearly earnings sorted \n",
    "plt.figure(figsize=(10, 6))\n",
    "sns.barplot(data=youtube_df.sort_values(by='average_yearly_earnings', ascending=False),\n",
    "            x='average_yearly_earnings', y='category')\n",
    "plt.xlabel('Average Yearly Earnings')\n",
    "plt.ylabel('Category')\n",
    "plt.title('Average Yearly Earnings by Category')\n",
    "plt.show()"
   ]
  },
  {
   "cell_type": "markdown",
   "id": "a8bc3dd3",
   "metadata": {},
   "source": [
    "**Conclusion**\n",
    "\n",
    "The 'Show' category stands out as the highest-earning category, boasting an impressive average yearly earning of 14,035,000. Following closely, the 'Pets and Animals' category commands a solid average earning of 10,183,300. In contrast, the 'Travel & Events' and 'Howto & Style' categories exhibit comparatively lower average yearly earnings, with figures of 796,500 and 968,481, respectively. These findings shed light on the financial dynamics of different content categories on YouTube, with 'Show' and 'Pets and Animals' leading the way in terms of earnings.\n"
   ]
  },
  {
   "cell_type": "code",
   "execution_count": null,
   "id": "5f4d86dd",
   "metadata": {},
   "outputs": [],
   "source": [
    "# mean of shows category \n",
    "youtube_df[youtube_df['category'] == 'Shows']['average_yearly_earnings'].describe()"
   ]
  },
  {
   "cell_type": "code",
   "execution_count": null,
   "id": "837437fb",
   "metadata": {},
   "outputs": [],
   "source": [
    "# mean of travels & events category\n",
    "youtube_df[youtube_df['category'] == 'Travel & Events']['average_yearly_earnings'].describe()"
   ]
  },
  {
   "cell_type": "code",
   "execution_count": null,
   "id": "f680771f",
   "metadata": {},
   "outputs": [],
   "source": [
    "# mean of pets & animals category\n",
    "youtube_df[youtube_df['category'] == 'Pets & Animals']['average_yearly_earnings'].describe()"
   ]
  },
  {
   "cell_type": "code",
   "execution_count": null,
   "id": "0631edf6",
   "metadata": {},
   "outputs": [],
   "source": [
    "# mean of howto & style category\n",
    "youtube_df[youtube_df['category'] == 'Howto & Style']['average_yearly_earnings'].describe()"
   ]
  },
  {
   "cell_type": "markdown",
   "id": "559e3f99",
   "metadata": {},
   "source": [
    "### 2. Is there a correlation between video views and subscriber counts on YouTube channels?\n",
    "\n",
    "**Description**\n",
    "- This analysis investigates the relationship between the number of video views and the number of subscribers on YouTube channels to determine if there's a correlation indicating viewer engagement.\n",
    "\n",
    "**Variables**\n",
    "- `video views`\n",
    "- `subscribers`"
   ]
  },
  {
   "cell_type": "markdown",
   "id": "41c44609",
   "metadata": {},
   "source": [
    "**Numerical Summary**\n",
    "\n",
    "Calculate the Pearson correlation coefficient to quantify the strength and direction of the correlation between video views and subscribers.\n"
   ]
  },
  {
   "cell_type": "code",
   "execution_count": null,
   "id": "b7c619d3",
   "metadata": {},
   "outputs": [],
   "source": [
    "# calculate pearson correlation betwen video views and subscribers\n",
    "youtube_df['video views (millions)'].corr(youtube_df['subscribers (millions)'])\n"
   ]
  },
  {
   "cell_type": "markdown",
   "id": "f768084c",
   "metadata": {},
   "source": [
    "**Visualization**\n",
    "\n",
    "Create a scatterplot to visualize the relationship between video views and subscribers, indicating the nature of the correlation."
   ]
  },
  {
   "cell_type": "code",
   "execution_count": null,
   "id": "28566f50",
   "metadata": {},
   "outputs": [],
   "source": [
    "# scatterplot by using\n",
    "plt.figure(figsize=(16, 8))\n",
    "sns.scatterplot(x='video views (millions)', y='subscribers (millions)', data=youtube_df)\n",
    "plt.xlabel('Video Views')\n",
    "plt.ylabel('Subscribers')\n",
    "plt.title('Video Views vs. Subscribers')\n",
    "plt.show()"
   ]
  },
  {
   "cell_type": "markdown",
   "id": "bffb3c5f",
   "metadata": {},
   "source": [
    "**Conclusion**\n",
    "\n",
    "The Pearson correlation value produced by the relationship between video views and subscriber count was 0.7509576173780214, and since the r value greater than 0.5, there is a strong relationship and a positive correlation between the video views and the subscriber count of a Youtube Channel."
   ]
  },
  {
   "cell_type": "markdown",
   "id": "bd708fa5",
   "metadata": {},
   "source": [
    "### 3. Is there a correlation between video views and average yearly earnings on YouTube channels?\n",
    "\n",
    "**Description**\n",
    "- This analysis explores whether there's a correlation between the number of video views and the monthly earnings of YouTube channels, offering insights into the monetization potential of views.\n",
    "\n",
    "**Variables**\n",
    "- `video views`\n",
    "- `lowest_yearly_earnings`\n",
    "- `highest_yearly_earnings`"
   ]
  },
  {
   "cell_type": "markdown",
   "id": "6d6b7115",
   "metadata": {},
   "source": [
    "**Numerical Summary**\n",
    "\n",
    "Calculate the correlation coefficient to determine the strength and direction of the correlation between video views and average yearly earnings"
   ]
  },
  {
   "cell_type": "code",
   "execution_count": null,
   "id": "69cda9cb",
   "metadata": {},
   "outputs": [],
   "source": [
    "# calculate pearson correlation betwen video views and average yearly earnings\n",
    "youtube_df['video views (millions)'].corr(youtube_df['average_yearly_earnings'])"
   ]
  },
  {
   "cell_type": "markdown",
   "id": "bbfcdb4e",
   "metadata": {},
   "source": [
    "**Visualization**\n",
    "\n",
    "Create a scatterplot to visualize the relationship between video views and average yearly earnings, highlighting the nature of the correlation.\n"
   ]
  },
  {
   "cell_type": "code",
   "execution_count": null,
   "id": "83597404",
   "metadata": {},
   "outputs": [],
   "source": [
    "# visualize the data\n",
    "plt.figure(figsize=(16, 8))\n",
    "sns.scatterplot(x='video views (millions)', y='average_yearly_earnings', data=youtube_df)\n",
    "plt.xlabel('Video Views')\n",
    "plt.ylabel('Average Yearly Earnings')\n",
    "plt.title('Video Views vs. Average Yearly Earnings')\n",
    "plt.show()"
   ]
  },
  {
   "cell_type": "markdown",
   "id": "e5444fd4",
   "metadata": {},
   "source": [
    "**Conclusion**\n",
    "\n",
    "The correlation coefficient only produced a value of 0.58, which means that it only produced a medium positive correlation."
   ]
  },
  {
   "cell_type": "markdown",
   "id": "215d4b62",
   "metadata": {},
   "source": [
    "### 4. Are there discernible patterns related to a YouTube channel's category and its subscribers?\n",
    "\n",
    "\n",
    "**Description**:\n",
    "- We aim to explore if there are discernible patterns related to a YouTube channel's category and its subscribers. We will perform numerical summary and visualization to analyze the data.\n",
    "\n",
    "**Variables**:\n",
    "- `subscribers` : The number of subscribers for YouTube channels.\n",
    "- `category` : The category of the YouTube channels.\n"
   ]
  },
  {
   "cell_type": "markdown",
   "id": "b838c4f1",
   "metadata": {},
   "source": [
    "**Numerical Summary**\n",
    "\n",
    "We calculated summary statistics for the `subscribers` column using youtube_df['subscribers'].describe(). The subscribers column represents the `average number of subscribers` for each YouTube channel within their respective categories."
   ]
  },
  {
   "cell_type": "code",
   "execution_count": null,
   "id": "d67a880e",
   "metadata": {},
   "outputs": [],
   "source": [
    "subscribers_summary = youtube_df['subscribers (millions)'].describe()\n",
    "\n",
    "# Display the summary statistics\n",
    "subscribers_summary"
   ]
  },
  {
   "cell_type": "markdown",
   "id": "3824500f",
   "metadata": {},
   "source": [
    "**Visualization**\n",
    "\n",
    "We created a horizontal bar chart to display the average subscribers for each category, using the average_subscribers_by_category variable. The x-axis represents the average subscribers (in millions), and the y-axis displays the categories. The chart is color-coded for better visualization."
   ]
  },
  {
   "cell_type": "code",
   "execution_count": null,
   "id": "87ecf65c",
   "metadata": {},
   "outputs": [],
   "source": [
    "# Bar Chart - Average Subscribers by Category\n",
    "average_subscribers_by_category = youtube_df.groupby('category')['subscribers (millions)'].mean().sort_values(ascending=False)\n",
    "\n",
    "plt.figure(figsize=(10, 6))\n",
    "sns.barplot(x=average_subscribers_by_category.values, y=average_subscribers_by_category.index, palette=\"viridis\", orient=\"h\")\n",
    "plt.title('Average Subscribers by Category')\n",
    "plt.xlabel('Average Subscribers (in millions)')\n",
    "plt.ylabel('Category')\n",
    "plt.show()"
   ]
  },
  {
   "cell_type": "markdown",
   "id": "74c202f4",
   "metadata": {},
   "source": [
    "**Conclusion**\n",
    "\n",
    "From our analysis, we have found discernible patterns related to a YouTube channel's category and its subscribers. The analysis revealed the following:\n",
    "\n",
    "- Shows had the highest average number of subscribers, with an average of over 40 million subscribers.\n",
    "\n",
    "- Trailers came in second place in terms of average subscribers.\n",
    "\n",
    "- Movies occupied the third position in terms of average subscribers.\n",
    "\n",
    "- Autos & Vehicles had the third-to-last position with lower average subscribers.\n",
    "\n",
    "- Howto & Style ranked second to last in terms of average subscribers.\n",
    "\n",
    "- Travel & Events was the category with the lowest average number of subscribers.\n",
    "\n",
    "These patterns suggest that the type of content and category significantly influences the average number of subscribers on YouTube channels. Channels in the \"Shows\" category, on average, tend to have the most subscribers, while those in the \"Travel & Events\" category have the fewest. This information can be valuable for content creators and marketers looking to understand subscriber trends on YouTube."
   ]
  },
  {
   "cell_type": "markdown",
   "id": "c6e1bea1",
   "metadata": {},
   "source": [
    "### 5. Are there discernible patterns related to a YouTube channel's category and its average yearly earnings?\n",
    "\n",
    "**Description**:\n",
    "- We aim to investigate if there are discernible patterns related to a YouTube channel's category and its average yearly earnings. We will conduct numerical summary and visualization to analyze the data.\n",
    "\n",
    "\n",
    "**Variables**:\n",
    "- `category` : The category of the YouTube channels.\n",
    "- `lowest_yearly_earnings` : The lowest estimated yearly earnings of the YouTube channels.\n",
    "- `highest_yearly_earnings` : The highest estimated yearly earnings of the YouTube channels.\n"
   ]
  },
  {
   "cell_type": "markdown",
   "id": "f9405f81",
   "metadata": {},
   "source": [
    "**Numerical Summary**\n",
    "\n",
    "We will calculate summary statistics for the 'average_yearly_earnings' column, which is the sum of the lowest and highest yearly earnings. This column represents the average yearly earnings for each YouTube channel within their respective categories."
   ]
  },
  {
   "cell_type": "code",
   "execution_count": null,
   "id": "eb1950d1",
   "metadata": {},
   "outputs": [],
   "source": [
    "# youtube_df['average_yearly_earnings'] = youtube_df['lowest_yearly_earnings'] + youtube_df['highest_yearly_earnings']\n",
    "\n",
    "youtube_df['average_yearly_earnings'].describe()"
   ]
  },
  {
   "cell_type": "markdown",
   "id": "517b8ae9",
   "metadata": {},
   "source": [
    "**Visualization**\n",
    "\n",
    "We will create a horizontal bar chart to visualize the average yearly earnings for each category, using the average_yearly_earnings_by_category variable. The x-axis will represent the average yearly earnings (in dollars), and the y-axis will display the categories. The chart will be color-coded for better visualization."
   ]
  },
  {
   "cell_type": "code",
   "execution_count": null,
   "id": "02ad1cb7",
   "metadata": {},
   "outputs": [],
   "source": [
    "# Bar Chart - Average Yearly Earnings by Category\n",
    "average_yearly_earnings_by_category = youtube_df.groupby('category')['average_yearly_earnings'].mean().sort_values(ascending=False)\n",
    "plt.figure(figsize=(10, 6))\n",
    "sns.barplot(x=average_yearly_earnings_by_category.values, y=average_yearly_earnings_by_category.index, palette=\"viridis\", orient=\"h\")\n",
    "plt.title('Average Yearly Earnings by Category')\n",
    "plt.xlabel('Average Yearly Earnings (in dollars)')\n",
    "plt.ylabel('Category')\n",
    "plt.show()"
   ]
  },
  {
   "cell_type": "markdown",
   "id": "c25d3ffd",
   "metadata": {},
   "source": [
    "**Conclusion**\n",
    "\n",
    "Conclusion:\n",
    "From our analysis, we have found discernible patterns related to a YouTube channel's category and its average yearly earnings, calculated as the sum of the lowest and highest yearly earnings. The analysis reveals the following:\n",
    "\n",
    "- Shows had the highest average yearly earnings, with an average of 1.4 million dollars.\n",
    "\n",
    "- Pets & Animals came in second place in terms of average yearly earnings.\n",
    "\n",
    "- Autos & Vehicles occupied the third position in terms of average yearly earnings.\n",
    "\n",
    "- Science & Technology had the third-to-last position with lower average yearly earnings.\n",
    "\n",
    "- Howto & Style ranked second to last in terms of average yearly earnings.\n",
    "\n",
    "- Travel & Events was the category with the lowest average yearly earnings.\n",
    "\n",
    "These patterns suggest that the category of content significantly influences the average yearly earnings of YouTube channels. Channels in the \"Shows\" category, on average, tend to have the highest earnings, while those in the \"Travel & Evetns\" category have the lowest earnings. This information can be valuable for content creators and marketers looking to understand earning trends on YouTube."
   ]
  },
  {
   "cell_type": "markdown",
   "id": "f13f88a1",
   "metadata": {},
   "source": [
    "### 6. What is the distribution of video views for YouTube channels within each content category?\n",
    "\n",
    "**Description**:\n",
    "- We aim to explore the distribution of video views for YouTube channels within each content category.\n",
    "\n",
    "\n",
    "**Variables**:\n",
    "- `category` : The category of the YouTube channels.\n",
    "- `video views` : The number of video views for each YouTube channel.\n"
   ]
  },
  {
   "cell_type": "markdown",
   "id": "7fb858bf",
   "metadata": {},
   "source": [
    "**Numerical Summary**\n",
    "\n",
    "Calculate the summary statistics for the 'video_views' column within each category. This will help us understand the distribution of video views, including measures like the median, quartiles, and potential outliers for each category."
   ]
  },
  {
   "cell_type": "code",
   "execution_count": null,
   "id": "d9e7bbf3",
   "metadata": {},
   "outputs": [],
   "source": [
    "# calculate mean of video views within each category \n",
    "views_summary = youtube_df.groupby('category')['video views (millions)'].describe()\n",
    "# views_summary = youtube_df.groupby('category')['video views'].describe()\n",
    "\n",
    "views_summary"
   ]
  },
  {
   "cell_type": "markdown",
   "id": "86d3c47e",
   "metadata": {},
   "source": [
    "**Visualization**\n",
    "\n",
    "Create a box plot and bar chart to visually represent the distribution of video views for each category. Box plots are effective for showing the central tendency and spread of data within categories."
   ]
  },
  {
   "cell_type": "code",
   "execution_count": null,
   "id": "d9b789f7",
   "metadata": {},
   "outputs": [],
   "source": [
    "# Horizontal Box Plot - Distribution of Video Views by Category\n",
    "plt.figure(figsize=(12, 6))\n",
    "sns.boxplot(x='video views (millions)', y='category', data=youtube_df)\n",
    "# sns.boxplot(x='video views', y='category', data=youtube_df)\n",
    "plt.title('Distribution of Video Views by Category')\n",
    "plt.xlabel('Number of Video Views')\n",
    "plt.ylabel('Category')\n",
    "plt.show()\n",
    "\n",
    "# Horizontal Bar Chart - Distribution of Video Views by Category\n",
    "plt.figure(figsize=(12, 6))\n",
    "sns.barplot(x='video views (millions)', y='category', data=youtube_df)\n",
    "# sns.barplot(x='video views', y='category', data=youtube_df)\n",
    "\n",
    "plt.title('Distribution of Video Views by Category')\n",
    "plt.xlabel('Number of Video Views')\n",
    "plt.ylabel('Category')\n",
    "plt.show()"
   ]
  },
  {
   "cell_type": "markdown",
   "id": "b56f5858",
   "metadata": {},
   "source": [
    "**Conclusion**\n",
    "\n",
    "Based from our EDA,  in terms of the distribution number of video views per category, the results revealed the following:\n",
    "1. The Shows youtube category has the highest number of video views, out of all other youtube categories.\n",
    "2. The following youtube categories: Trailers, Movies, Travels & Events only have an instance of one YouTube channel, while Nonprofits & Activism, Pets & Animals, and Autos & Vehicles  only have an instance of two YouTube channels. Despite the low number of YouTube Channels in these particular categories, this explains the abnormally small distribution of data within the box plot and the bar chart. Yet still yield a high number of video views."
   ]
  },
  {
   "cell_type": "markdown",
   "id": "0db7f993",
   "metadata": {},
   "source": [
    "### 7. What are the most prevalent YouTube channel categories in the dataset?\n",
    "\n",
    "Description:\n",
    "- How many channels are in each category?\n",
    "\n",
    "Variables:\n",
    "- `category`\n",
    "- `Youtube Channels`"
   ]
  },
  {
   "cell_type": "markdown",
   "id": "ccf7d2c9",
   "metadata": {},
   "source": [
    "**Numerical Summary**\n",
    "\n",
    "Count the frequency of YouTube channels within each unique category."
   ]
  },
  {
   "cell_type": "code",
   "execution_count": null,
   "id": "0c6d7359",
   "metadata": {},
   "outputs": [],
   "source": [
    "category_counts = youtube_df['category'].value_counts()\n",
    "\n",
    "# Display the count of each unique value\n",
    "print(\"Count of each unique value in 'category':\")\n",
    "print(category_counts)"
   ]
  },
  {
   "cell_type": "markdown",
   "id": "37e9ddba",
   "metadata": {},
   "source": [
    "**Visualization**\n",
    "\n",
    "Create a bar chart to visualize the distribution of YouTube channels across unique categories."
   ]
  },
  {
   "cell_type": "code",
   "execution_count": null,
   "id": "72f5632e",
   "metadata": {},
   "outputs": [],
   "source": [
    "# create a bar chart to visualize the distribution of YouTube channels across categories\n",
    "plt.figure(figsize=(12, 6))  # Adjust the figure size\n",
    "ax = sns.barplot(x=category_counts.values, y=category_counts.index, palette=\"viridis\", orient=\"h\")\n",
    "ax.set(xlabel='Number of Channels', ylabel='Category')\n",
    "plt.title('Distribution of YouTube Channels Across Categories')\n",
    "\n",
    "# Add data labels to the right of each bar for readability\n",
    "for p in ax.patches:\n",
    "    width = p.get_width()\n",
    "    ax.annotate(f'{int(width)}', xy=(width, p.get_y() + p.get_height() / 2), ha='left', va='center', fontsize=9, color='black')\n",
    "\n",
    "plt.tight_layout()  # Ensure labels and titles fit in the plot area\n",
    "plt.show()\n"
   ]
  },
  {
   "cell_type": "markdown",
   "id": "79acb7bd",
   "metadata": {},
   "source": [
    "**Conclusion**\n",
    "\n",
    "Notably, the Entertainment category stands out as the most prominent, encompassing approximately 20% of the channels, totaling around 212 channels. Following closely is the Music category, with 175 channels falling under this classification. The next three top categories include People & Blogs, Gaming, and Comedy. It's interesting to note that despite the Pets and Animals category being among the highest earners, it is represented by only 2 channels in our dataset, underscoring the niche nature of this content within the YouTube landscape."
   ]
  },
  {
   "cell_type": "markdown",
   "id": "a8c4684b",
   "metadata": {},
   "source": [
    "### 8. What is the distribution of YouTube channels by their country of origin in the dataset? Retrieve the top 15 countries.\n",
    "\n",
    "Description:\n",
    "- aims to identify the top 15 countries with most amount of channels.\n",
    "\n",
    "Variables:\n",
    "- `Country`\n",
    "- `Youtube Channels`"
   ]
  },
  {
   "cell_type": "markdown",
   "id": "fe1b5735",
   "metadata": {},
   "source": [
    "**Numerical Summary**\n",
    "\n",
    "Get the frequency of YouTube channels from each country.\n",
    "\n",
    "Retrieve the top 15 countries with most frequency of YouTube channels."
   ]
  },
  {
   "cell_type": "markdown",
   "id": "9b690c75",
   "metadata": {},
   "source": [
    "country_counts = youtube_df['Country'].value_counts()"
   ]
  },
  {
   "cell_type": "code",
   "execution_count": null,
   "id": "5df00eb2",
   "metadata": {},
   "outputs": [],
   "source": [
    "top_15_countries = country_counts[:15]\n",
    "\n",
    "top_15_countries"
   ]
  },
  {
   "cell_type": "markdown",
   "id": "ff996957",
   "metadata": {},
   "source": [
    "**Visualization**\n",
    "\n",
    "Create a bar chart to visualize the distribution of YouTube channels by country – showing only the top 15."
   ]
  },
  {
   "cell_type": "code",
   "execution_count": null,
   "id": "be2efc04",
   "metadata": {},
   "outputs": [],
   "source": [
    "plt.figure(figsize=(12, 6))  # Adjust the figure size\n",
    "ax = sns.barplot(x=top_15_countries.values, y=top_15_countries.index, palette=\"viridis\", orient=\"h\")\n",
    "ax.set(xlabel='Number of Channels', ylabel='Country')\n",
    "plt.title('Distribution of YouTube Channels Across Countries')\n",
    "\n",
    "# Add data labels to the right of each bar for readability\n",
    "for p in ax.patches:\n",
    "    width = p.get_width()\n",
    "    ax.annotate(f'{int(width)}', xy=(width, p.get_y() + p.get_height() / 2), ha='left', va='center', fontsize=9, color='black')\n",
    "\n",
    "plt.tight_layout()  # Ensure labels and titles fit in the plot area\n",
    "plt.show()"
   ]
  },
  {
   "cell_type": "markdown",
   "id": "e752e824",
   "metadata": {},
   "source": [
    "**Conclusion**\n",
    "\n",
    "The distribution of channels in our exploratory data analysis reveals a clear dominance by the United States and India, with the United States leading with 306 channels and India following closely with approximately 167 channels. Beyond these two leaders, the distribution becomes less pronounced, with countries like Brazil, the United Kingdom, Mexico, and others falling within a range of approximately 65 channels, showing a less significant presence in this context."
   ]
  },
  {
   "cell_type": "markdown",
   "id": "8ff313ab",
   "metadata": {},
   "source": []
  },
  {
   "cell_type": "markdown",
   "id": "82c7d11b",
   "metadata": {},
   "source": [
    "# Research Question\n",
    "    This section of the Jupyter Notebook contains this study's Research Question that we wish to answer based from our results and findings from the Exploratory Data Ananlysis."
   ]
  },
  {
   "cell_type": "markdown",
   "id": "3ff218ff",
   "metadata": {},
   "source": [
    "    After careful consideration of our observations and analysis, we want to answer the following research question.\n",
    "### What are the key factors that makes a YouTube Channel Successfull?\n",
    "\n",
    "#### In connection with the EDA's...\n",
    "Based on our exploratory data analysis, it is evident that determining the success of a YouTube channel is a wide ranging task; it is not solely reliant on one variable. Our findings reveal that a channel can excel in certain metrics while falling short in others. A noteworthy case in point is the earnings of successful YouTube channels, where some channels with high view and subscriber counts may generate minimal or no revenue due to certain reasons, and conversely, some less prominent channels might generate substantial earnings. with that said, there are some metrics that do have some sort of correlation with each other. The positive correlation between subscriber count and view count for a YouTube channel means that having a higher subscriber count means having a higher view count. \n",
    "\n",
    "Our data analysis suggests that there are potential factors that have a positive correlation with the metrics that determine the success of a YouTube channel. These factors include a channel’s category of content and country origin. However, further study is needed to specifically find the correlation of a potential factor to each given metric of success.\n",
    "\n",
    "\n",
    "#### Description:\n",
    "\n",
    "- Analyzing the observations from our exploratory data analysis, we have observed that there are existing key factors that explains the high values in some the YouTube Metrics\n",
    "- A YouTube Channel’s success can be derived from these existing factors which explains why a given YouTube Channel’s Analytics considers metrics such as impressions, click-through, likes, shares, view count, subscriber, and the list goes on. Youtube Channel Analytics is a bird’s eye view to monitor its channel vitals, like real-time views, total views, watch time, subscribers, etc. It is perfect for getting a performance overview over a period at a quick glance.\n",
    "- In consideration of YouTube's Algorithm, it also looks at the demography of viewer's video relevance and category and recommends it to similar audiences. \n",
    "- In addition, considering a success metric that will determine “success” for a youtube video, this would include subscribers, video views, earnings, rankings(overall and country). We test out other parameters in the dataset that we can consider “factors”, this could be country, population count of the country, category and category rank, education attainment, urban population, employment rate.\n",
    "\n",
    "### Significance of the Study\n",
    "\n",
    "    In determining the factors that enhances a YouTube Channel’s success, it carries substantial importance on various fronts. It provides practical guidance for content creators, empowering them to make data-driven choices about their content and strategies. This research has broader industry implications as it aids businesses in optimizing their marketing endeavors on the YouTube platform. Moreover, unraveling these success factors contributes to the academic understanding of digital media, informs evidence-based decision-making, and can potentially influence policies and regulations pertaining to online content. This study could extend its impact to a wider spectrum, offering insights into the dynamics of content creation and user engagement in the digital realm, making it a multidimensional and highly pertinent field of inquiry.\n",
    "\n"
   ]
  },
  {
   "cell_type": "markdown",
   "id": "75031a09",
   "metadata": {},
   "source": [
    "# Phase 2\n",
    "\n",
    "    As we delve into the second phase of our case study on Global YouTube Statistics, we will be focusing on three interconnected sections: data modeling, statistical inference, and insights and conclusions. \n",
    "\n",
    "This phase of our study is dedicated to unraveling the intricate web of data that underlies the vast YouTube ecosystem, drawing insightful conclusions from the analysis, and shedding light on the broader implications for content creators, consumers, and the platform itself. By meticulously examining the data and applying rigorous statistical techniques, we aim to uncover the patterns, trends, and behaviors that define the global YouTube landscape, ultimately providing valuable insights into the dynamic and ever-expanding world of online video content."
   ]
  },
  {
   "cell_type": "markdown",
   "metadata": {},
   "source": [
    "## Dependent and Independent Variable\n",
    "    In this notebook, our selected dataset and based from our research question, yields us the following variables...\n",
    "\n",
    "### Dependent Variable \n",
    "- **`subscribers (millions)`**: Number of subscribers to the channel\n",
    "    - **`rank`**: Position of the YouTube channel based on the number of subscribers\n",
    "\n",
    "\n",
    "- **`video views (millions)`**: Overall count views to the channel\n",
    "    - **`video_views_rank`**: Ranking of the channel based on total video views\n",
    "\n",
    "\n",
    "- **`earnings`**: Total earnings of the youtuber\n",
    "    - **`Monthly Earnings`**:\n",
    "        - **`lowest_monthly_earnings`**: Lowest estimated monthly earnings from the channel in Dollars\n",
    "        - **`highest_monthly_earnings`**: Highest estimated monthly earnings from the channel in Dollars\n",
    "    - **`Yearly Earnings`**:\n",
    "        - **`lowest_yearly_earnings`**: Lowest estimated yearly earnings from the channel in Dollars\n",
    "        - **`highest_yearly_earnings`**: Highest estimated yearly earnings from the channel in Dollars \n",
    "\n",
    "### Independent Variables\n",
    "- **`Youtuber`**: Name of the YouTube channel\n",
    "- **`category`**: Category or niche of the channel\n",
    "- **`uploads`**: Total number of videos uploaded on the channel\n",
    "- **`Country`**: Country where the YouTube channel originates\n",
    "- **`video_views_for_the_last_30_days`**: Total video views in the last 30 days\n",
    "- **`Population (millions)`**: Total population of the country\n",
    "- **`Unemployment rate`**: Unemployment rate in the country %\n",
    "- **`Urban_population`**: Percentage of the population living in urban areas %\n",
    "- **`created_year`**: Year when the YouTube channel was created\n",
    "- **`created_month`**: Month when the YouTube channel was created\n",
    "\n"
   ]
  },
  {
   "cell_type": "markdown",
   "id": "03d73d2d",
   "metadata": {},
   "source": [
    "## Data Modelling\n",
    "\n",
    "In the data modeling section of our study, we focus on constructing a visual models to capture the intricacies of the dataset. \n",
    "\n",
    "### Objective\n",
    "Our primary objective here is to gather and organize a diverse set of data points, including viewership statistics, engagement metrics, demographics, and content categories. Through data cleaning, transformation, and structuring, we create a structured dataset that forms the foundation for our subsequent statistical analyses. This structured data helps unveil hidden patterns and relationships within the vast dataset. By methodically representing the characteristics of YouTube content, creators, and viewers, we pave the way for deeper insights into the platform's dynamics, leading to a more comprehensive understanding of the factors driving the global YouTube phenomenon.\n",
    "\n"
   ]
  },
  {
   "cell_type": "markdown",
   "metadata": {},
   "source": [
    "### Scaling the Data\n",
    "\n",
    "In this project, the user performed data preprocessing to prepare the data for analysis. Specifically, outlier detection and removal were performed on several columns including:\n",
    " - **`subscribers (millions)`**\n",
    " - **`uploads`**\n",
    " - **`Population (millions)`**\n",
    " - **`created_year`**\n",
    " - **`video views (millions)`**\n",
    " - **`average_yearly_earnings`**\n",
    " \n",
    "A z-score threshold of 3 standard deviations from the mean was employed during outlier detection and removal in the data preprocessing phase. This specific threshold was chosen for several reasons:\n",
    " - A threshold of 3 standard deviations helps ensure that only data points significantly deviating from the mean are flagged as outliers.\n",
    " - It allows for the removal of extreme values while retaining a sufficient amount of data for a meaningful analysis.\n",
    " - By removing outliers using a z-score threshold of 3, the subsequent normalization process is less likely to be skewed by these extreme values, leading to a more accurate representation of the data distribution.\n",
    "\n",
    " This was done to ensure the accuracy of the data and to address any potential skewness or bias in the data. This was a necessary process since we plan on using normalization on the data. Normalization tends to be susceptible to outliers hence their removal.\n",
    "\n"
   ]
  },
  {
   "cell_type": "code",
   "execution_count": null,
   "metadata": {},
   "outputs": [],
   "source": [
    "# First, we will get the average monthly and yearly earnings that will be used for the following hypotheses\n",
    "\n",
    "# Add the Average Earnings columns to the list of columns to scale\n",
    "youtube_df['average_yearly_earnings'] = (youtube_df['lowest_yearly_earnings'] + youtube_df['highest_yearly_earnings']) / 2\n",
    "\n",
    "column_names = ['subscribers (millions)', 'uploads', 'Population (millions)', 'created_year', 'video views (millions)', 'average_yearly_earnings']\n",
    "z_score_threshold = 3\n",
    "filtered_df = youtube_df.copy()\n",
    "\n",
    "for column_name in column_names:\n",
    "    column_data = filtered_df[column_name]\n",
    "    filtered_df = filtered_df[(np.abs(stats.zscore(column_data)) < z_score_threshold)]\n",
    "\n",
    "youtube_df = filtered_df\n",
    "\n",
    "youtube_df"
   ]
  },
  {
   "cell_type": "markdown",
   "metadata": {},
   "source": [
    "Additionally, normalization was performed on the said data to address any potential issues with scale and distribution. This was performed on several columns including:\n",
    " - **`subscribers (millions)`**\n",
    " - **`uploads`**\n",
    " - **`Population (millions)`**\n",
    " - **`created_year`**\n",
    " - **`video views (millions)`**\n",
    " - **`average_yearly_earnings`**\n",
    "\n",
    "This crucial step was taken to standardize the scale and distribution of the data, ensuring a fair comparison across variables. Normalization is particularly important when employing t-tests to assess hypotheses.\n",
    "\n",
    "Normalization aids in creating a level playing field for variables with different units and ranges, allowing the subsequent t-tests to provide meaningful results. By transforming the data to a common scale, the impact of varying magnitudes among the features is minimized, preventing any single variable from disproportionately influencing the outcomes of the statistical tests.\n",
    "\n",
    "The t-tests, in turn, rely on the assumption that the data is approximately normally distributed. Normalization contributes to meeting this assumption, enhancing the reliability of the t-test results. The calculated scores and p-values from the t-tests are crucial in evaluating whether to accept or reject the null and alternative hypotheses, providing valuable insights into the significance of observed differences or relationships within the data."
   ]
  },
  {
   "cell_type": "code",
   "execution_count": null,
   "metadata": {},
   "outputs": [],
   "source": [
    "from sklearn.preprocessing import MinMaxScaler\n",
    "\n",
    "# Specify the columns you want to normalize\n",
    "column_names = ['subscribers (millions)', 'uploads', 'Population (millions)', 'created_year', 'video views (millions)', 'average_yearly_earnings']\n",
    "\n",
    "# Create a new DataFrame with only the selected columns\n",
    "selected_columns_df = youtube_df[column_names]\n",
    "\n",
    "# Initialize the MinMaxScaler\n",
    "scaler = MinMaxScaler()\n",
    "\n",
    "# Perform normalization on the selected columns\n",
    "normalized_data = scaler.fit_transform(selected_columns_df)\n",
    "\n",
    "# Create a new DataFrame with the normalized data\n",
    "normalized_df = pd.DataFrame(normalized_data, columns=column_names)"
   ]
  },
  {
   "cell_type": "markdown",
   "metadata": {},
   "source": [
    "### Histogram Models "
   ]
  },
  {
   "cell_type": "code",
   "execution_count": null,
   "metadata": {},
   "outputs": [],
   "source": [
    "# Plotting the histogram\n",
    "plt.hist(youtube_df['subscribers (millions)'], bins=15, edgecolor='black')\n",
    "\n",
    "# Adding labels and title\n",
    "plt.xlabel('Subscriber Count (millions)')\n",
    "plt.ylabel('Frequency')\n",
    "plt.title('Histogram of Subscriber Count')\n",
    "\n",
    "# Displaying the histogram\n",
    "plt.show()\n"
   ]
  },
  {
   "cell_type": "code",
   "execution_count": null,
   "metadata": {},
   "outputs": [],
   "source": [
    "# Plotting the histogram\n",
    "plt.hist(youtube_df['video views (millions)'], bins=15, edgecolor='black')\n",
    "\n",
    "# Adding labels and title\n",
    "plt.xlabel('Video Views (millions)')\n",
    "plt.ylabel('Frequency')\n",
    "plt.title('Histogram of Video Views')\n",
    "\n",
    "# Displaying the histogram\n",
    "plt.show()\n",
    "\n"
   ]
  },
  {
   "cell_type": "code",
   "execution_count": null,
   "metadata": {},
   "outputs": [],
   "source": [
    "# Plotting the histogram\n",
    "plt.hist(youtube_df['average_yearly_earnings'], bins=15, edgecolor='black')\n",
    "\n",
    "# Adding labels and title\n",
    "plt.xlabel('Average Yearly Earnings (millions)')\n",
    "plt.ylabel('Frequency')\n",
    "plt.title('Histogram of Average Yearly Earnings')\n",
    "\n",
    "# Displaying the histogram\n",
    "plt.show()\n"
   ]
  },
  {
   "cell_type": "markdown",
   "id": "400bba25",
   "metadata": {},
   "source": [
    "## Statistical Inference\n",
    "\n",
    "In the statistical inference section of our study, we delve into the heart of our data analysis, seeking to draw meaningful conclusions and insights from the structured YouTube dataset. Through a rigorous application of statistical techniques and methodologies, we aim to extract valuable information about the platform's performance, trends, and user behaviors. Statistical inference allows us to identify patterns, correlations, and dependencies within the data, offering answers to critical questions about user engagement, content preferences, and the impact of various factors on YouTube's success.\n",
    "\n",
    "By conducting hypothesis tests, regression analyses, and other statistical procedures, we can make informed assessments of the relationships between different variables. Moreover, we explore the significance of various factors, such as video length, publication time, and audience demographics, in influencing viewership and engagement. This section of our study enables us to provide evidence-based insights into the factors contributing to the dynamics of YouTube's global ecosystem, helping content creators, businesses, and researchers better understand how to navigate and succeed in the ever-evolving world of online video content."
   ]
  },
  {
   "cell_type": "markdown",
   "metadata": {},
   "source": [
    "## Hypothesis 1\n",
    "\n",
    "    In this section of the notebook, the group aims to conduct a statistical analysis to investigate potential associations or dependencies between certain variables within the dataset with a Youtuber’s Subscriber Count. The goal is to assess whether specific factors exhibit a statistically significant relationship with the ranking."
   ]
  },
  {
   "cell_type": "markdown",
   "id": "a30f01b9",
   "metadata": {},
   "source": [
    "### Hypothesis 1.1:  Is Subscriber Count associated/dependent with the channel’s country of origin?\n",
    "    In determining whether a Youtuber's Subscriber Count is associated with the channel's country of origin, the group utilizes a chi-square test with a significance level, the investigation assesses if there is a dependency between these variables. By exploring the relationship, the study examines how geographic elements, such as cultural preferences and regional trends, may influence the Subscriber Count. The focus is on detecting meaningful associations or dependencies between the two variables.\n",
    "\n",
    "**`Null Hypothesis:`** There is no significant association or dependence between the Subscriber Count and the channel's country of origin.\n",
    "\n",
    "**`Alternative Hypothesis:`** There is a significant association or dependence between the rank and the channel's country of origin.\n"
   ]
  },
  {
   "cell_type": "code",
   "execution_count": null,
   "id": "d2501727",
   "metadata": {},
   "outputs": [],
   "source": [
    "# Create a table to show the Youtube channels with the highest number of subscribers and their country of origin.\n",
    "hp1_1_table = pd.crosstab(youtube_df['subscribers (millions)'], youtube_df['Country'])\n",
    "hp1_1_table\n"
   ]
  },
  {
   "cell_type": "code",
   "execution_count": null,
   "id": "422c4a1e",
   "metadata": {},
   "outputs": [],
   "source": [
    "chi2, p, degrees_of_freedom, expected = chi2_contingency(hp1_1_table)\n",
    "\n",
    "print(\"Chi-Square Statistic:\", chi2)\n",
    "print(\"P-value:\", p)\n",
    "print(\"Degrees of Freedom:\", degrees_of_freedom)\n",
    "print(\"Expected Frequencies Table: \\n\", expected)"
   ]
  },
  {
   "cell_type": "markdown",
   "id": "f4a870a7",
   "metadata": {},
   "source": [
    "#### Findings and Results for Hypothesis 1.1\n",
    "\n",
    "   Based on the results and findings of the chi-square test investigating the association between a Youtuber's Subscriber Count and the channel's country of origin, the Chi-Square Statistic yielded a value of **`[Insert Value]`**, indicating the strength of association between the variables. The associated p-value, calculated as **`[Insert Value]`**, represents the probability of obtaining the observed results under the assumption of no association. Having the degrees of freedom calculated at **`[Insert Value]`**, the Chi-Square Statistic suggests **`[Insert interpretation]`**, signifying the **`[Nature/Direction]`** of the association. \n",
    "   \n",
    "   In summary, these findings indicate that **`[insert concise summary of the main results and their implications for Hypothesis 1.1]]`** and we therefore **`[reject or do not reject]`** the the null hypothesis.\n",
    "\n"
   ]
  },
  {
   "cell_type": "markdown",
   "id": "0fef0c45",
   "metadata": {},
   "source": [
    "### Hypothesis 1.2:  Is rank associated/dependent with the channel’s upload count?\n",
    "    In determining whether there exists a statistically significant relationship between the rank of YouTube channels and their upload count. Upload count serves as a proxy for the frequency and consistency of content production, which could influence viewer engagement and, consequently, a channel's rank The group's focus is to investigate whether the frequency of content uploads has a discernible association or dependency on a channel's ranking . This exploration is essential for understanding the potential association between a channel's upload activity and its perceived popularity or success. \n",
    "\n",
    "**`Null Hypothesis:`** There is no association or dependency between the rank of Youtube Channels and the channel's upload count\n",
    "\n",
    "**`Alternative Hypothesis:`** There is a significant association or dependency between the rank of channels and their country of origin.\n"
   ]
  },
  {
   "cell_type": "code",
   "execution_count": null,
   "id": "a28a89b4",
   "metadata": {},
   "outputs": [],
   "source": [
    "data = {'subscribers': normalized_df['subscribers (millions)'],\n",
    "        'uploads': normalized_df['uploads']}\n",
    "df = pd.DataFrame(data)\n",
    "\n",
    "t_stat, p_value = stats.ttest_ind(df['subscribers'], df['uploads'])\n",
    "\n",
    "print(\"t-statistic =\", t_stat)\n",
    "print(\"p-value =\", p_value)"
   ]
  },
  {
   "cell_type": "markdown",
   "id": "9fca1d90",
   "metadata": {},
   "source": [
    "#### Findings and Results for Hypothesis 1.2\n",
    "\n",
    "   Based on the results and findings of the T-test statistic investigating the association between a Youtuber's Subscriber Count and the channel's upload count, the t-test statistic yielded a value of **`13.6543`**. The associated p-value, calculated as **`4.155`**, represents the probability of obtaining the observed results under the assumption of no association. The test statistic suggests **`[Insert interpretation]`**, signifying the **`[Nature/Direction]`** of the association. \n",
    "   \n",
    "   In summary, these findings indicate that **`[insert concise summary of the main results and their implications for Hypothesis 1.2]]`** and we therefore **`do not reject`** the the null hypothesis.\n",
    "\n",
    "\n",
    "*placeholder results, i saved it here just in case -lui*\n",
    "mali daw toh? idk... nagbago daw eh.. -lui again\n",
    "\n",
    "Chi-Square Statistic: 211302.00000000003\n",
    "P-value: 0.34532206754248224\n",
    "Degrees of Freedom: 211044\n",
    "\n",
    "We accept the null hypothesis."
   ]
  },
  {
   "cell_type": "markdown",
   "metadata": {},
   "source": [
    "### Hypothesis 1.3:  Is Subscriber Count associated/dependent with the channel’s category?\n",
    "    In investigating the existence of an association or dependence between a Youtuber's Subscriber Count and the category of their channel. THe group's aim is to discern whether the content genre, represented by the channel's category, significantly influences the number of subscribers it attracts. This exploration is crucial for understanding the connection between a channel's content type and its perceived popularity, as measured by the Subscriber Count. It suggests that the channel's category plays a pivotal role in shaping its Subscriber Count. Diverse content genres attract varied audiences, and by examining the association between Subscriber Count and channel category, the analysis seeks to unveil whether specific categories tend to attract higher subscriber numbers. This understanding provides valuable insights for content creators aiming to optimize their channel's category for enhanced subscriber engagement and overall success on the platform.\n",
    "\n",
    "**`Null Hypothesis:`** There is no association or dependence between the Subscriber Count and the channel's category.\n",
    "\n",
    "**`Alternative Hypothesis:`** There is a significant association or dependence between the Subscriber Count and the channel's category.\n"
   ]
  },
  {
   "cell_type": "code",
   "execution_count": null,
   "metadata": {},
   "outputs": [],
   "source": [
    "hp1_3_table = pd.crosstab(youtube_df['subscribers (millions)'], youtube_df['category'])\n",
    "hp1_3_table"
   ]
  },
  {
   "cell_type": "code",
   "execution_count": null,
   "metadata": {},
   "outputs": [],
   "source": [
    "\n",
    "chi2, p, degrees_of_freedom, expected = chi2_contingency(hp1_3_table)\n",
    "\n",
    "print(\"Chi-Square Statistic:\", chi2) # too high\n",
    "print(\"P-value:\", p) # too high\n",
    "print(\"Degrees of Freedom:\", degrees_of_freedom) # too high\n",
    "print(\"Expected Frequencies Table: \\n\", expected)"
   ]
  },
  {
   "cell_type": "markdown",
   "metadata": {},
   "source": [
    "#### Findings and Results for Hypothesis 1.3\n",
    "\n",
    "   Based on the results and findings of the chi-square test investigating the association between a Youtuber's Subscriber Count and the Youtube channel's content category, the Chi-Square Statistic yielded a value of **`[Insert Value]`**, indicating the strength of association between the variables. The associated p-value, calculated as **`[Insert Value]`**, represents the probability of obtaining the observed results under the assumption of no association. Having the degrees of freedom calculated at **`[Insert Value]`**, the Chi-Square Statistic suggests **`[Insert interpretation]`**, signifying the **`[Nature/Direction]`** of the association. \n",
    "   \n",
    "   In summary, these findings indicate that **`[insert concise summary of the main results and their implications for Hypothesis 1.3]]`** and we therefore **`[reject or do not reject]`** the the null hypothesis.\n",
    "\n"
   ]
  },
  {
   "cell_type": "markdown",
   "metadata": {},
   "source": [
    "### Hypothesis 1.4:  Is Subscriber Count associated or dependent with the population of the country of origin?\n",
    "    In exploring the existence of association or dependency between a Youtuber's Subscriber Count and the population of their country of origin. The obbective is mainly to investigate whether the demographic size of a country has a statistically significant impact on the number of subscribers a Youtuber attracts, aiming to uncover any association or dependency between Subscriber Count and the population of the country of origin. Population of a Youtuber's country of origin plays a substantial role in shaping their Subscriber Count. A larger population might suggest a broader potential audience, while a smaller population could imply a more niche viewership. By scrutinizing the association between Subscriber Count and the population of the country of origin, the analysis seeks to reveal whether Youtubers from countries with larger populations tend to have higher subscriber numbers. Understanding this potential association provides valuable insights into the broader demographic factors that may contribute to a Youtuber's popularity.\n",
    "\n",
    "**`Null Hypothesis:`** There is no association or dependence between the Subscriber Count and the population of the country of origin.\n",
    "\n",
    "**`Alternative Hypothesis:`** There is a significant association or dependence between the Subscriber Count and the population of the country of origin.\n",
    "\n"
   ]
  },
  {
   "cell_type": "code",
   "execution_count": null,
   "metadata": {},
   "outputs": [],
   "source": [
    "data = {'subscribers': normalized_df['subscribers (millions)'],\n",
    "        'population': normalized_df['Population (millions)']}\n",
    "df = pd.DataFrame(data)\n",
    "\n",
    "t_stat, p_value = stats.ttest_ind(df['subscribers'], df['population'])\n",
    "\n",
    "print(\"t-statistic =\", t_stat)\n",
    "print(\"p-value =\", p_value)\n"
   ]
  },
  {
   "cell_type": "markdown",
   "metadata": {},
   "source": [
    "#### Findings and Results for Hypothesis 1.4\n",
    "\n",
    "   Based on the results and findings of the T-test statistic investigating the association between a Youtuber's Subscriber Count and the population's country of origin, the t-test statistic yielded a value of **`-12.5363`**. The associated p-value, calculated as **`2.2874`**, represents the probability of obtaining the observed results under the assumption of no association. The test statistic suggests **`[Insert interpretation]`**, signifying the **`[Nature/Direction]`** of the association. \n",
    "   \n",
    "   In summary, these findings indicate that **`[insert concise summary of the main results and their implications for Hypothesis 1.2]]`** and we therefore **`do not reject`** the the null hypothesis.\n",
    "\n"
   ]
  },
  {
   "cell_type": "markdown",
   "metadata": {},
   "source": [
    "### Hypothesis 1.5:  Is Subscriber Count associated/dependent with the channel’s creation date?\n",
    "    In exploring the potential connection between a Youtuber's Subscriber Count and the channel's creation date. The main goal is to determine if the age of a channel, represented by its creation date, has a significant association the number of subscribers it attracts. The hypothesis posits that the creation date of a YouTube channel carries meaningful implications for its Subscriber Count, reflecting factors such as platform tenure, visibility, reputation, and subscriber acquisition trends over time. Seeking to uncover whether older channels generally boast higher subscriber numbers or if newer channels can also achieve notable subscriber engagement.\n",
    "\n",
    "**`Null Hypothesis:`** There is no association or dependence between the Subscriber Count and the channel's creation date.\n",
    "\n",
    "**`Alternative Hypothesis:`** There is a significant association or dependence between the Subscriber Count and the channel's creation date.\n"
   ]
  },
  {
   "cell_type": "code",
   "execution_count": null,
   "metadata": {},
   "outputs": [],
   "source": [
    "data = {'subscribers': normalized_df['subscribers (millions)'],\n",
    "        'created_year': normalized_df['created_year']}\n",
    "df = pd.DataFrame(data)\n",
    "\n",
    "t_stat, p_value = stats.ttest_ind(df['subscribers'], df['created_year'])\n",
    "\n",
    "print(\"t-statistic =\", t_stat)\n",
    "print(\"p-value =\", p_value)"
   ]
  },
  {
   "cell_type": "markdown",
   "metadata": {},
   "source": [
    "#### Findings and Results for Hypothesis 1.5\n",
    "\n",
    "   Based on the results and findings of the T-test statistic investigating the association between a Youtuber's Subscriber Count and the channel's creation date, the t-test statistic yielded a value of **`-30.4090`**. The associated p-value, calculated as **`9.4169`**, represents the probability of obtaining the observed results under the assumption of no association. The test statistic suggests **`[Insert interpretation]`**, signifying the **`[Nature/Direction]`** of the association. \n",
    "   \n",
    "   In summary, these findings indicate that **`[insert concise summary of the main results and their implications for Hypothesis 1.2]]`** and we therefore **`do not reject`** the the null hypothesis."
   ]
  },
  {
   "cell_type": "markdown",
   "metadata": {},
   "source": [
    "## Hypothesis 2\n",
    "\n",
    "    In this section, we intend to perform a statistical analysis to assess potential associations or dependencies between various variables within the dataset with the Youtuber's total number of video views. The objective is to determine whether specific factors demonstrate a statistically significant relationship with the total count of video views for a Youtuber.\n"
   ]
  },
  {
   "cell_type": "markdown",
   "metadata": {},
   "source": [
    "### Hypothesis 2.1:  Is a Youtube Channel’s video views associated or dependent with the channel’s country of origin?\n",
    "    In innvestigating the potential associations or dependencies between a Youtuber's total number of video views and the country of origin of their channel, our  objective is to determine whether the geographic location of the channel has a statistically significant relationship with the overall count of video views. By examining the association between video views and the country of origin, the analysis seeks to identify whether specific countries are more likely to yield higher video views for a Youtuber. This exploration provides valuable insights into the geographical factors that shape a channel's video viewership.\n",
    "\n",
    "**`Null Hypothesis:`** There is no association or dependence between the 'Video Views' and the Country origin of the YouTube channel.\n",
    "\n",
    "**`Alternative Hypothesis:`** There is a significant association or dependence between the 'Video Views' and the Country origin of the YouTube channel.\n"
   ]
  },
  {
   "cell_type": "code",
   "execution_count": null,
   "metadata": {},
   "outputs": [],
   "source": [
    "hp2_1_table = pd.crosstab(youtube_df['video views (millions)'], youtube_df['Country'])\n",
    "chi2, p, degrees_of_freedom, expected = chi2_contingency(hp2_1_table)\n",
    "\n",
    "print(\"Chi-Square Statistic:\", chi2)\n",
    "print(\"P-value:\", p)\n",
    "print(\"Degrees of Freedom:\", degrees_of_freedom)\n",
    "print(\"Expected Frequencies Table: \\n\", expected)"
   ]
  },
  {
   "cell_type": "markdown",
   "metadata": {},
   "source": [
    "#### Findings and Results for Hypothesis 2.1\n",
    "Based on the results and findings of the chi-square test investigating the association between a Youtuber's total number of video views and the country of origin of the channel, the Chi-Square Statistic yielded a value of **`[Insert Value]`**, indicating the strength of association between the variables. The associated p-value, calculated as **`[Insert Value]`**, represents the probability of obtaining the observed results under the assumption of no association. With the degrees of freedom calculated at **`[Insert Value]`**, the Chi-Square Statistic suggests a statistically significant association, signifying that the country of origin has a **`notable or no notable?`** notable impact on the total count of video views.\n",
    "\n",
    "In summary, these findings indicate that **`[insert concise summary of the main results and their implications for Hypothesis 2,1]]`** and we therefore **`[reject or do not reject]`** the the null hypothesis.\n",
    "\n",
    "##### Example Summarry\n",
    "In summary, these findings indicate that certain countries are more likely to generate higher video views for a Youtuber, highlighting the influence of geographic factors on video viewership. Therefore, we reject the null hypothesis, affirming that there is a significant association between a Youtuber's total number of video views and the country of origin of their channel. This suggests that the geographic location plays a meaningful role in shaping a Youtuber's overall video viewership.\n",
    "\n",
    "\n"
   ]
  },
  {
   "cell_type": "markdown",
   "metadata": {},
   "source": [
    "### Hypothesis 2.2: Is a channel’s video views associated/dependent with the channel’s upload count?\n",
    "    In exploring the potential relationship between a Youtuber's total number of video views and the upload count of their channel, our objective was is to investigate whether the frequency of content uploads, as indicated by the upload count, has a statistically significant association with the overall count of video views. the upload count of a YouTube channel significantly influences its total number of video views, with the frequency and consistency of content uploads playing a crucial role in impacting viewer engagement and contributing to the overall video viewership. By scrutinizing the association between video views and the upload count, we seek to determine whether channels with a higher upload count tend to attract more video views, providing valuable insights into the impact of content production frequency on a channel's overall video viewership.\n",
    "\n",
    "**`Null Hypothesis:`** There is no association between the 'upload count' and the ‘video views’ of the YouTube channel.\n",
    "\n",
    "**`Alternative Hypothesis:`** There is a significant association between the upload count of a channel and its ranking in video views.\n"
   ]
  },
  {
   "cell_type": "code",
   "execution_count": null,
   "metadata": {},
   "outputs": [],
   "source": [
    "data = {'video views': normalized_df['video views (millions)'],\n",
    "        'uploads': normalized_df['uploads']}\n",
    "df = pd.DataFrame(data)\n",
    "\n",
    "t_stat, p_value = stats.ttest_ind(df['uploads'], df['video views'])\n",
    "\n",
    "print(\"t-statistic =\", t_stat)\n",
    "print(\"p-value =\", p_value)"
   ]
  },
  {
   "cell_type": "markdown",
   "metadata": {},
   "source": [
    "#### Findings and Results for Hypothesis 2.2\n",
    "\n",
    "   Based on the results and findings of the T-test statistic investigating the association between a Youtuber's video views and the YouTube Channel's upload count, the t-test statistic yielded a value of **`-26.5936`**. The associated p-value, calculated as **`4.2711`**, represents the probability of obtaining the observed results under the assumption of no association. The test statistic suggests **`[Insert interpretation]`**, signifying the **`[Nature/Direction]`** of the association. \n",
    "   \n",
    "   In summary, these findings indicate that **`[insert concise summary of the main results and their implications for Hypothesis 1.2]]`** and we therefore **`do not reject`** the the null hypothesis."
   ]
  },
  {
   "cell_type": "markdown",
   "metadata": {},
   "source": [
    "### Hypothesis 2.3:  Is a channel’s video views associated/dependent with the population of the country of origin?\n",
    "    In investigating the potential relationship between a Youtuber's total number of video views and the population of their country of origin. Our objective is to examine whether the demographic size of a country has a statistically significant association with the total count of video views. This exploration aims to uncover whether there is a meaningful dependency between a channel's video viewership and the population of its country of origin. A population of a Youtuber's country of origin may play a significant role in influencing their total number of video views. The demographic size of a country can impact the potential audience base and viewer engagement. By scrutinizing the association between video views and the population of the country of origin, we reveal whether Youtubers from countries with larger populations tend to have higher video views. Understanding this potential association provides valuable insights into the broader demographic factors that may contribute to a Youtuber's overall video viewership.\n",
    "\n",
    "**`Null Hypothesis:`** There is no association between video views and the population of the country of origin.\n",
    "\n",
    "**`Alternative Hypothesis:`** There is a significant association between video views and the population of the country of origin.\n"
   ]
  },
  {
   "cell_type": "code",
   "execution_count": null,
   "metadata": {},
   "outputs": [],
   "source": [
    "data = {'video views': normalized_df['video views (millions)'],\n",
    "        'population': normalized_df['Population (millions)']}\n",
    "df = pd.DataFrame(data)\n",
    "\n",
    "t_stat, p_value = stats.ttest_ind(df['video views'], df['population'])\n",
    "\n",
    "print(\"t-statistic =\", t_stat)\n",
    "print(\"p-value =\", p_value)"
   ]
  },
  {
   "cell_type": "markdown",
   "metadata": {},
   "source": [
    "#### Findings and Results for Hypothesis 2.3\n",
    "\n",
    "   Based on the results and findings of the T-test statistic investigating the association between a Youtuber's video views and the population YouTube Channel's country of origin, the t-test statistic yielded a value of **`-3.141`**. The associated p-value, calculated as **`0.0017`**, represents the probability of obtaining the observed results under the assumption of no association. The test statistic suggests **`[Insert interpretation]`**, signifying the **`[Nature/Direction]`** of the association. \n",
    "   \n",
    "   In summary, these findings indicate that **`[insert concise summary of the main results and their implications for Hypothesis 1.2]]`** and we therefore **`do not reject`** the the null hypothesis."
   ]
  },
  {
   "cell_type": "markdown",
   "metadata": {},
   "source": [
    "### Hypothesis 2.4:  Is a channel’s video views associated/dependent with the channel’s creation date?\n",
    "\n",
    "    In exploring the potential relationship between a Youtuber's total number of video views and the creation date of their channel. We investigate whether the age of a channel, indicated by its creation date, has a statistically significant association with the overall count of video views. A YouTube channel's creation date significantly influences its total number of video views, with the age of the channel serving as an indicator of its establishment within the platform. This aspect may impact visibility, reputation, and viewer engagement over time. In uncovering whether older channels tend to have higher video views or if newer channels can also achieve significant viewership, understanding this potential association provides insights into the impact of a channel's longevity on its overall video viewership.\n",
    "\n",
    "**`Null Hypothesis:`** There is no association between video views and the creation date of the YouTube channel.\n",
    "\n",
    "**`Alternative Hypothesis:`** There is a significant association between video views and the creation date of the YouTube channel.\n"
   ]
  },
  {
   "cell_type": "code",
   "execution_count": null,
   "metadata": {},
   "outputs": [],
   "source": [
    "data = {'video views': normalized_df['video views (millions)'],\n",
    "        'created_year': normalized_df['created_year']}\n",
    "df = pd.DataFrame(data)\n",
    "\n",
    "t_stat, p_value = stats.ttest_ind(df['video views'], df['created_year'])\n",
    "\n",
    "print(\"t-statistic =\", t_stat)\n",
    "print(\"p-value =\", p_value)"
   ]
  },
  {
   "cell_type": "markdown",
   "metadata": {},
   "source": [
    "#### Findings and Results for Hypothesis 2.4\n",
    "\n",
    "   Based on the results and findings of the T-test statistic investigating the association between a Youtuber's video views and the YouTube Channel's creation date, the t-test statistic yielded a value of **`-17.0253`**. The associated p-value, calculated as **`1.3671`**, represents the probability of obtaining the observed results under the assumption of no association. The test statistic suggests **`[Insert interpretation]`**, signifying the **`[Nature/Direction]`** of the association. \n",
    "   \n",
    "   In summary, these findings indicate that **`[insert concise summary of the main results and their implications for Hypothesis 1.2]]`** and we therefore **`do not reject`** the the null hypothesis."
   ]
  },
  {
   "cell_type": "markdown",
   "metadata": {},
   "source": [
    "### Hypothesis 2.5:  Is a channel’s video views associated/dependent with the channel’s average yearly earnings?\n",
    "Description: In this analysis phase, the team investigates the potential relationship between a Youtuber's total number of video views and the channel's average yearly earnings. The primary goal is to determine whether the financial success of a channel, represented by its average yearly earnings, has a statistically significant association with the overall count of video views. The hypothesis suggests that a Youtuber's video views may be significantly linked to the average yearly earnings of their channel, with financial success serving as an indicator of popularity, content quality, and audience engagement. By examining the association between video views and average yearly earnings, the analysis seeks to unveil whether channels with higher video views tend to generate greater financial returns. This exploration provides valuable insights into the financial dynamics of a channel's success and its correlation with video viewership.\n",
    "\n",
    "**`Null Hypothesis:`** There is no association or dependence between a channel's video views and its average yearly earnings.\n",
    "\n",
    "**`Alternative Hypothesis:`** There is a significant association or dependence between a channel's video views and its average yearly earnings.\n"
   ]
  },
  {
   "cell_type": "code",
   "execution_count": null,
   "metadata": {},
   "outputs": [],
   "source": [
    "data = {'video views': normalized_df['video views (millions)'],\n",
    "        'average_yearly_earnings': normalized_df['average_yearly_earnings']}\n",
    "df = pd.DataFrame(data)\n",
    "\n",
    "t_stat, p_value = stats.ttest_ind(df['video views'], df['average_yearly_earnings'])\n",
    "\n",
    "print(\"t-statistic =\", t_stat)\n",
    "print(\"p-value =\", p_value)"
   ]
  },
  {
   "cell_type": "markdown",
   "metadata": {},
   "source": [
    "## Hypothesis 3"
   ]
  },
  {
   "cell_type": "markdown",
   "metadata": {},
   "source": [
    "### Hypothesis 3.1: Is  a channel’s average yearly earning associated with their category?\n",
    "Description:(placeholder only)\n",
    "\n",
    "**`Null Hypothesis:`** There is no association between a channel's average yearly earning and their category.\n",
    "\n",
    "\n",
    "**`Alternative Hypothesis:`** There is a significant association between a channel's average yearly earning and their category.\n"
   ]
  },
  {
   "cell_type": "code",
   "execution_count": null,
   "metadata": {},
   "outputs": [],
   "source": [
    "\n",
    "hp3_1_table = pd.crosstab(youtube_df['average_yearly_earnings'], youtube_df['category'])\n",
    "chi2, p, degrees_of_freedom, expected = chi2_contingency(hp3_1_table)\n",
    "\n",
    "print(\"Chi-Square Statistic:\", chi2)\n",
    "print(\"P-value:\", p)\n",
    "print(\"Degrees of Freedom:\", degrees_of_freedom)\n",
    "print(\"Expected Frequencies Table: \\n\", expected)"
   ]
  },
  {
   "cell_type": "markdown",
   "metadata": {},
   "source": [
    "### Hypothesis 3.2: Is a channel’s average yearly earning associated with the country of origin’s population?\n",
    "Description:(placeholder only)\n",
    "\n",
    "**`Null Hypothesis:`** There is no association between a channel's average yearly earning and the population of the country of origin.\n",
    "\n",
    "**`Alternative Hypothesis:`** There is a significant association between a channel's average yearly earning and the population of the country of origin.\n"
   ]
  },
  {
   "cell_type": "code",
   "execution_count": null,
   "metadata": {},
   "outputs": [],
   "source": [
    "data = {'average_yearly_earnings': normalized_df['average_yearly_earnings'],\n",
    "        'population': normalized_df['Population (millions)']}\n",
    "df = pd.DataFrame(data)\n",
    "\n",
    "t_stat, p_value = stats.ttest_ind(df['average_yearly_earnings'], df['population'])\n",
    "\n",
    "print(\"t-statistic =\", t_stat)\n",
    "print(\"p-value =\", p_value)"
   ]
  },
  {
   "cell_type": "markdown",
   "metadata": {},
   "source": [
    "### Hypothesis 3.3: Is a channel’s average yearly earning associated with the channel's country of origin?\n",
    "Description:(placeholder only)\n",
    "\n",
    "**`Null Hypothesis:`** There is no association between a channel's average yearly earning and the channel's country of origin.\n",
    "\n",
    "**`Alternative Hypothesis:`** There is a significant association between a channel's average yearly earning and the channel's country of origin.\n"
   ]
  },
  {
   "cell_type": "code",
   "execution_count": null,
   "metadata": {},
   "outputs": [],
   "source": [
    "hp3_3_table = pd.crosstab(youtube_df['average_yearly_earnings'], youtube_df['Country'])\n",
    "chi2, p, degrees_of_freedom, expected = chi2_contingency(hp3_3_table)\n",
    "\n",
    "print(\"Chi-Square Statistic:\", chi2)\n",
    "print(\"P-value:\", p)\n",
    "print(\"Degrees of Freedom:\", degrees_of_freedom)\n",
    "print(\"Expected Frequencies Table: \\n\", expected)"
   ]
  },
  {
   "cell_type": "markdown",
   "metadata": {},
   "source": [
    "### Hypothesis 3.4: Is a channel’s average yearly earning associated with the channel's upload count?\n",
    "Description:(placeholder only)\n",
    "\n",
    "**`Null Hypothesis:`** There is no association between a channel's average yearly earning and the channel's upload count.\n",
    "\n",
    "**`Alternative Hypothesis:`** There is a significant association between a channel's average yearly earning and the channel's upload count.\n",
    "\n"
   ]
  },
  {
   "cell_type": "code",
   "execution_count": null,
   "metadata": {},
   "outputs": [],
   "source": [
    "data = {'average_yearly_earnings': normalized_df['average_yearly_earnings'],\n",
    "        'uploads': normalized_df['uploads']}\n",
    "df = pd.DataFrame(data)\n",
    "\n",
    "t_stat, p_value = stats.ttest_ind(df['average_yearly_earnings'], df['uploads'])\n",
    "\n",
    "print(\"t-statistic =\", t_stat)\n",
    "print(\"p-value =\", p_value)"
   ]
  },
  {
   "cell_type": "markdown",
   "metadata": {},
   "source": [
    "### Hypothesis 3.5: Is a channel’s average yearly earning associated with the channel's creation date?\n",
    "Description:(placeholder only)\n",
    "\n",
    "**`Null Hypothesis:`** There is no association between a channel's average yearly earning and the channel's creation date.\n",
    "\n",
    "**`Alternative Hypothesis:`** There is a significant association between a channel's average yearly earning and the channel's creation date.\n"
   ]
  },
  {
   "cell_type": "code",
   "execution_count": null,
   "metadata": {},
   "outputs": [],
   "source": [
    "data = {'average_yearly_earnings': normalized_df['average_yearly_earnings'],\n",
    "        'created_year': normalized_df['created_year']}\n",
    "df = pd.DataFrame(data)\n",
    "\n",
    "t_stat, p_value = stats.ttest_ind(df['average_yearly_earnings'], df['created_year'])\n",
    "\n",
    "print(\"t-statistic =\", t_stat)\n",
    "print(\"p-value =\", p_value)"
   ]
  },
  {
   "cell_type": "markdown",
   "id": "3dc55084",
   "metadata": {},
   "source": [
    "## Insights and Conclusion"
   ]
  },
  {
   "cell_type": "markdown",
   "metadata": {},
   "source": []
  },
  {
   "cell_type": "markdown",
   "id": "9d5d9353",
   "metadata": {},
   "source": [
    "Clear"
   ]
  },
  {
   "cell_type": "markdown",
   "id": "0fd97b65",
   "metadata": {},
   "source": [
    "    - End of Document -"
   ]
  }
 ],
 "metadata": {
  "kernelspec": {
   "display_name": "Python 3 (ipykernel)",
   "language": "python",
   "name": "python3"
  },
  "language_info": {
   "codemirror_mode": {
    "name": "ipython",
    "version": 3
   },
   "file_extension": ".py",
   "mimetype": "text/x-python",
   "name": "python",
   "nbconvert_exporter": "python",
   "pygments_lexer": "ipython3",
   "version": "3.12.0"
  }
 },
 "nbformat": 4,
 "nbformat_minor": 5
}
